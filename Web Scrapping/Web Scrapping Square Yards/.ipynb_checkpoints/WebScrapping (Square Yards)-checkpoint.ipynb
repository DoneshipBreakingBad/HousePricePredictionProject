{
 "cells": [
  {
   "cell_type": "code",
   "execution_count": 1,
   "id": "20094f10",
   "metadata": {},
   "outputs": [],
   "source": [
    "# import libraries\n",
    "\n",
    "import pandas as pd\n",
    "import requests\n",
    "from bs4 import BeautifulSoup"
   ]
  },
  {
   "cell_type": "code",
   "execution_count": 2,
   "id": "4dfc28d6",
   "metadata": {},
   "outputs": [],
   "source": [
    "url = 'https://www.squareyards.com/sale/property-for-sale-in-bangalore?page=2'\n",
    "headers = {\n",
    "        'User-Agent': 'Mozilla/5.0 (Macintosh; Intel Mac OS X 10_15_7) AppleWebKit/537.36 (KHTML, like Gecko) Chrome/101.0.4951.64 Safari/537.36 Edg/101.0.1210.47'\n",
    "    }\n",
    "\n",
    "webpage = requests.get(url, headers=headers).text"
   ]
  },
  {
   "cell_type": "code",
   "execution_count": 3,
   "id": "53f0738e",
   "metadata": {},
   "outputs": [],
   "source": [
    "#webpage"
   ]
  },
  {
   "cell_type": "code",
   "execution_count": 4,
   "id": "a07b5f14",
   "metadata": {},
   "outputs": [],
   "source": [
    "soup = BeautifulSoup(webpage, 'lxml')"
   ]
  },
  {
   "cell_type": "code",
   "execution_count": 5,
   "id": "7807d977",
   "metadata": {},
   "outputs": [],
   "source": [
    "#print(soup.prettify())"
   ]
  },
  {
   "cell_type": "code",
   "execution_count": 6,
   "id": "d88abf99",
   "metadata": {},
   "outputs": [],
   "source": [
    "containers = soup.find_all('div', class_='tlTxtBdy')"
   ]
  },
  {
   "cell_type": "code",
   "execution_count": 7,
   "id": "db1c81e8",
   "metadata": {},
   "outputs": [
    {
     "data": {
      "text/plain": [
       "22"
      ]
     },
     "execution_count": 7,
     "metadata": {},
     "output_type": "execute_result"
    }
   ],
   "source": [
    "len(containers)"
   ]
  },
  {
   "cell_type": "code",
   "execution_count": 8,
   "id": "56e98bba",
   "metadata": {},
   "outputs": [],
   "source": [
    "title = [i.find('span').text for i in containers]"
   ]
  },
  {
   "cell_type": "code",
   "execution_count": 9,
   "id": "5a20c0a4",
   "metadata": {},
   "outputs": [
    {
     "data": {
      "text/plain": [
       "22"
      ]
     },
     "execution_count": 9,
     "metadata": {},
     "output_type": "execute_result"
    }
   ],
   "source": [
    "len(title)"
   ]
  },
  {
   "cell_type": "code",
   "execution_count": 10,
   "id": "71d59590",
   "metadata": {},
   "outputs": [],
   "source": [
    "price = [i.find('span', class_=\"tlPrc\").text for i in containers]"
   ]
  },
  {
   "cell_type": "code",
   "execution_count": 11,
   "id": "d2cd040f",
   "metadata": {},
   "outputs": [
    {
     "data": {
      "text/plain": [
       "22"
      ]
     },
     "execution_count": 11,
     "metadata": {},
     "output_type": "execute_result"
    }
   ],
   "source": [
    "len(price)"
   ]
  },
  {
   "cell_type": "code",
   "execution_count": 12,
   "id": "bb053904",
   "metadata": {},
   "outputs": [],
   "source": [
    "size = [i.find('div', class_=\"tlSqFt\").text for i in containers]"
   ]
  },
  {
   "cell_type": "code",
   "execution_count": 13,
   "id": "cfae3b83",
   "metadata": {},
   "outputs": [
    {
     "data": {
      "text/plain": [
       "22"
      ]
     },
     "execution_count": 13,
     "metadata": {},
     "output_type": "execute_result"
    }
   ],
   "source": [
    "len(size)"
   ]
  },
  {
   "cell_type": "code",
   "execution_count": 17,
   "id": "e1573fce",
   "metadata": {},
   "outputs": [],
   "source": [
    "final = pd.DataFrame()\n",
    "for j in range (1, 700):\n",
    "    url = 'https://www.squareyards.com/sale/property-for-sale-in-bangalore?page={}'.format(j)\n",
    "    headers = {\n",
    "        'User-Agent': 'Mozilla/5.0 (Macintosh; Intel Mac OS X 10_15_7) AppleWebKit/537.36 (KHTML, like Gecko) Chrome/101.0.4951.64 Safari/537.36 Edg/101.0.1210.47'\n",
    "    }\n",
    "    webpage = requests.get(url, headers=headers).text\n",
    "    \n",
    "    soup = BeautifulSoup(webpage, 'lxml')\n",
    "    \n",
    "    containers = soup.find_all('div', class_='tlTxtBdy')\n",
    "    \n",
    "    title = []\n",
    "    price = []\n",
    "    size = []\n",
    "\n",
    "    title = [i.find('span').text for i in containers]\n",
    "    price = [i.find('span', class_=\"tlPrc\").text for i in containers]\n",
    "    size = [i.find('div', class_=\"tlSqFt\").text for i in containers]\n",
    "    \n",
    "    d = {'title':title, 'price':price, 'size':size}\n",
    "    df = pd.DataFrame(d)\n",
    "    final = final.append(df)"
   ]
  },
  {
   "cell_type": "code",
   "execution_count": 18,
   "id": "ea0c0fb5",
   "metadata": {},
   "outputs": [],
   "source": [
    "final.to_excel('bangalore flat price(square yards).xlsx')"
   ]
  },
  {
   "cell_type": "code",
   "execution_count": 46,
   "id": "907a8618",
   "metadata": {},
   "outputs": [],
   "source": [
    "semifinal = pd.read_excel('bangalore flat price(square yards).xlsx')"
   ]
  },
  {
   "cell_type": "code",
   "execution_count": 47,
   "id": "50c2933c",
   "metadata": {},
   "outputs": [
    {
     "data": {
      "text/plain": [
       "8065"
      ]
     },
     "execution_count": 47,
     "metadata": {},
     "output_type": "execute_result"
    }
   ],
   "source": [
    "semifinal.duplicated().sum()"
   ]
  },
  {
   "cell_type": "code",
   "execution_count": 48,
   "id": "629587ec",
   "metadata": {},
   "outputs": [
    {
     "data": {
      "text/html": [
       "<div>\n",
       "<style scoped>\n",
       "    .dataframe tbody tr th:only-of-type {\n",
       "        vertical-align: middle;\n",
       "    }\n",
       "\n",
       "    .dataframe tbody tr th {\n",
       "        vertical-align: top;\n",
       "    }\n",
       "\n",
       "    .dataframe thead th {\n",
       "        text-align: right;\n",
       "    }\n",
       "</style>\n",
       "<table border=\"1\" class=\"dataframe\">\n",
       "  <thead>\n",
       "    <tr style=\"text-align: right;\">\n",
       "      <th></th>\n",
       "      <th>Unnamed: 0</th>\n",
       "      <th>title</th>\n",
       "      <th>price</th>\n",
       "      <th>size</th>\n",
       "    </tr>\n",
       "  </thead>\n",
       "  <tbody>\n",
       "    <tr>\n",
       "      <th>0</th>\n",
       "      <td>0</td>\n",
       "      <td>\\n Sriven Daksha Elite\\n1 BHK Flat\\nJigani\\n</td>\n",
       "      <td>\\n₹ 22 L\\n</td>\n",
       "      <td>607 Sq.Ft.</td>\n",
       "    </tr>\n",
       "    <tr>\n",
       "      <th>1</th>\n",
       "      <td>1</td>\n",
       "      <td>\\n Panchmukhi Paradise\\n3 BHK Flat\\nRajarajesh...</td>\n",
       "      <td>\\n₹ 1 Cr.\\n</td>\n",
       "      <td>1535 Sq.Ft.</td>\n",
       "    </tr>\n",
       "    <tr>\n",
       "      <th>2</th>\n",
       "      <td>2</td>\n",
       "      <td>\\n Puravankara Purva Venezia\\n3 BHK Flat\\nYela...</td>\n",
       "      <td>\\n₹ 1.12 Cr.\\n</td>\n",
       "      <td>1614 Sq.Ft.</td>\n",
       "    </tr>\n",
       "    <tr>\n",
       "      <th>3</th>\n",
       "      <td>3</td>\n",
       "      <td>\\n Sobha Royal Pavilion Phase 5\\n4 BHK Flat\\nS...</td>\n",
       "      <td>\\n₹ 2.84 Cr.\\n</td>\n",
       "      <td>2232 Sq.Ft.</td>\n",
       "    </tr>\n",
       "    <tr>\n",
       "      <th>4</th>\n",
       "      <td>4</td>\n",
       "      <td>\\n Electronic City\\n Plot\\nElectronic City\\n</td>\n",
       "      <td>\\n₹ 72 L\\n</td>\n",
       "      <td>1200 Sq.Ft.</td>\n",
       "    </tr>\n",
       "    <tr>\n",
       "      <th>...</th>\n",
       "      <td>...</td>\n",
       "      <td>...</td>\n",
       "      <td>...</td>\n",
       "      <td>...</td>\n",
       "    </tr>\n",
       "    <tr>\n",
       "      <th>15634</th>\n",
       "      <td>17</td>\n",
       "      <td>\\n Godrej Avenues\\n2 BHK Flat\\nYelahanka\\n</td>\n",
       "      <td>\\n₹ 84 L\\n</td>\n",
       "      <td>1254 Sq.Ft.</td>\n",
       "    </tr>\n",
       "    <tr>\n",
       "      <th>15635</th>\n",
       "      <td>18</td>\n",
       "      <td>\\n SN Sri Nandi Samruddhi\\n3 BHK Flat\\nKodichi...</td>\n",
       "      <td>\\n₹ 68 L\\n</td>\n",
       "      <td>1510 Sq.Ft.</td>\n",
       "    </tr>\n",
       "    <tr>\n",
       "      <th>15636</th>\n",
       "      <td>19</td>\n",
       "      <td>\\n Jigani Road\\n Plot\\nJigani Road\\n</td>\n",
       "      <td>\\n₹ 20.38 L\\n</td>\n",
       "      <td>1200 Sq.Ft.</td>\n",
       "    </tr>\n",
       "    <tr>\n",
       "      <th>15637</th>\n",
       "      <td>20</td>\n",
       "      <td>\\n Dukes Legend Sujay\\n Plot\\nDevanahalli\\n</td>\n",
       "      <td>\\n₹ 49.5 L\\n</td>\n",
       "      <td>1200 Sq.Ft.</td>\n",
       "    </tr>\n",
       "    <tr>\n",
       "      <th>15638</th>\n",
       "      <td>21</td>\n",
       "      <td>\\n Prestige Lavender Fields\\n2 BHK Flat\\nVarth...</td>\n",
       "      <td>\\n₹ 1.19 Cr.\\n</td>\n",
       "      <td>1100 Sq.Ft.</td>\n",
       "    </tr>\n",
       "  </tbody>\n",
       "</table>\n",
       "<p>15639 rows × 4 columns</p>\n",
       "</div>"
      ],
      "text/plain": [
       "       Unnamed: 0                                              title  \\\n",
       "0               0       \\n Sriven Daksha Elite\\n1 BHK Flat\\nJigani\\n   \n",
       "1               1  \\n Panchmukhi Paradise\\n3 BHK Flat\\nRajarajesh...   \n",
       "2               2  \\n Puravankara Purva Venezia\\n3 BHK Flat\\nYela...   \n",
       "3               3  \\n Sobha Royal Pavilion Phase 5\\n4 BHK Flat\\nS...   \n",
       "4               4       \\n Electronic City\\n Plot\\nElectronic City\\n   \n",
       "...           ...                                                ...   \n",
       "15634          17         \\n Godrej Avenues\\n2 BHK Flat\\nYelahanka\\n   \n",
       "15635          18  \\n SN Sri Nandi Samruddhi\\n3 BHK Flat\\nKodichi...   \n",
       "15636          19               \\n Jigani Road\\n Plot\\nJigani Road\\n   \n",
       "15637          20        \\n Dukes Legend Sujay\\n Plot\\nDevanahalli\\n   \n",
       "15638          21  \\n Prestige Lavender Fields\\n2 BHK Flat\\nVarth...   \n",
       "\n",
       "                price         size  \n",
       "0          \\n₹ 22 L\\n   607 Sq.Ft.  \n",
       "1         \\n₹ 1 Cr.\\n  1535 Sq.Ft.  \n",
       "2      \\n₹ 1.12 Cr.\\n  1614 Sq.Ft.  \n",
       "3      \\n₹ 2.84 Cr.\\n  2232 Sq.Ft.  \n",
       "4          \\n₹ 72 L\\n  1200 Sq.Ft.  \n",
       "...               ...          ...  \n",
       "15634      \\n₹ 84 L\\n  1254 Sq.Ft.  \n",
       "15635      \\n₹ 68 L\\n  1510 Sq.Ft.  \n",
       "15636   \\n₹ 20.38 L\\n  1200 Sq.Ft.  \n",
       "15637    \\n₹ 49.5 L\\n  1200 Sq.Ft.  \n",
       "15638  \\n₹ 1.19 Cr.\\n  1100 Sq.Ft.  \n",
       "\n",
       "[15639 rows x 4 columns]"
      ]
     },
     "execution_count": 48,
     "metadata": {},
     "output_type": "execute_result"
    }
   ],
   "source": [
    "semifinal"
   ]
  },
  {
   "cell_type": "code",
   "execution_count": 49,
   "id": "4c4356d3",
   "metadata": {},
   "outputs": [],
   "source": [
    "semifinal['price'] = semifinal['price'].str.replace('\\n₹ ', '', regex=True)"
   ]
  },
  {
   "cell_type": "code",
   "execution_count": 51,
   "id": "f5230fab",
   "metadata": {},
   "outputs": [],
   "source": [
    "semifinal['price'] = semifinal['price'].str.replace('\\n','',regex=True)"
   ]
  },
  {
   "cell_type": "code",
   "execution_count": 53,
   "id": "2386111d",
   "metadata": {},
   "outputs": [],
   "source": [
    "semifinal['price'] = semifinal['price'].str.replace('.','',regex=True)"
   ]
  },
  {
   "cell_type": "code",
   "execution_count": 54,
   "id": "7983b00a",
   "metadata": {},
   "outputs": [
    {
     "data": {
      "text/plain": [
       "0          22 L\n",
       "1          1 Cr\n",
       "2        112 Cr\n",
       "3        284 Cr\n",
       "4          72 L\n",
       "          ...  \n",
       "15634      84 L\n",
       "15635      68 L\n",
       "15636    2038 L\n",
       "15637     495 L\n",
       "15638    119 Cr\n",
       "Name: price, Length: 15639, dtype: object"
      ]
     },
     "execution_count": 54,
     "metadata": {},
     "output_type": "execute_result"
    }
   ],
   "source": [
    "semifinal['price']"
   ]
  },
  {
   "cell_type": "code",
   "execution_count": 55,
   "id": "1de16c29",
   "metadata": {},
   "outputs": [
    {
     "data": {
      "text/html": [
       "<div>\n",
       "<style scoped>\n",
       "    .dataframe tbody tr th:only-of-type {\n",
       "        vertical-align: middle;\n",
       "    }\n",
       "\n",
       "    .dataframe tbody tr th {\n",
       "        vertical-align: top;\n",
       "    }\n",
       "\n",
       "    .dataframe thead th {\n",
       "        text-align: right;\n",
       "    }\n",
       "</style>\n",
       "<table border=\"1\" class=\"dataframe\">\n",
       "  <thead>\n",
       "    <tr style=\"text-align: right;\">\n",
       "      <th></th>\n",
       "      <th>Unnamed: 0</th>\n",
       "      <th>title</th>\n",
       "      <th>price</th>\n",
       "      <th>size</th>\n",
       "    </tr>\n",
       "  </thead>\n",
       "  <tbody>\n",
       "    <tr>\n",
       "      <th>0</th>\n",
       "      <td>0</td>\n",
       "      <td>\\n Sriven Daksha Elite\\n1 BHK Flat\\nJigani\\n</td>\n",
       "      <td>22 L</td>\n",
       "      <td>607 Sq.Ft.</td>\n",
       "    </tr>\n",
       "    <tr>\n",
       "      <th>1</th>\n",
       "      <td>1</td>\n",
       "      <td>\\n Panchmukhi Paradise\\n3 BHK Flat\\nRajarajesh...</td>\n",
       "      <td>1 Cr</td>\n",
       "      <td>1535 Sq.Ft.</td>\n",
       "    </tr>\n",
       "    <tr>\n",
       "      <th>2</th>\n",
       "      <td>2</td>\n",
       "      <td>\\n Puravankara Purva Venezia\\n3 BHK Flat\\nYela...</td>\n",
       "      <td>112 Cr</td>\n",
       "      <td>1614 Sq.Ft.</td>\n",
       "    </tr>\n",
       "    <tr>\n",
       "      <th>3</th>\n",
       "      <td>3</td>\n",
       "      <td>\\n Sobha Royal Pavilion Phase 5\\n4 BHK Flat\\nS...</td>\n",
       "      <td>284 Cr</td>\n",
       "      <td>2232 Sq.Ft.</td>\n",
       "    </tr>\n",
       "    <tr>\n",
       "      <th>4</th>\n",
       "      <td>4</td>\n",
       "      <td>\\n Electronic City\\n Plot\\nElectronic City\\n</td>\n",
       "      <td>72 L</td>\n",
       "      <td>1200 Sq.Ft.</td>\n",
       "    </tr>\n",
       "  </tbody>\n",
       "</table>\n",
       "</div>"
      ],
      "text/plain": [
       "   Unnamed: 0                                              title   price  \\\n",
       "0           0       \\n Sriven Daksha Elite\\n1 BHK Flat\\nJigani\\n    22 L   \n",
       "1           1  \\n Panchmukhi Paradise\\n3 BHK Flat\\nRajarajesh...    1 Cr   \n",
       "2           2  \\n Puravankara Purva Venezia\\n3 BHK Flat\\nYela...  112 Cr   \n",
       "3           3  \\n Sobha Royal Pavilion Phase 5\\n4 BHK Flat\\nS...  284 Cr   \n",
       "4           4       \\n Electronic City\\n Plot\\nElectronic City\\n    72 L   \n",
       "\n",
       "          size  \n",
       "0   607 Sq.Ft.  \n",
       "1  1535 Sq.Ft.  \n",
       "2  1614 Sq.Ft.  \n",
       "3  2232 Sq.Ft.  \n",
       "4  1200 Sq.Ft.  "
      ]
     },
     "execution_count": 55,
     "metadata": {},
     "output_type": "execute_result"
    }
   ],
   "source": [
    "semifinal.head()"
   ]
  },
  {
   "cell_type": "code",
   "execution_count": 56,
   "id": "8a25883d",
   "metadata": {},
   "outputs": [],
   "source": [
    "semifinal.to_excel('bangalore flat price(square yards).xlsx')"
   ]
  },
  {
   "cell_type": "code",
   "execution_count": null,
   "id": "ceafd1b4",
   "metadata": {},
   "outputs": [],
   "source": []
  }
 ],
 "metadata": {
  "kernelspec": {
   "display_name": "Python 3 (ipykernel)",
   "language": "python",
   "name": "python3"
  },
  "language_info": {
   "codemirror_mode": {
    "name": "ipython",
    "version": 3
   },
   "file_extension": ".py",
   "mimetype": "text/x-python",
   "name": "python",
   "nbconvert_exporter": "python",
   "pygments_lexer": "ipython3",
   "version": "3.9.7"
  }
 },
 "nbformat": 4,
 "nbformat_minor": 5
}
