{
 "cells": [
  {
   "cell_type": "code",
   "execution_count": 1,
   "id": "20094f10",
   "metadata": {},
   "outputs": [],
   "source": [
    "# import libraries\n",
    "\n",
    "import pandas as pd\n",
    "import requests\n",
    "from bs4 import BeautifulSoup"
   ]
  },
  {
   "cell_type": "code",
   "execution_count": 2,
   "id": "4dfc28d6",
   "metadata": {},
   "outputs": [],
   "source": [
    "url = 'https://www.squareyards.com/sale/property-for-sale-in-mysore'\n",
    "headers = {\n",
    "        'User-Agent': 'Mozilla/5.0 (Macintosh; Intel Mac OS X 10_15_7) AppleWebKit/537.36 (KHTML, like Gecko) Chrome/101.0.4951.64 Safari/537.36 Edg/101.0.1210.47'\n",
    "    }\n",
    "\n",
    "webpage = requests.get(url, headers=headers).text"
   ]
  },
  {
   "cell_type": "code",
   "execution_count": 3,
   "id": "53f0738e",
   "metadata": {},
   "outputs": [],
   "source": [
    "#webpage"
   ]
  },
  {
   "cell_type": "code",
   "execution_count": 4,
   "id": "a07b5f14",
   "metadata": {},
   "outputs": [],
   "source": [
    "soup = BeautifulSoup(webpage, 'lxml')"
   ]
  },
  {
   "cell_type": "code",
   "execution_count": 5,
   "id": "7807d977",
   "metadata": {},
   "outputs": [],
   "source": [
    "#print(soup.prettify())"
   ]
  },
  {
   "cell_type": "code",
   "execution_count": 6,
   "id": "d88abf99",
   "metadata": {},
   "outputs": [],
   "source": [
    "containers = soup.find_all('div', class_='tlTxtBdy')"
   ]
  },
  {
   "cell_type": "code",
   "execution_count": 7,
   "id": "db1c81e8",
   "metadata": {},
   "outputs": [
    {
     "data": {
      "text/plain": [
       "20"
      ]
     },
     "execution_count": 7,
     "metadata": {},
     "output_type": "execute_result"
    }
   ],
   "source": [
    "len(containers)"
   ]
  },
  {
   "cell_type": "code",
   "execution_count": 8,
   "id": "56e98bba",
   "metadata": {},
   "outputs": [],
   "source": [
    "title = [i.find('span').text for i in containers]"
   ]
  },
  {
   "cell_type": "code",
   "execution_count": 9,
   "id": "5a20c0a4",
   "metadata": {},
   "outputs": [
    {
     "data": {
      "text/plain": [
       "20"
      ]
     },
     "execution_count": 9,
     "metadata": {},
     "output_type": "execute_result"
    }
   ],
   "source": [
    "len(title)"
   ]
  },
  {
   "cell_type": "code",
   "execution_count": 10,
   "id": "71d59590",
   "metadata": {},
   "outputs": [],
   "source": [
    "price = [i.find('span', class_=\"tlPrc\").text for i in containers]"
   ]
  },
  {
   "cell_type": "code",
   "execution_count": 11,
   "id": "d2cd040f",
   "metadata": {},
   "outputs": [
    {
     "data": {
      "text/plain": [
       "20"
      ]
     },
     "execution_count": 11,
     "metadata": {},
     "output_type": "execute_result"
    }
   ],
   "source": [
    "len(price)"
   ]
  },
  {
   "cell_type": "code",
   "execution_count": 12,
   "id": "bb053904",
   "metadata": {},
   "outputs": [],
   "source": [
    "size = [i.find('div', class_=\"tlSqFt\").text for i in containers]"
   ]
  },
  {
   "cell_type": "code",
   "execution_count": 13,
   "id": "cfae3b83",
   "metadata": {},
   "outputs": [
    {
     "data": {
      "text/plain": [
       "20"
      ]
     },
     "execution_count": 13,
     "metadata": {},
     "output_type": "execute_result"
    }
   ],
   "source": [
    "len(size)"
   ]
  },
  {
   "cell_type": "code",
   "execution_count": 26,
   "id": "e1573fce",
   "metadata": {},
   "outputs": [],
   "source": [
    "final = pd.DataFrame()\n",
    "# for j in range (1, 2):\n",
    "url = 'https://www.squareyards.com/sale/property-for-sale-in-mysore'\n",
    "headers = {\n",
    "    'User-Agent': 'Mozilla/5.0 (Macintosh; Intel Mac OS X 10_15_7) AppleWebKit/537.36 (KHTML, like Gecko) Chrome/101.0.4951.64 Safari/537.36 Edg/101.0.1210.47'\n",
    "}\n",
    "webpage = requests.get(url, headers=headers).text\n",
    "    \n",
    "soup = BeautifulSoup(webpage, 'lxml')\n",
    "    \n",
    "containers = soup.find_all('div', class_='tlTxtBdy')\n",
    "    \n",
    "title = []\n",
    "price = []\n",
    "size = []\n",
    "\n",
    "title = [i.find('span').text for i in containers]\n",
    "price = [i.find('span', class_=\"tlPrc\").text for i in containers]\n",
    "size = [i.find('div', class_=\"tlSqFt\").text for i in containers]\n",
    "    \n",
    "d = {'title':title, 'price':price, 'size':size}\n",
    "df = pd.DataFrame(d)\n",
    "final = final.append(df)"
   ]
  },
  {
   "cell_type": "code",
   "execution_count": 27,
   "id": "ea0c0fb5",
   "metadata": {},
   "outputs": [],
   "source": [
    "final.to_excel('mysore flat price(square yards).xlsx')"
   ]
  },
  {
   "cell_type": "code",
   "execution_count": 16,
   "id": "907a8618",
   "metadata": {},
   "outputs": [],
   "source": [
    "semifinal = pd.read_excel('bangalore flat price(square yards).xlsx')"
   ]
  },
  {
   "cell_type": "code",
   "execution_count": 17,
   "id": "50c2933c",
   "metadata": {},
   "outputs": [
    {
     "data": {
      "text/plain": [
       "0"
      ]
     },
     "execution_count": 17,
     "metadata": {},
     "output_type": "execute_result"
    }
   ],
   "source": [
    "semifinal.duplicated().sum()"
   ]
  },
  {
   "cell_type": "code",
   "execution_count": 18,
   "id": "629587ec",
   "metadata": {},
   "outputs": [
    {
     "data": {
      "text/html": [
       "<div>\n",
       "<style scoped>\n",
       "    .dataframe tbody tr th:only-of-type {\n",
       "        vertical-align: middle;\n",
       "    }\n",
       "\n",
       "    .dataframe tbody tr th {\n",
       "        vertical-align: top;\n",
       "    }\n",
       "\n",
       "    .dataframe thead th {\n",
       "        text-align: right;\n",
       "    }\n",
       "</style>\n",
       "<table border=\"1\" class=\"dataframe\">\n",
       "  <thead>\n",
       "    <tr style=\"text-align: right;\">\n",
       "      <th></th>\n",
       "      <th>Unnamed: 0</th>\n",
       "      <th>Unnamed: 0.1</th>\n",
       "      <th>title</th>\n",
       "      <th>price</th>\n",
       "      <th>size</th>\n",
       "    </tr>\n",
       "  </thead>\n",
       "  <tbody>\n",
       "    <tr>\n",
       "      <th>0</th>\n",
       "      <td>0</td>\n",
       "      <td>0</td>\n",
       "      <td>\\n Sriven Daksha Elite\\n1 BHK Flat\\nJigani\\n</td>\n",
       "      <td>22 L</td>\n",
       "      <td>607 Sq.Ft.</td>\n",
       "    </tr>\n",
       "    <tr>\n",
       "      <th>1</th>\n",
       "      <td>1</td>\n",
       "      <td>1</td>\n",
       "      <td>\\n Panchmukhi Paradise\\n3 BHK Flat\\nRajarajesh...</td>\n",
       "      <td>1 Cr</td>\n",
       "      <td>1535 Sq.Ft.</td>\n",
       "    </tr>\n",
       "    <tr>\n",
       "      <th>2</th>\n",
       "      <td>2</td>\n",
       "      <td>2</td>\n",
       "      <td>\\n Puravankara Purva Venezia\\n3 BHK Flat\\nYela...</td>\n",
       "      <td>112 Cr</td>\n",
       "      <td>1614 Sq.Ft.</td>\n",
       "    </tr>\n",
       "    <tr>\n",
       "      <th>3</th>\n",
       "      <td>3</td>\n",
       "      <td>3</td>\n",
       "      <td>\\n Sobha Royal Pavilion Phase 5\\n4 BHK Flat\\nS...</td>\n",
       "      <td>284 Cr</td>\n",
       "      <td>2232 Sq.Ft.</td>\n",
       "    </tr>\n",
       "    <tr>\n",
       "      <th>4</th>\n",
       "      <td>4</td>\n",
       "      <td>4</td>\n",
       "      <td>\\n Electronic City\\n Plot\\nElectronic City\\n</td>\n",
       "      <td>72 L</td>\n",
       "      <td>1200 Sq.Ft.</td>\n",
       "    </tr>\n",
       "    <tr>\n",
       "      <th>...</th>\n",
       "      <td>...</td>\n",
       "      <td>...</td>\n",
       "      <td>...</td>\n",
       "      <td>...</td>\n",
       "      <td>...</td>\n",
       "    </tr>\n",
       "    <tr>\n",
       "      <th>15634</th>\n",
       "      <td>15634</td>\n",
       "      <td>17</td>\n",
       "      <td>\\n Godrej Avenues\\n2 BHK Flat\\nYelahanka\\n</td>\n",
       "      <td>84 L</td>\n",
       "      <td>1254 Sq.Ft.</td>\n",
       "    </tr>\n",
       "    <tr>\n",
       "      <th>15635</th>\n",
       "      <td>15635</td>\n",
       "      <td>18</td>\n",
       "      <td>\\n SN Sri Nandi Samruddhi\\n3 BHK Flat\\nKodichi...</td>\n",
       "      <td>68 L</td>\n",
       "      <td>1510 Sq.Ft.</td>\n",
       "    </tr>\n",
       "    <tr>\n",
       "      <th>15636</th>\n",
       "      <td>15636</td>\n",
       "      <td>19</td>\n",
       "      <td>\\n Jigani Road\\n Plot\\nJigani Road\\n</td>\n",
       "      <td>2038 L</td>\n",
       "      <td>1200 Sq.Ft.</td>\n",
       "    </tr>\n",
       "    <tr>\n",
       "      <th>15637</th>\n",
       "      <td>15637</td>\n",
       "      <td>20</td>\n",
       "      <td>\\n Dukes Legend Sujay\\n Plot\\nDevanahalli\\n</td>\n",
       "      <td>495 L</td>\n",
       "      <td>1200 Sq.Ft.</td>\n",
       "    </tr>\n",
       "    <tr>\n",
       "      <th>15638</th>\n",
       "      <td>15638</td>\n",
       "      <td>21</td>\n",
       "      <td>\\n Prestige Lavender Fields\\n2 BHK Flat\\nVarth...</td>\n",
       "      <td>119 Cr</td>\n",
       "      <td>1100 Sq.Ft.</td>\n",
       "    </tr>\n",
       "  </tbody>\n",
       "</table>\n",
       "<p>15639 rows × 5 columns</p>\n",
       "</div>"
      ],
      "text/plain": [
       "       Unnamed: 0  Unnamed: 0.1  \\\n",
       "0               0             0   \n",
       "1               1             1   \n",
       "2               2             2   \n",
       "3               3             3   \n",
       "4               4             4   \n",
       "...           ...           ...   \n",
       "15634       15634            17   \n",
       "15635       15635            18   \n",
       "15636       15636            19   \n",
       "15637       15637            20   \n",
       "15638       15638            21   \n",
       "\n",
       "                                                   title   price         size  \n",
       "0           \\n Sriven Daksha Elite\\n1 BHK Flat\\nJigani\\n    22 L   607 Sq.Ft.  \n",
       "1      \\n Panchmukhi Paradise\\n3 BHK Flat\\nRajarajesh...    1 Cr  1535 Sq.Ft.  \n",
       "2      \\n Puravankara Purva Venezia\\n3 BHK Flat\\nYela...  112 Cr  1614 Sq.Ft.  \n",
       "3      \\n Sobha Royal Pavilion Phase 5\\n4 BHK Flat\\nS...  284 Cr  2232 Sq.Ft.  \n",
       "4           \\n Electronic City\\n Plot\\nElectronic City\\n    72 L  1200 Sq.Ft.  \n",
       "...                                                  ...     ...          ...  \n",
       "15634         \\n Godrej Avenues\\n2 BHK Flat\\nYelahanka\\n    84 L  1254 Sq.Ft.  \n",
       "15635  \\n SN Sri Nandi Samruddhi\\n3 BHK Flat\\nKodichi...    68 L  1510 Sq.Ft.  \n",
       "15636               \\n Jigani Road\\n Plot\\nJigani Road\\n  2038 L  1200 Sq.Ft.  \n",
       "15637        \\n Dukes Legend Sujay\\n Plot\\nDevanahalli\\n   495 L  1200 Sq.Ft.  \n",
       "15638  \\n Prestige Lavender Fields\\n2 BHK Flat\\nVarth...  119 Cr  1100 Sq.Ft.  \n",
       "\n",
       "[15639 rows x 5 columns]"
      ]
     },
     "execution_count": 18,
     "metadata": {},
     "output_type": "execute_result"
    }
   ],
   "source": [
    "semifinal"
   ]
  },
  {
   "cell_type": "code",
   "execution_count": 19,
   "id": "4c4356d3",
   "metadata": {},
   "outputs": [],
   "source": [
    "semifinal['price'] = semifinal['price'].str.replace('\\n₹ ', '', regex=True)"
   ]
  },
  {
   "cell_type": "code",
   "execution_count": 20,
   "id": "f5230fab",
   "metadata": {},
   "outputs": [],
   "source": [
    "semifinal['price'] = semifinal['price'].str.replace('\\n','',regex=True)"
   ]
  },
  {
   "cell_type": "code",
   "execution_count": 21,
   "id": "2386111d",
   "metadata": {},
   "outputs": [],
   "source": [
    "semifinal['price'] = semifinal['price'].str.replace('.','',regex=True)"
   ]
  },
  {
   "cell_type": "code",
   "execution_count": 22,
   "id": "7983b00a",
   "metadata": {},
   "outputs": [
    {
     "data": {
      "text/plain": [
       "0          22 L\n",
       "1          1 Cr\n",
       "2        112 Cr\n",
       "3        284 Cr\n",
       "4          72 L\n",
       "          ...  \n",
       "15634      84 L\n",
       "15635      68 L\n",
       "15636    2038 L\n",
       "15637     495 L\n",
       "15638    119 Cr\n",
       "Name: price, Length: 15639, dtype: object"
      ]
     },
     "execution_count": 22,
     "metadata": {},
     "output_type": "execute_result"
    }
   ],
   "source": [
    "semifinal['price']"
   ]
  },
  {
   "cell_type": "code",
   "execution_count": 23,
   "id": "1de16c29",
   "metadata": {},
   "outputs": [
    {
     "data": {
      "text/html": [
       "<div>\n",
       "<style scoped>\n",
       "    .dataframe tbody tr th:only-of-type {\n",
       "        vertical-align: middle;\n",
       "    }\n",
       "\n",
       "    .dataframe tbody tr th {\n",
       "        vertical-align: top;\n",
       "    }\n",
       "\n",
       "    .dataframe thead th {\n",
       "        text-align: right;\n",
       "    }\n",
       "</style>\n",
       "<table border=\"1\" class=\"dataframe\">\n",
       "  <thead>\n",
       "    <tr style=\"text-align: right;\">\n",
       "      <th></th>\n",
       "      <th>Unnamed: 0</th>\n",
       "      <th>Unnamed: 0.1</th>\n",
       "      <th>title</th>\n",
       "      <th>price</th>\n",
       "      <th>size</th>\n",
       "    </tr>\n",
       "  </thead>\n",
       "  <tbody>\n",
       "    <tr>\n",
       "      <th>0</th>\n",
       "      <td>0</td>\n",
       "      <td>0</td>\n",
       "      <td>\\n Sriven Daksha Elite\\n1 BHK Flat\\nJigani\\n</td>\n",
       "      <td>22 L</td>\n",
       "      <td>607 Sq.Ft.</td>\n",
       "    </tr>\n",
       "    <tr>\n",
       "      <th>1</th>\n",
       "      <td>1</td>\n",
       "      <td>1</td>\n",
       "      <td>\\n Panchmukhi Paradise\\n3 BHK Flat\\nRajarajesh...</td>\n",
       "      <td>1 Cr</td>\n",
       "      <td>1535 Sq.Ft.</td>\n",
       "    </tr>\n",
       "    <tr>\n",
       "      <th>2</th>\n",
       "      <td>2</td>\n",
       "      <td>2</td>\n",
       "      <td>\\n Puravankara Purva Venezia\\n3 BHK Flat\\nYela...</td>\n",
       "      <td>112 Cr</td>\n",
       "      <td>1614 Sq.Ft.</td>\n",
       "    </tr>\n",
       "    <tr>\n",
       "      <th>3</th>\n",
       "      <td>3</td>\n",
       "      <td>3</td>\n",
       "      <td>\\n Sobha Royal Pavilion Phase 5\\n4 BHK Flat\\nS...</td>\n",
       "      <td>284 Cr</td>\n",
       "      <td>2232 Sq.Ft.</td>\n",
       "    </tr>\n",
       "    <tr>\n",
       "      <th>4</th>\n",
       "      <td>4</td>\n",
       "      <td>4</td>\n",
       "      <td>\\n Electronic City\\n Plot\\nElectronic City\\n</td>\n",
       "      <td>72 L</td>\n",
       "      <td>1200 Sq.Ft.</td>\n",
       "    </tr>\n",
       "  </tbody>\n",
       "</table>\n",
       "</div>"
      ],
      "text/plain": [
       "   Unnamed: 0  Unnamed: 0.1  \\\n",
       "0           0             0   \n",
       "1           1             1   \n",
       "2           2             2   \n",
       "3           3             3   \n",
       "4           4             4   \n",
       "\n",
       "                                               title   price         size  \n",
       "0       \\n Sriven Daksha Elite\\n1 BHK Flat\\nJigani\\n    22 L   607 Sq.Ft.  \n",
       "1  \\n Panchmukhi Paradise\\n3 BHK Flat\\nRajarajesh...    1 Cr  1535 Sq.Ft.  \n",
       "2  \\n Puravankara Purva Venezia\\n3 BHK Flat\\nYela...  112 Cr  1614 Sq.Ft.  \n",
       "3  \\n Sobha Royal Pavilion Phase 5\\n4 BHK Flat\\nS...  284 Cr  2232 Sq.Ft.  \n",
       "4       \\n Electronic City\\n Plot\\nElectronic City\\n    72 L  1200 Sq.Ft.  "
      ]
     },
     "execution_count": 23,
     "metadata": {},
     "output_type": "execute_result"
    }
   ],
   "source": [
    "semifinal.head()"
   ]
  },
  {
   "cell_type": "code",
   "execution_count": 24,
   "id": "8a25883d",
   "metadata": {},
   "outputs": [],
   "source": [
    "semifinal.to_excel('mysore flat price(square yards).xlsx')"
   ]
  },
  {
   "cell_type": "code",
   "execution_count": null,
   "id": "ceafd1b4",
   "metadata": {},
   "outputs": [],
   "source": []
  }
 ],
 "metadata": {
  "kernelspec": {
   "display_name": "Python 3 (ipykernel)",
   "language": "python",
   "name": "python3"
  },
  "language_info": {
   "codemirror_mode": {
    "name": "ipython",
    "version": 3
   },
   "file_extension": ".py",
   "mimetype": "text/x-python",
   "name": "python",
   "nbconvert_exporter": "python",
   "pygments_lexer": "ipython3",
   "version": "3.9.7"
  }
 },
 "nbformat": 4,
 "nbformat_minor": 5
}
