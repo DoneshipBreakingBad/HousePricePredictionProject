{
 "cells": [
  {
   "cell_type": "markdown",
   "id": "4198aa69",
   "metadata": {},
   "source": [
    "# Webscrapping Project"
   ]
  },
  {
   "cell_type": "code",
   "execution_count": 1,
   "id": "d39579a0",
   "metadata": {},
   "outputs": [],
   "source": [
    "# import libraries\n",
    "\n",
    "import pandas as pd\n",
    "import requests\n",
    "from bs4 import BeautifulSoup"
   ]
  },
  {
   "cell_type": "code",
   "execution_count": 2,
   "id": "2d7e53c3",
   "metadata": {},
   "outputs": [],
   "source": [
    "url = 'https://www.magicbricks.com/flats-in-bangalore-for-sale-pppfs'\n",
    "headers = {\n",
    "        'User-Agent': 'Mozilla/5.0 (Macintosh; Intel Mac OS X 10_15_7) AppleWebKit/537.36 (KHTML, like Gecko) Chrome/101.0.4951.64 Safari/537.36 Edg/101.0.1210.47'\n",
    "    }\n",
    "\n",
    "webpage = requests.get(url, headers=headers).text"
   ]
  },
  {
   "cell_type": "code",
   "execution_count": 3,
   "id": "c26c8173",
   "metadata": {},
   "outputs": [],
   "source": [
    "# webpage"
   ]
  },
  {
   "cell_type": "code",
   "execution_count": 4,
   "id": "0fd3eec6",
   "metadata": {},
   "outputs": [],
   "source": [
    "soup = BeautifulSoup(webpage, 'lxml')"
   ]
  },
  {
   "cell_type": "code",
   "execution_count": 5,
   "id": "24f44f6a",
   "metadata": {},
   "outputs": [],
   "source": [
    "# print(soup.prettify())"
   ]
  },
  {
   "cell_type": "code",
   "execution_count": 6,
   "id": "500d6fe1",
   "metadata": {},
   "outputs": [],
   "source": [
    "containers = soup.find_all('div', class_='mb-srp__card')"
   ]
  },
  {
   "cell_type": "markdown",
   "id": "5deb6bc7",
   "metadata": {},
   "source": [
    "## Finding Title of the Flat"
   ]
  },
  {
   "cell_type": "code",
   "execution_count": 7,
   "id": "abfeb7f8",
   "metadata": {},
   "outputs": [
    {
     "data": {
      "text/plain": [
       "['3 BHK Flat for Sale in Whitefield, Bangalore',\n",
       " '3 BHK Flat for Sale in Yelahanka, Bangalore',\n",
       " '2 BHK Flat for Sale in Kalyan Nagar, Bangalore',\n",
       " '3 BHK Flat for Sale in Vijayanagar, Bangalore',\n",
       " '2 BHK Flat for Sale in Krishnarajapura, Bangalore',\n",
       " '3 BHK Flat for Sale in Saint Johns Road, Bangalore',\n",
       " '3 BHK Flat for Sale in Phase 1 Electronics City, Bangalore',\n",
       " '2 BHK Flat for Sale in Bannerghatta Main Road, Bangalore',\n",
       " '2 BHK Flat for Sale in Old Madras Road, Bangalore',\n",
       " '3 BHK Flat for Sale in Block 1st Koramangala, Bangalore',\n",
       " '2 BHK Flat for Sale in Mico Layout Hongasandra, Bangalore',\n",
       " '2 BHK Flat for Sale in Vikas Nagar, Bangalore',\n",
       " '3 BHK Flat for Sale in Mysore Road, Bangalore',\n",
       " '3 BHK Flat for Sale in Krishnarajapura, Bangalore',\n",
       " '2 BHK Flat for Sale in Krishnarajapura, Bangalore',\n",
       " '4 BHK Flat for Sale in Nandi Durga Road, Bangalore',\n",
       " '1 BHK Flat for Sale in Sarjapur Road, Bangalore',\n",
       " '2 BHK Flat for Sale in Rachenahalli, Thanisandra, Bangalore',\n",
       " '2 BHK Flat for Sale in Phase 2 Electronic City, Bangalore',\n",
       " '3 BHK Flat for Sale in Whitefield, Bangalore',\n",
       " '3 BHK Flat for Sale in Hoodi, Hoodi, Bangalore',\n",
       " '3 BHK Flat for Sale in Kanakapura Road, Bangalore',\n",
       " '4 BHK Flat for Sale in Krishnarajapura, Bangalore',\n",
       " '2 BHK Flat for Sale in K Narayanapura, Bangalore',\n",
       " '2 BHK Flat for Sale in Stage II Chandra Layout Extension, Bangalore',\n",
       " '2 BHK Flat for Sale in Jalahalli West, Bangalore',\n",
       " '4 BHK Flat for Sale in Lingarajapuram, Lingarajapuram, Hennur Main Road, Bangalore',\n",
       " '3 BHK Flat for Sale in Halasuru, Bangalore',\n",
       " '2 BHK Flat for Sale in J P Nagar, Bangalore',\n",
       " '3 BHK Flat for Sale in Chandapura, Bangalore']"
      ]
     },
     "execution_count": 7,
     "metadata": {},
     "output_type": "execute_result"
    }
   ],
   "source": [
    "title = [i.find('h2').text for i in containers]\n",
    "title"
   ]
  },
  {
   "cell_type": "code",
   "execution_count": 8,
   "id": "cff125e7",
   "metadata": {},
   "outputs": [
    {
     "data": {
      "text/plain": [
       "30"
      ]
     },
     "execution_count": 8,
     "metadata": {},
     "output_type": "execute_result"
    }
   ],
   "source": [
    "len(title)"
   ]
  },
  {
   "cell_type": "markdown",
   "id": "f1b32b23",
   "metadata": {},
   "source": [
    "## Finding Price of the Flat"
   ]
  },
  {
   "cell_type": "code",
   "execution_count": 9,
   "id": "010e52e2",
   "metadata": {},
   "outputs": [],
   "source": [
    "price = [i.find(class_=\"mb-srp__card__price--amount\").text for i in containers]"
   ]
  },
  {
   "cell_type": "code",
   "execution_count": 10,
   "id": "aff893de",
   "metadata": {},
   "outputs": [
    {
     "data": {
      "text/plain": [
       "30"
      ]
     },
     "execution_count": 10,
     "metadata": {},
     "output_type": "execute_result"
    }
   ],
   "source": [
    "len(price)"
   ]
  },
  {
   "cell_type": "markdown",
   "id": "9f327f5c",
   "metadata": {},
   "source": [
    "## Finding Price Per Square Feet"
   ]
  },
  {
   "cell_type": "code",
   "execution_count": 11,
   "id": "a463af18",
   "metadata": {},
   "outputs": [],
   "source": [
    "price_per_sqft_element = [i.find(class_=\"mb-srp__card__price--size\") for i in containers]"
   ]
  },
  {
   "cell_type": "code",
   "execution_count": 12,
   "id": "f154bf4c",
   "metadata": {
    "scrolled": true
   },
   "outputs": [
    {
     "data": {
      "text/plain": [
       "[<div class=\"mb-srp__card__price--size\"><span class=\"rupees\">₹</span>11997 per sqft </div>,\n",
       " <div class=\"mb-srp__card__price--size\"><span class=\"rupees\">₹</span>5435 per sqft </div>,\n",
       " <div class=\"mb-srp__card__price--size\"><span class=\"rupees\">₹</span>4216 per sqft </div>,\n",
       " <div class=\"mb-srp__card__price--size\"><span class=\"rupees\">₹</span>7407 per sqft </div>,\n",
       " None,\n",
       " <div class=\"mb-srp__card__price--size\"><span class=\"rupees\">₹</span>15000 per sqft </div>,\n",
       " <div class=\"mb-srp__card__price--size\"><span class=\"rupees\">₹</span>8711 per sqft </div>,\n",
       " <div class=\"mb-srp__card__price--size\"><span class=\"rupees\">₹</span>4150 per sqft </div>,\n",
       " <div class=\"mb-srp__card__price--size\"><span class=\"rupees\">₹</span>6030 per sqft </div>,\n",
       " <div class=\"mb-srp__card__price--size\"><span class=\"rupees\">₹</span>9548 per sqft </div>,\n",
       " <div class=\"mb-srp__card__price--size\"><span class=\"rupees\">₹</span>3800 per sqft </div>,\n",
       " <div class=\"mb-srp__card__price--size\"><span class=\"rupees\">₹</span>3231 per sqft </div>,\n",
       " <div class=\"mb-srp__card__price--size\"><span class=\"rupees\">₹</span>6934 per sqft </div>,\n",
       " <div class=\"mb-srp__card__price--size\"><span class=\"rupees\">₹</span>10753 per sqft </div>,\n",
       " <div class=\"mb-srp__card__price--size\"><span class=\"rupees\">₹</span>3950 per sqft </div>,\n",
       " <div class=\"mb-srp__card__price--size\"><span class=\"rupees\">₹</span>16222 per sqft </div>,\n",
       " <div class=\"mb-srp__card__price--size\"><span class=\"rupees\">₹</span>3769 per sqft </div>,\n",
       " <div class=\"mb-srp__card__price--size\"><span class=\"rupees\">₹</span>5137 per sqft </div>,\n",
       " <div class=\"mb-srp__card__price--size\"><span class=\"rupees\">₹</span>4554 per sqft </div>,\n",
       " <div class=\"mb-srp__card__price--size\"><span class=\"rupees\">₹</span>8427 per sqft </div>,\n",
       " <div class=\"mb-srp__card__price--size\"><span class=\"rupees\">₹</span>5926 per sqft </div>,\n",
       " <div class=\"mb-srp__card__price--size\"><span class=\"rupees\">₹</span>6051 per sqft </div>,\n",
       " <div class=\"mb-srp__card__price--size\"><span class=\"rupees\">₹</span>5361 per sqft </div>,\n",
       " <div class=\"mb-srp__card__price--size\"><span class=\"rupees\">₹</span>7150 per sqft </div>,\n",
       " <div class=\"mb-srp__card__price--size\"><span class=\"rupees\">₹</span>8636 per sqft </div>,\n",
       " <div class=\"mb-srp__card__price--size\"><span class=\"rupees\">₹</span>4444 per sqft </div>,\n",
       " <div class=\"mb-srp__card__price--size\"><span class=\"rupees\">₹</span>7692 per sqft </div>,\n",
       " <div class=\"mb-srp__card__price--size\"><span class=\"rupees\">₹</span>15209 per sqft </div>,\n",
       " <div class=\"mb-srp__card__price--size\"><span class=\"rupees\">₹</span>5734 per sqft </div>,\n",
       " <div class=\"mb-srp__card__price--size\"><span class=\"rupees\">₹</span>5221 per sqft </div>]"
      ]
     },
     "execution_count": 12,
     "metadata": {},
     "output_type": "execute_result"
    }
   ],
   "source": [
    "price_per_sqft_element"
   ]
  },
  {
   "cell_type": "code",
   "execution_count": 13,
   "id": "c84c6176",
   "metadata": {},
   "outputs": [
    {
     "data": {
      "text/plain": [
       "'₹11997 per sqft '"
      ]
     },
     "execution_count": 13,
     "metadata": {},
     "output_type": "execute_result"
    }
   ],
   "source": [
    "price_per_sqft_element[0].text"
   ]
  },
  {
   "cell_type": "code",
   "execution_count": 14,
   "id": "35a7ee46",
   "metadata": {},
   "outputs": [],
   "source": [
    "price_per_sqft = []"
   ]
  },
  {
   "cell_type": "code",
   "execution_count": 15,
   "id": "083a2921",
   "metadata": {},
   "outputs": [
    {
     "name": "stdout",
     "output_type": "stream",
     "text": [
      "['₹11997 per sqft ', '₹5435 per sqft ', '₹4216 per sqft ', '₹7407 per sqft ', None, '₹15000 per sqft ', '₹8711 per sqft ', '₹4150 per sqft ', '₹6030 per sqft ', '₹9548 per sqft ', '₹3800 per sqft ', '₹3231 per sqft ', '₹6934 per sqft ', '₹10753 per sqft ', '₹3950 per sqft ', '₹16222 per sqft ', '₹3769 per sqft ', '₹5137 per sqft ', '₹4554 per sqft ', '₹8427 per sqft ', '₹5926 per sqft ', '₹6051 per sqft ', '₹5361 per sqft ', '₹7150 per sqft ', '₹8636 per sqft ', '₹4444 per sqft ', '₹7692 per sqft ', '₹15209 per sqft ', '₹5734 per sqft ', '₹5221 per sqft ']\n"
     ]
    }
   ],
   "source": [
    "for i in price_per_sqft_element:\n",
    "    if i is not None:\n",
    "        price_value = i.text\n",
    "        price_per_sqft.append(price_value)\n",
    "    else:\n",
    "        price_per_sqft.append(None)\n",
    "print(price_per_sqft)"
   ]
  },
  {
   "cell_type": "code",
   "execution_count": 16,
   "id": "8ae486aa",
   "metadata": {},
   "outputs": [
    {
     "data": {
      "text/plain": [
       "30"
      ]
     },
     "execution_count": 16,
     "metadata": {},
     "output_type": "execute_result"
    }
   ],
   "source": [
    "len(price_per_sqft)"
   ]
  },
  {
   "cell_type": "code",
   "execution_count": 17,
   "id": "401aa473",
   "metadata": {},
   "outputs": [
    {
     "data": {
      "text/plain": [
       "list"
      ]
     },
     "execution_count": 17,
     "metadata": {},
     "output_type": "execute_result"
    }
   ],
   "source": [
    "type(price_per_sqft)"
   ]
  },
  {
   "cell_type": "markdown",
   "id": "3d010616",
   "metadata": {},
   "source": [
    "## Finding SIZE of the flat"
   ]
  },
  {
   "cell_type": "code",
   "execution_count": 18,
   "id": "a7800bef",
   "metadata": {
    "scrolled": true
   },
   "outputs": [
    {
     "data": {
      "text/plain": [
       "[[<div class=\"mb-srp__card__summary__list--item\" data-summary=\"carpet-area\"><div class=\"mb-srp__card__summary--label\">Carpet Area</div><div class=\"mb-srp__card__summary--value\">1000 sqft</div></div>],\n",
       " [<div class=\"mb-srp__card__summary__list--item\" data-summary=\"carpet-area\"><div class=\"mb-srp__card__summary--label\">Carpet Area</div><div class=\"mb-srp__card__summary--value\">1104 sqft</div></div>],\n",
       " [<div class=\"mb-srp__card__summary__list--item\" data-summary=\"carpet-area\"><div class=\"mb-srp__card__summary--label\">Carpet Area</div><div class=\"mb-srp__card__summary--value\">950 sqft</div></div>],\n",
       " [],\n",
       " [<div class=\"mb-srp__card__summary__list--item\" data-summary=\"carpet-area\"><div class=\"mb-srp__card__summary--label\">Carpet Area</div><div class=\"mb-srp__card__summary--value\">1050 sqft</div></div>],\n",
       " [],\n",
       " [<div class=\"mb-srp__card__summary__list--item\" data-summary=\"carpet-area\"><div class=\"mb-srp__card__summary--label\">Carpet Area</div><div class=\"mb-srp__card__summary--value\">1500 sqft</div></div>],\n",
       " [<div class=\"mb-srp__card__summary__list--item\" data-summary=\"carpet-area\"><div class=\"mb-srp__card__summary--label\">Carpet Area</div><div class=\"mb-srp__card__summary--value\">800 sqft</div></div>],\n",
       " [<div class=\"mb-srp__card__summary__list--item\" data-summary=\"carpet-area\"><div class=\"mb-srp__card__summary--label\">Carpet Area</div><div class=\"mb-srp__card__summary--value\">925 sqft</div></div>],\n",
       " [<div class=\"mb-srp__card__summary__list--item\" data-summary=\"carpet-area\"><div class=\"mb-srp__card__summary--label\">Carpet Area</div><div class=\"mb-srp__card__summary--value\">1400 sqft</div></div>],\n",
       " [<div class=\"mb-srp__card__summary__list--item\" data-summary=\"carpet-area\"><div class=\"mb-srp__card__summary--label\">Carpet Area</div><div class=\"mb-srp__card__summary--value\">836 sqft</div></div>],\n",
       " [<div class=\"mb-srp__card__summary__list--item\" data-summary=\"carpet-area\"><div class=\"mb-srp__card__summary--label\">Carpet Area</div><div class=\"mb-srp__card__summary--value\">1200 sqft</div></div>],\n",
       " [],\n",
       " [],\n",
       " [],\n",
       " [<div class=\"mb-srp__card__summary__list--item\" data-summary=\"carpet-area\"><div class=\"mb-srp__card__summary--label\">Carpet Area</div><div class=\"mb-srp__card__summary--value\">4272 sqft</div></div>],\n",
       " [<div class=\"mb-srp__card__summary__list--item\" data-summary=\"carpet-area\"><div class=\"mb-srp__card__summary--label\">Carpet Area</div><div class=\"mb-srp__card__summary--value\">525 sqft</div></div>],\n",
       " [],\n",
       " [<div class=\"mb-srp__card__summary__list--item\" data-summary=\"carpet-area\"><div class=\"mb-srp__card__summary--label\">Carpet Area</div><div class=\"mb-srp__card__summary--value\">1120 sqft</div></div>],\n",
       " [],\n",
       " [<div class=\"mb-srp__card__summary__list--item\" data-summary=\"carpet-area\"><div class=\"mb-srp__card__summary--label\">Carpet Area</div><div class=\"mb-srp__card__summary--value\">1200 sqft</div></div>],\n",
       " [],\n",
       " [<div class=\"mb-srp__card__summary__list--item\" data-summary=\"carpet-area\"><div class=\"mb-srp__card__summary--label\">Carpet Area</div><div class=\"mb-srp__card__summary--value\">2425 sqft</div></div>],\n",
       " [],\n",
       " [],\n",
       " [<div class=\"mb-srp__card__summary__list--item\" data-summary=\"carpet-area\"><div class=\"mb-srp__card__summary--label\">Carpet Area</div><div class=\"mb-srp__card__summary--value\">1100 sqft</div></div>],\n",
       " [<div class=\"mb-srp__card__summary__list--item\" data-summary=\"carpet-area\"><div class=\"mb-srp__card__summary--label\">Carpet Area</div><div class=\"mb-srp__card__summary--value\">2100 sqft</div></div>],\n",
       " [<div class=\"mb-srp__card__summary__list--item\" data-summary=\"carpet-area\"><div class=\"mb-srp__card__summary--label\">Carpet Area</div><div class=\"mb-srp__card__summary--value\">2260 sqft</div></div>],\n",
       " [],\n",
       " [<div class=\"mb-srp__card__summary__list--item\" data-summary=\"carpet-area\"><div class=\"mb-srp__card__summary--label\">Carpet Area</div><div class=\"mb-srp__card__summary--value\">976 sqft</div></div>]]"
      ]
     },
     "execution_count": 18,
     "metadata": {},
     "output_type": "execute_result"
    }
   ],
   "source": [
    "size_element = [i.find_all('div', attrs={\"data-summary\":\"carpet-area\"}) for i in containers]\n",
    "size_element"
   ]
  },
  {
   "cell_type": "code",
   "execution_count": 19,
   "id": "f75b7285",
   "metadata": {},
   "outputs": [
    {
     "data": {
      "text/plain": [
       "bs4.element.ResultSet"
      ]
     },
     "execution_count": 19,
     "metadata": {},
     "output_type": "execute_result"
    }
   ],
   "source": [
    "type(size_element[0])"
   ]
  },
  {
   "cell_type": "code",
   "execution_count": 20,
   "id": "ff080924",
   "metadata": {
    "scrolled": true
   },
   "outputs": [
    {
     "name": "stdout",
     "output_type": "stream",
     "text": [
      "['1000 sqft', '1104 sqft', '950 sqft', None, '1050 sqft', None, '1500 sqft', '800 sqft', '925 sqft', '1400 sqft', '836 sqft', '1200 sqft', None, None, None, '4272 sqft', '525 sqft', None, '1120 sqft', None, '1200 sqft', None, '2425 sqft', None, None, '1100 sqft', '2100 sqft', '2260 sqft', None, '976 sqft']\n"
     ]
    }
   ],
   "source": [
    "size=[]\n",
    "\n",
    "for element in size_element:\n",
    "    if element:\n",
    "        soup = BeautifulSoup(str(element[0]), 'html.parser')\n",
    "        value_element = soup.find(class_=\"mb-srp__card__summary--value\")\n",
    "        if value_element:\n",
    "            text = value_element.text.strip()\n",
    "            if text:\n",
    "                size.append(text)\n",
    "            else:\n",
    "                size.append(None)\n",
    "    else:\n",
    "        size.append(None)\n",
    "print(size)"
   ]
  },
  {
   "cell_type": "code",
   "execution_count": 21,
   "id": "3a604cbd",
   "metadata": {},
   "outputs": [
    {
     "data": {
      "text/plain": [
       "30"
      ]
     },
     "execution_count": 21,
     "metadata": {},
     "output_type": "execute_result"
    }
   ],
   "source": [
    "len(size)"
   ]
  },
  {
   "cell_type": "markdown",
   "id": "781ad6b2",
   "metadata": {},
   "source": [
    "## Finding STATUS of the flat"
   ]
  },
  {
   "cell_type": "code",
   "execution_count": 22,
   "id": "3909c61c",
   "metadata": {
    "scrolled": true
   },
   "outputs": [
    {
     "data": {
      "text/plain": [
       "[[<div class=\"mb-srp__card__summary__list--item\" data-summary=\"status\"><div class=\"mb-srp__card__summary--label\">Status</div><div class=\"mb-srp__card__summary--value\">Ready to Move</div></div>],\n",
       " [<div class=\"mb-srp__card__summary__list--item\" data-summary=\"status\"><div class=\"mb-srp__card__summary--label\">Status</div><div class=\"mb-srp__card__summary--value\">Ready to Move</div></div>],\n",
       " [<div class=\"mb-srp__card__summary__list--item\" data-summary=\"status\"><div class=\"mb-srp__card__summary--label\">Status</div><div class=\"mb-srp__card__summary--value\">Ready to Move</div></div>],\n",
       " [<div class=\"mb-srp__card__summary__list--item\" data-summary=\"status\"><div class=\"mb-srp__card__summary--label\">Status</div><div class=\"mb-srp__card__summary--value\">Ready to Move</div></div>],\n",
       " [<div class=\"mb-srp__card__summary__list--item\" data-summary=\"status\"><div class=\"mb-srp__card__summary--label\">Status</div><div class=\"mb-srp__card__summary--value\">Ready to Move</div></div>],\n",
       " [<div class=\"mb-srp__card__summary__list--item\" data-summary=\"status\"><div class=\"mb-srp__card__summary--label\">Status</div><div class=\"mb-srp__card__summary--value\">Ready to Move</div></div>],\n",
       " [<div class=\"mb-srp__card__summary__list--item\" data-summary=\"status\"><div class=\"mb-srp__card__summary--label\">Status</div><div class=\"mb-srp__card__summary--value\">Ready to Move</div></div>],\n",
       " [<div class=\"mb-srp__card__summary__list--item\" data-summary=\"status\"><div class=\"mb-srp__card__summary--label\">Status</div><div class=\"mb-srp__card__summary--value\">Ready to Move</div></div>],\n",
       " [<div class=\"mb-srp__card__summary__list--item\" data-summary=\"status\"><div class=\"mb-srp__card__summary--label\">Status</div><div class=\"mb-srp__card__summary--value\">Ready to Move</div></div>],\n",
       " [<div class=\"mb-srp__card__summary__list--item\" data-summary=\"status\"><div class=\"mb-srp__card__summary--label\">Status</div><div class=\"mb-srp__card__summary--value\">Ready to Move</div></div>],\n",
       " [<div class=\"mb-srp__card__summary__list--item\" data-summary=\"status\"><div class=\"mb-srp__card__summary--label\">Status</div><div class=\"mb-srp__card__summary--value\">Ready to Move</div></div>],\n",
       " [<div class=\"mb-srp__card__summary__list--item\" data-summary=\"status\"><div class=\"mb-srp__card__summary--label\">Status</div><div class=\"mb-srp__card__summary--value\">Ready to Move</div></div>],\n",
       " [<div class=\"mb-srp__card__summary__list--item\" data-summary=\"status\"><div class=\"mb-srp__card__summary--label\">Status</div><div class=\"mb-srp__card__summary--value\">Ready to Move</div></div>],\n",
       " [<div class=\"mb-srp__card__summary__list--item\" data-summary=\"status\"><div class=\"mb-srp__card__summary--label\">Status</div><div class=\"mb-srp__card__summary--value\">Ready to Move</div></div>],\n",
       " [<div class=\"mb-srp__card__summary__list--item\" data-summary=\"status\"><div class=\"mb-srp__card__summary--label\">Status</div><div class=\"mb-srp__card__summary--value\">Ready to Move</div></div>],\n",
       " [<div class=\"mb-srp__card__summary__list--item\" data-summary=\"status\"><div class=\"mb-srp__card__summary--label\">Status</div><div class=\"mb-srp__card__summary--value\">Ready to Move</div></div>],\n",
       " [<div class=\"mb-srp__card__summary__list--item\" data-summary=\"status\"><div class=\"mb-srp__card__summary--label\">Status</div><div class=\"mb-srp__card__summary--value\">Ready to Move</div></div>],\n",
       " [<div class=\"mb-srp__card__summary__list--item\" data-summary=\"status\"><div class=\"mb-srp__card__summary--label\">Status</div><div class=\"mb-srp__card__summary--value\">Ready to Move</div></div>],\n",
       " [<div class=\"mb-srp__card__summary__list--item\" data-summary=\"status\"><div class=\"mb-srp__card__summary--label\">Status</div><div class=\"mb-srp__card__summary--value\">Ready to Move</div></div>],\n",
       " [<div class=\"mb-srp__card__summary__list--item\" data-summary=\"status\"><div class=\"mb-srp__card__summary--label\">Status</div><div class=\"mb-srp__card__summary--value\">Ready to Move</div></div>],\n",
       " [<div class=\"mb-srp__card__summary__list--item\" data-summary=\"status\"><div class=\"mb-srp__card__summary--label\">Status</div><div class=\"mb-srp__card__summary--value\">Ready to Move</div></div>],\n",
       " [<div class=\"mb-srp__card__summary__list--item\" data-summary=\"status\"><div class=\"mb-srp__card__summary--label\">Status</div><div class=\"mb-srp__card__summary--value\">Ready to Move</div></div>],\n",
       " [<div class=\"mb-srp__card__summary__list--item\" data-summary=\"status\"><div class=\"mb-srp__card__summary--label\">Status</div><div class=\"mb-srp__card__summary--value\">Ready to Move</div></div>],\n",
       " [],\n",
       " [<div class=\"mb-srp__card__summary__list--item\" data-summary=\"status\"><div class=\"mb-srp__card__summary--label\">Status</div><div class=\"mb-srp__card__summary--value\">Ready to Move</div></div>],\n",
       " [<div class=\"mb-srp__card__summary__list--item\" data-summary=\"status\"><div class=\"mb-srp__card__summary--label\">Status</div><div class=\"mb-srp__card__summary--value\">Ready to Move</div></div>],\n",
       " [<div class=\"mb-srp__card__summary__list--item\" data-summary=\"status\"><div class=\"mb-srp__card__summary--label\">Status</div><div class=\"mb-srp__card__summary--value\">Ready to Move</div></div>],\n",
       " [<div class=\"mb-srp__card__summary__list--item\" data-summary=\"status\"><div class=\"mb-srp__card__summary--label\">Status</div><div class=\"mb-srp__card__summary--value\">Ready to Move</div></div>],\n",
       " [<div class=\"mb-srp__card__summary__list--item\" data-summary=\"status\"><div class=\"mb-srp__card__summary--label\">Status</div><div class=\"mb-srp__card__summary--value\">Ready to Move</div></div>],\n",
       " [<div class=\"mb-srp__card__summary__list--item\" data-summary=\"status\"><div class=\"mb-srp__card__summary--label\">Under Construction</div><div class=\"mb-srp__card__summary--value\">Poss. by Dec '24</div></div>]]"
      ]
     },
     "execution_count": 22,
     "metadata": {},
     "output_type": "execute_result"
    }
   ],
   "source": [
    "status_element = [i.find_all('div', attrs={\"data-summary\":\"status\"}) for i in containers]\n",
    "status_element"
   ]
  },
  {
   "cell_type": "code",
   "execution_count": 23,
   "id": "72bb0218",
   "metadata": {},
   "outputs": [
    {
     "name": "stdout",
     "output_type": "stream",
     "text": [
      "['Ready to Move', 'Ready to Move', 'Ready to Move', 'Ready to Move', 'Ready to Move', 'Ready to Move', 'Ready to Move', 'Ready to Move', 'Ready to Move', 'Ready to Move', 'Ready to Move', 'Ready to Move', 'Ready to Move', 'Ready to Move', 'Ready to Move', 'Ready to Move', 'Ready to Move', 'Ready to Move', 'Ready to Move', 'Ready to Move', 'Ready to Move', 'Ready to Move', 'Ready to Move', None, 'Ready to Move', 'Ready to Move', 'Ready to Move', 'Ready to Move', 'Ready to Move', \"Poss. by Dec '24\"]\n"
     ]
    }
   ],
   "source": [
    "status=[]\n",
    "\n",
    "for element in status_element:\n",
    "    if element:\n",
    "        soup = BeautifulSoup(str(element[0]), 'html.parser')\n",
    "        value_element = soup.find(class_=\"mb-srp__card__summary--value\")\n",
    "        if value_element:\n",
    "            text = value_element.text.strip()\n",
    "            if text:\n",
    "                status.append(text)\n",
    "            else:\n",
    "                status.append(None)\n",
    "    else:\n",
    "        status.append(None)\n",
    "        \n",
    "print(status)"
   ]
  },
  {
   "cell_type": "code",
   "execution_count": 24,
   "id": "c489311a",
   "metadata": {},
   "outputs": [
    {
     "data": {
      "text/plain": [
       "30"
      ]
     },
     "execution_count": 24,
     "metadata": {},
     "output_type": "execute_result"
    }
   ],
   "source": [
    "len(status)"
   ]
  },
  {
   "cell_type": "markdown",
   "id": "557c94c1",
   "metadata": {},
   "source": [
    "## Brought down all the above operations into a single block"
   ]
  },
  {
   "cell_type": "code",
   "execution_count": 25,
   "id": "71a14bfd",
   "metadata": {},
   "outputs": [],
   "source": [
    "title = []\n",
    "price = []\n",
    "size = []\n",
    "price_per_sqft = []\n",
    "status = []\n",
    "\n",
    "#title of the flat\n",
    "title = [i.find('h2').text for i in containers]\n",
    "\n",
    "#price of the flat\n",
    "price = [i.find(class_=\"mb-srp__card__price--amount\").text for i in containers]\n",
    "\n",
    "#price per sqft of the flat\n",
    "price_per_sqft_element = [i.find(class_=\"mb-srp__card__price--size\") for i in containers]\n",
    "for i in price_per_sqft_element:\n",
    "    if i is not None:\n",
    "        price_value = i.text\n",
    "        price_per_sqft.append(price_value)\n",
    "    else:\n",
    "        price_per_sqft.append(None)\n",
    "        \n",
    "#size of the flat\n",
    "size_element = [i.find_all('div', attrs={\"data-summary\":\"carpet-area\"}) for i in containers]\n",
    "for element in size_element:\n",
    "    if element:\n",
    "        soup = BeautifulSoup(str(element[0]), 'html.parser')\n",
    "        value_element = soup.find(class_=\"mb-srp__card__summary--value\")\n",
    "        if value_element:\n",
    "            text = value_element.text.strip()\n",
    "            if text:\n",
    "                size.append(text)\n",
    "            else:\n",
    "                size.append(None)\n",
    "    else:\n",
    "        size.append(None)\n",
    "\n",
    "#status of the flat\n",
    "status_element = [i.find_all('div', attrs={\"data-summary\":\"status\"}) for i in containers]\n",
    "for element in status_element:\n",
    "    if element:\n",
    "        soup = BeautifulSoup(str(element[0]), 'html.parser')\n",
    "        value_element = soup.find(class_=\"mb-srp__card__summary--value\")\n",
    "        if value_element:\n",
    "            text = value_element.text.strip()\n",
    "            if text:\n",
    "                status.append(text)\n",
    "            else:\n",
    "                status.append(None)\n",
    "    else:\n",
    "        status.append(None)"
   ]
  },
  {
   "cell_type": "markdown",
   "id": "c45c19de",
   "metadata": {},
   "source": [
    "## Created a pandas DataFrame (Page 1)"
   ]
  },
  {
   "cell_type": "code",
   "execution_count": 26,
   "id": "8d9fb14e",
   "metadata": {},
   "outputs": [],
   "source": [
    "d = {'title':title, 'price':price, 'size':size, 'price_per_sqft':price_per_sqft, 'status':status}"
   ]
  },
  {
   "cell_type": "code",
   "execution_count": 27,
   "id": "c1567c7e",
   "metadata": {
    "scrolled": true
   },
   "outputs": [
    {
     "data": {
      "text/html": [
       "<div>\n",
       "<style scoped>\n",
       "    .dataframe tbody tr th:only-of-type {\n",
       "        vertical-align: middle;\n",
       "    }\n",
       "\n",
       "    .dataframe tbody tr th {\n",
       "        vertical-align: top;\n",
       "    }\n",
       "\n",
       "    .dataframe thead th {\n",
       "        text-align: right;\n",
       "    }\n",
       "</style>\n",
       "<table border=\"1\" class=\"dataframe\">\n",
       "  <thead>\n",
       "    <tr style=\"text-align: right;\">\n",
       "      <th></th>\n",
       "      <th>title</th>\n",
       "      <th>price</th>\n",
       "      <th>size</th>\n",
       "      <th>price_per_sqft</th>\n",
       "      <th>status</th>\n",
       "    </tr>\n",
       "  </thead>\n",
       "  <tbody>\n",
       "    <tr>\n",
       "      <th>0</th>\n",
       "      <td>3 BHK Flat for Sale in Whitefield, Bangalore</td>\n",
       "      <td>₹1.76 Cr</td>\n",
       "      <td>1000 sqft</td>\n",
       "      <td>₹11997 per sqft</td>\n",
       "      <td>Ready to Move</td>\n",
       "    </tr>\n",
       "    <tr>\n",
       "      <th>1</th>\n",
       "      <td>3 BHK Flat for Sale in Yelahanka, Bangalore</td>\n",
       "      <td>₹75 Lac</td>\n",
       "      <td>1104 sqft</td>\n",
       "      <td>₹5435 per sqft</td>\n",
       "      <td>Ready to Move</td>\n",
       "    </tr>\n",
       "    <tr>\n",
       "      <th>2</th>\n",
       "      <td>2 BHK Flat for Sale in Kalyan Nagar, Bangalore</td>\n",
       "      <td>₹43 Lac</td>\n",
       "      <td>950 sqft</td>\n",
       "      <td>₹4216 per sqft</td>\n",
       "      <td>Ready to Move</td>\n",
       "    </tr>\n",
       "    <tr>\n",
       "      <th>3</th>\n",
       "      <td>3 BHK Flat for Sale in Vijayanagar, Bangalore</td>\n",
       "      <td>₹1.40 Cr</td>\n",
       "      <td>None</td>\n",
       "      <td>₹7407 per sqft</td>\n",
       "      <td>Ready to Move</td>\n",
       "    </tr>\n",
       "    <tr>\n",
       "      <th>4</th>\n",
       "      <td>2 BHK Flat for Sale in Krishnarajapura, Bangalore</td>\n",
       "      <td>₹45 Lac</td>\n",
       "      <td>1050 sqft</td>\n",
       "      <td>None</td>\n",
       "      <td>Ready to Move</td>\n",
       "    </tr>\n",
       "    <tr>\n",
       "      <th>5</th>\n",
       "      <td>3 BHK Flat for Sale in Saint Johns Road, Banga...</td>\n",
       "      <td>₹3.75 Cr</td>\n",
       "      <td>None</td>\n",
       "      <td>₹15000 per sqft</td>\n",
       "      <td>Ready to Move</td>\n",
       "    </tr>\n",
       "    <tr>\n",
       "      <th>6</th>\n",
       "      <td>3 BHK Flat for Sale in Phase 1 Electronics Cit...</td>\n",
       "      <td>₹98 Lac</td>\n",
       "      <td>1500 sqft</td>\n",
       "      <td>₹8711 per sqft</td>\n",
       "      <td>Ready to Move</td>\n",
       "    </tr>\n",
       "    <tr>\n",
       "      <th>7</th>\n",
       "      <td>2 BHK Flat for Sale in Bannerghatta Main Road,...</td>\n",
       "      <td>₹41.5 Lac</td>\n",
       "      <td>800 sqft</td>\n",
       "      <td>₹4150 per sqft</td>\n",
       "      <td>Ready to Move</td>\n",
       "    </tr>\n",
       "    <tr>\n",
       "      <th>8</th>\n",
       "      <td>2 BHK Flat for Sale in Old Madras Road, Bangalore</td>\n",
       "      <td>₹60 Lac</td>\n",
       "      <td>925 sqft</td>\n",
       "      <td>₹6030 per sqft</td>\n",
       "      <td>Ready to Move</td>\n",
       "    </tr>\n",
       "    <tr>\n",
       "      <th>9</th>\n",
       "      <td>3 BHK Flat for Sale in Block 1st Koramangala, ...</td>\n",
       "      <td>₹1.48 Cr</td>\n",
       "      <td>1400 sqft</td>\n",
       "      <td>₹9548 per sqft</td>\n",
       "      <td>Ready to Move</td>\n",
       "    </tr>\n",
       "    <tr>\n",
       "      <th>10</th>\n",
       "      <td>2 BHK Flat for Sale in Mico Layout Hongasandra...</td>\n",
       "      <td>₹45.4 Lac</td>\n",
       "      <td>836 sqft</td>\n",
       "      <td>₹3800 per sqft</td>\n",
       "      <td>Ready to Move</td>\n",
       "    </tr>\n",
       "    <tr>\n",
       "      <th>11</th>\n",
       "      <td>2 BHK Flat for Sale in Vikas Nagar, Bangalore</td>\n",
       "      <td>₹42 Lac</td>\n",
       "      <td>1200 sqft</td>\n",
       "      <td>₹3231 per sqft</td>\n",
       "      <td>Ready to Move</td>\n",
       "    </tr>\n",
       "    <tr>\n",
       "      <th>12</th>\n",
       "      <td>3 BHK Flat for Sale in Mysore Road, Bangalore</td>\n",
       "      <td>₹90 Lac</td>\n",
       "      <td>None</td>\n",
       "      <td>₹6934 per sqft</td>\n",
       "      <td>Ready to Move</td>\n",
       "    </tr>\n",
       "    <tr>\n",
       "      <th>13</th>\n",
       "      <td>3 BHK Flat for Sale in Krishnarajapura, Bangalore</td>\n",
       "      <td>₹1.90 Cr</td>\n",
       "      <td>None</td>\n",
       "      <td>₹10753 per sqft</td>\n",
       "      <td>Ready to Move</td>\n",
       "    </tr>\n",
       "    <tr>\n",
       "      <th>14</th>\n",
       "      <td>2 BHK Flat for Sale in Krishnarajapura, Bangalore</td>\n",
       "      <td>₹47 Lac</td>\n",
       "      <td>None</td>\n",
       "      <td>₹3950 per sqft</td>\n",
       "      <td>Ready to Move</td>\n",
       "    </tr>\n",
       "    <tr>\n",
       "      <th>15</th>\n",
       "      <td>4 BHK Flat for Sale in Nandi Durga Road, Banga...</td>\n",
       "      <td>₹7.30 Cr</td>\n",
       "      <td>4272 sqft</td>\n",
       "      <td>₹16222 per sqft</td>\n",
       "      <td>Ready to Move</td>\n",
       "    </tr>\n",
       "    <tr>\n",
       "      <th>16</th>\n",
       "      <td>1 BHK Flat for Sale in Sarjapur Road, Bangalore</td>\n",
       "      <td>₹24.5 Lac</td>\n",
       "      <td>525 sqft</td>\n",
       "      <td>₹3769 per sqft</td>\n",
       "      <td>Ready to Move</td>\n",
       "    </tr>\n",
       "    <tr>\n",
       "      <th>17</th>\n",
       "      <td>2 BHK Flat for Sale in Rachenahalli, Thanisand...</td>\n",
       "      <td>₹58 Lac</td>\n",
       "      <td>None</td>\n",
       "      <td>₹5137 per sqft</td>\n",
       "      <td>Ready to Move</td>\n",
       "    </tr>\n",
       "    <tr>\n",
       "      <th>18</th>\n",
       "      <td>2 BHK Flat for Sale in Phase 2 Electronic City...</td>\n",
       "      <td>₹51 Lac</td>\n",
       "      <td>1120 sqft</td>\n",
       "      <td>₹4554 per sqft</td>\n",
       "      <td>Ready to Move</td>\n",
       "    </tr>\n",
       "    <tr>\n",
       "      <th>19</th>\n",
       "      <td>3 BHK Flat for Sale in Whitefield, Bangalore</td>\n",
       "      <td>₹1.50 Cr</td>\n",
       "      <td>None</td>\n",
       "      <td>₹8427 per sqft</td>\n",
       "      <td>Ready to Move</td>\n",
       "    </tr>\n",
       "    <tr>\n",
       "      <th>20</th>\n",
       "      <td>3 BHK Flat for Sale in Hoodi, Hoodi, Bangalore</td>\n",
       "      <td>₹80 Lac</td>\n",
       "      <td>1200 sqft</td>\n",
       "      <td>₹5926 per sqft</td>\n",
       "      <td>Ready to Move</td>\n",
       "    </tr>\n",
       "    <tr>\n",
       "      <th>21</th>\n",
       "      <td>3 BHK Flat for Sale in Kanakapura Road, Bangalore</td>\n",
       "      <td>₹95 Lac</td>\n",
       "      <td>None</td>\n",
       "      <td>₹6051 per sqft</td>\n",
       "      <td>Ready to Move</td>\n",
       "    </tr>\n",
       "    <tr>\n",
       "      <th>22</th>\n",
       "      <td>4 BHK Flat for Sale in Krishnarajapura, Bangalore</td>\n",
       "      <td>₹1.30 Cr</td>\n",
       "      <td>2425 sqft</td>\n",
       "      <td>₹5361 per sqft</td>\n",
       "      <td>Ready to Move</td>\n",
       "    </tr>\n",
       "    <tr>\n",
       "      <th>23</th>\n",
       "      <td>2 BHK Flat for Sale in K Narayanapura, Bangalore</td>\n",
       "      <td>₹69 Lac</td>\n",
       "      <td>None</td>\n",
       "      <td>₹7150 per sqft</td>\n",
       "      <td>None</td>\n",
       "    </tr>\n",
       "    <tr>\n",
       "      <th>24</th>\n",
       "      <td>2 BHK Flat for Sale in Stage II Chandra Layout...</td>\n",
       "      <td>₹95 Lac</td>\n",
       "      <td>None</td>\n",
       "      <td>₹8636 per sqft</td>\n",
       "      <td>Ready to Move</td>\n",
       "    </tr>\n",
       "    <tr>\n",
       "      <th>25</th>\n",
       "      <td>2 BHK Flat for Sale in Jalahalli West, Bangalore</td>\n",
       "      <td>₹52 Lac</td>\n",
       "      <td>1100 sqft</td>\n",
       "      <td>₹4444 per sqft</td>\n",
       "      <td>Ready to Move</td>\n",
       "    </tr>\n",
       "    <tr>\n",
       "      <th>26</th>\n",
       "      <td>4 BHK Flat for Sale in Lingarajapuram, Lingara...</td>\n",
       "      <td>₹2 Cr</td>\n",
       "      <td>2100 sqft</td>\n",
       "      <td>₹7692 per sqft</td>\n",
       "      <td>Ready to Move</td>\n",
       "    </tr>\n",
       "    <tr>\n",
       "      <th>27</th>\n",
       "      <td>3 BHK Flat for Sale in Halasuru, Bangalore</td>\n",
       "      <td>₹4 Cr</td>\n",
       "      <td>2260 sqft</td>\n",
       "      <td>₹15209 per sqft</td>\n",
       "      <td>Ready to Move</td>\n",
       "    </tr>\n",
       "    <tr>\n",
       "      <th>28</th>\n",
       "      <td>2 BHK Flat for Sale in J P Nagar, Bangalore</td>\n",
       "      <td>₹59 Lac</td>\n",
       "      <td>None</td>\n",
       "      <td>₹5734 per sqft</td>\n",
       "      <td>Ready to Move</td>\n",
       "    </tr>\n",
       "    <tr>\n",
       "      <th>29</th>\n",
       "      <td>3 BHK Flat for Sale in Chandapura, Bangalore</td>\n",
       "      <td>₹71 Lac</td>\n",
       "      <td>976 sqft</td>\n",
       "      <td>₹5221 per sqft</td>\n",
       "      <td>Poss. by Dec '24</td>\n",
       "    </tr>\n",
       "  </tbody>\n",
       "</table>\n",
       "</div>"
      ],
      "text/plain": [
       "                                                title       price       size  \\\n",
       "0        3 BHK Flat for Sale in Whitefield, Bangalore   ₹1.76 Cr   1000 sqft   \n",
       "1         3 BHK Flat for Sale in Yelahanka, Bangalore    ₹75 Lac   1104 sqft   \n",
       "2      2 BHK Flat for Sale in Kalyan Nagar, Bangalore    ₹43 Lac    950 sqft   \n",
       "3       3 BHK Flat for Sale in Vijayanagar, Bangalore   ₹1.40 Cr        None   \n",
       "4   2 BHK Flat for Sale in Krishnarajapura, Bangalore    ₹45 Lac   1050 sqft   \n",
       "5   3 BHK Flat for Sale in Saint Johns Road, Banga...   ₹3.75 Cr        None   \n",
       "6   3 BHK Flat for Sale in Phase 1 Electronics Cit...    ₹98 Lac   1500 sqft   \n",
       "7   2 BHK Flat for Sale in Bannerghatta Main Road,...  ₹41.5 Lac    800 sqft   \n",
       "8   2 BHK Flat for Sale in Old Madras Road, Bangalore    ₹60 Lac    925 sqft   \n",
       "9   3 BHK Flat for Sale in Block 1st Koramangala, ...   ₹1.48 Cr   1400 sqft   \n",
       "10  2 BHK Flat for Sale in Mico Layout Hongasandra...  ₹45.4 Lac    836 sqft   \n",
       "11      2 BHK Flat for Sale in Vikas Nagar, Bangalore    ₹42 Lac   1200 sqft   \n",
       "12      3 BHK Flat for Sale in Mysore Road, Bangalore    ₹90 Lac        None   \n",
       "13  3 BHK Flat for Sale in Krishnarajapura, Bangalore   ₹1.90 Cr        None   \n",
       "14  2 BHK Flat for Sale in Krishnarajapura, Bangalore    ₹47 Lac        None   \n",
       "15  4 BHK Flat for Sale in Nandi Durga Road, Banga...   ₹7.30 Cr   4272 sqft   \n",
       "16    1 BHK Flat for Sale in Sarjapur Road, Bangalore  ₹24.5 Lac    525 sqft   \n",
       "17  2 BHK Flat for Sale in Rachenahalli, Thanisand...    ₹58 Lac        None   \n",
       "18  2 BHK Flat for Sale in Phase 2 Electronic City...    ₹51 Lac   1120 sqft   \n",
       "19       3 BHK Flat for Sale in Whitefield, Bangalore   ₹1.50 Cr        None   \n",
       "20     3 BHK Flat for Sale in Hoodi, Hoodi, Bangalore    ₹80 Lac   1200 sqft   \n",
       "21  3 BHK Flat for Sale in Kanakapura Road, Bangalore    ₹95 Lac        None   \n",
       "22  4 BHK Flat for Sale in Krishnarajapura, Bangalore   ₹1.30 Cr   2425 sqft   \n",
       "23   2 BHK Flat for Sale in K Narayanapura, Bangalore    ₹69 Lac        None   \n",
       "24  2 BHK Flat for Sale in Stage II Chandra Layout...    ₹95 Lac        None   \n",
       "25   2 BHK Flat for Sale in Jalahalli West, Bangalore    ₹52 Lac   1100 sqft   \n",
       "26  4 BHK Flat for Sale in Lingarajapuram, Lingara...      ₹2 Cr   2100 sqft   \n",
       "27         3 BHK Flat for Sale in Halasuru, Bangalore      ₹4 Cr   2260 sqft   \n",
       "28        2 BHK Flat for Sale in J P Nagar, Bangalore    ₹59 Lac        None   \n",
       "29       3 BHK Flat for Sale in Chandapura, Bangalore    ₹71 Lac    976 sqft   \n",
       "\n",
       "      price_per_sqft            status  \n",
       "0   ₹11997 per sqft      Ready to Move  \n",
       "1    ₹5435 per sqft      Ready to Move  \n",
       "2    ₹4216 per sqft      Ready to Move  \n",
       "3    ₹7407 per sqft      Ready to Move  \n",
       "4               None     Ready to Move  \n",
       "5   ₹15000 per sqft      Ready to Move  \n",
       "6    ₹8711 per sqft      Ready to Move  \n",
       "7    ₹4150 per sqft      Ready to Move  \n",
       "8    ₹6030 per sqft      Ready to Move  \n",
       "9    ₹9548 per sqft      Ready to Move  \n",
       "10   ₹3800 per sqft      Ready to Move  \n",
       "11   ₹3231 per sqft      Ready to Move  \n",
       "12   ₹6934 per sqft      Ready to Move  \n",
       "13  ₹10753 per sqft      Ready to Move  \n",
       "14   ₹3950 per sqft      Ready to Move  \n",
       "15  ₹16222 per sqft      Ready to Move  \n",
       "16   ₹3769 per sqft      Ready to Move  \n",
       "17   ₹5137 per sqft      Ready to Move  \n",
       "18   ₹4554 per sqft      Ready to Move  \n",
       "19   ₹8427 per sqft      Ready to Move  \n",
       "20   ₹5926 per sqft      Ready to Move  \n",
       "21   ₹6051 per sqft      Ready to Move  \n",
       "22   ₹5361 per sqft      Ready to Move  \n",
       "23   ₹7150 per sqft               None  \n",
       "24   ₹8636 per sqft      Ready to Move  \n",
       "25   ₹4444 per sqft      Ready to Move  \n",
       "26   ₹7692 per sqft      Ready to Move  \n",
       "27  ₹15209 per sqft      Ready to Move  \n",
       "28   ₹5734 per sqft      Ready to Move  \n",
       "29   ₹5221 per sqft   Poss. by Dec '24  "
      ]
     },
     "execution_count": 27,
     "metadata": {},
     "output_type": "execute_result"
    }
   ],
   "source": [
    "df = pd.DataFrame(d)\n",
    "df"
   ]
  },
  {
   "cell_type": "code",
   "execution_count": 28,
   "id": "858ac180",
   "metadata": {},
   "outputs": [
    {
     "data": {
      "text/plain": [
       "(30, 5)"
      ]
     },
     "execution_count": 28,
     "metadata": {},
     "output_type": "execute_result"
    }
   ],
   "source": [
    "df.shape"
   ]
  },
  {
   "cell_type": "markdown",
   "id": "129f9e0f",
   "metadata": {},
   "source": [
    "## Final Step to integrate all the above operations to scrape the whole website"
   ]
  },
  {
   "cell_type": "code",
   "execution_count": 29,
   "id": "0277fefe",
   "metadata": {},
   "outputs": [],
   "source": [
    "final = pd.DataFrame()\n",
    "\n",
    "for j in range (1,50):\n",
    "    url = 'https://www.magicbricks.com/flats-in-bangalore-for-sale-pppfs/page-{}'.format(j)\n",
    "    headers = {\n",
    "        'User-Agent': 'Mozilla/5.0 (Macintosh; Intel Mac OS X 10_15_7) AppleWebKit/537.36 (KHTML, like Gecko) Chrome/101.0.4951.64 Safari/537.36 Edg/101.0.1210.47'\n",
    "    }\n",
    "    webpage = requests.get(url, headers=headers).text\n",
    "    \n",
    "    soup = BeautifulSoup(webpage, 'lxml')\n",
    "    \n",
    "    containers = soup.find_all('div', class_='mb-srp__card')\n",
    "    \n",
    "    title = []\n",
    "    price = []\n",
    "    size = []\n",
    "    price_per_sqft = []\n",
    "    status = []\n",
    "\n",
    "    #title of the flat\n",
    "    title = [i.find('h2').text for i in containers]\n",
    "\n",
    "    #price of the flat\n",
    "    price = [i.find(class_=\"mb-srp__card__price--amount\").text for i in containers]\n",
    "\n",
    "    #price per sqft of the flat\n",
    "    price_per_sqft_element = [i.find(class_=\"mb-srp__card__price--size\") for i in containers]\n",
    "    for i in price_per_sqft_element:\n",
    "        if i is not None:\n",
    "            price_value = i.text\n",
    "            price_per_sqft.append(price_value)\n",
    "        else:\n",
    "            price_per_sqft.append(None)\n",
    "\n",
    "    #size of the flat\n",
    "    size_element = [i.find_all('div', attrs={\"data-summary\":\"carpet-area\"}) for i in containers]\n",
    "    for element in size_element:\n",
    "        if element:\n",
    "            soup = BeautifulSoup(str(element[0]), 'html.parser')\n",
    "            value_element = soup.find(class_=\"mb-srp__card__summary--value\")\n",
    "            if value_element:\n",
    "                text = value_element.text.strip()\n",
    "                if text:\n",
    "                    size.append(text)\n",
    "                else:\n",
    "                    size.append(None)\n",
    "        else:\n",
    "            size.append(None)\n",
    "\n",
    "    #status of the flat\n",
    "    status_element = [i.find_all('div', attrs={\"data-summary\":\"status\"}) for i in containers]\n",
    "    for element in status_element:\n",
    "        if element:\n",
    "            soup = BeautifulSoup(str(element[0]), 'html.parser')\n",
    "            value_element = soup.find(class_=\"mb-srp__card__summary--value\")\n",
    "            if value_element:\n",
    "                text = value_element.text.strip()\n",
    "                if text:\n",
    "                    status.append(text)\n",
    "                else:\n",
    "                    status.append(None)\n",
    "        else:\n",
    "            status.append(None)\n",
    "    \n",
    "    d = {'title':title, 'price':price, 'size':size, 'price_per_sqft':price_per_sqft, 'status':status}\n",
    "    df = pd.DataFrame(d)\n",
    "    final = final.append(df)"
   ]
  },
  {
   "cell_type": "code",
   "execution_count": 30,
   "id": "144a0567",
   "metadata": {},
   "outputs": [
    {
     "data": {
      "text/html": [
       "<div>\n",
       "<style scoped>\n",
       "    .dataframe tbody tr th:only-of-type {\n",
       "        vertical-align: middle;\n",
       "    }\n",
       "\n",
       "    .dataframe tbody tr th {\n",
       "        vertical-align: top;\n",
       "    }\n",
       "\n",
       "    .dataframe thead th {\n",
       "        text-align: right;\n",
       "    }\n",
       "</style>\n",
       "<table border=\"1\" class=\"dataframe\">\n",
       "  <thead>\n",
       "    <tr style=\"text-align: right;\">\n",
       "      <th></th>\n",
       "      <th>title</th>\n",
       "      <th>price</th>\n",
       "      <th>size</th>\n",
       "      <th>price_per_sqft</th>\n",
       "      <th>status</th>\n",
       "    </tr>\n",
       "  </thead>\n",
       "  <tbody>\n",
       "    <tr>\n",
       "      <th>0</th>\n",
       "      <td>2 BHK Flat for Sale in Thanisandra Main Road, ...</td>\n",
       "      <td>₹85 Lac</td>\n",
       "      <td>1000 sqft</td>\n",
       "      <td>₹7328 per sqft</td>\n",
       "      <td>Ready to Move</td>\n",
       "    </tr>\n",
       "    <tr>\n",
       "      <th>1</th>\n",
       "      <td>3 BHK Flat for Sale in Horamavu, Bangalore</td>\n",
       "      <td>₹1.30 Cr</td>\n",
       "      <td>1260 sqft</td>\n",
       "      <td>₹6878 per sqft</td>\n",
       "      <td>Ready to Move</td>\n",
       "    </tr>\n",
       "    <tr>\n",
       "      <th>2</th>\n",
       "      <td>3 BHK Flat for Sale in Chandapura, Bangalore</td>\n",
       "      <td>₹37.2 Lac</td>\n",
       "      <td>None</td>\n",
       "      <td>₹3000 per sqft</td>\n",
       "      <td>Poss. by Dec '24</td>\n",
       "    </tr>\n",
       "    <tr>\n",
       "      <th>3</th>\n",
       "      <td>3 BHK Flat for Sale in Gubbalala, Subramanyapu...</td>\n",
       "      <td>₹88 Lac</td>\n",
       "      <td>1340 sqft</td>\n",
       "      <td>₹5906 per sqft</td>\n",
       "      <td>Ready to Move</td>\n",
       "    </tr>\n",
       "    <tr>\n",
       "      <th>4</th>\n",
       "      <td>2 BHK Flat for Sale in Gottigere, Bangalore</td>\n",
       "      <td>₹57 Lac</td>\n",
       "      <td>None</td>\n",
       "      <td>₹4524 per sqft</td>\n",
       "      <td>Ready to Move</td>\n",
       "    </tr>\n",
       "    <tr>\n",
       "      <th>...</th>\n",
       "      <td>...</td>\n",
       "      <td>...</td>\n",
       "      <td>...</td>\n",
       "      <td>...</td>\n",
       "      <td>...</td>\n",
       "    </tr>\n",
       "    <tr>\n",
       "      <th>25</th>\n",
       "      <td>4 BHK Flat for Sale in Brookefield, Bangalore</td>\n",
       "      <td>₹2.60 Cr</td>\n",
       "      <td>2700 sqft</td>\n",
       "      <td>₹8667 per sqft</td>\n",
       "      <td>Ready to Move</td>\n",
       "    </tr>\n",
       "    <tr>\n",
       "      <th>26</th>\n",
       "      <td>4 BHK Flat for Sale in Basavanagudi, Bangalore</td>\n",
       "      <td>₹8.80 Cr</td>\n",
       "      <td>2748 sqft</td>\n",
       "      <td>₹25107 per sqft</td>\n",
       "      <td>Ready to Move</td>\n",
       "    </tr>\n",
       "    <tr>\n",
       "      <th>27</th>\n",
       "      <td>2 BHK Flat for Sale in Yeswanthpur, Bangalore</td>\n",
       "      <td>₹1.22 Cr</td>\n",
       "      <td>875 sqft</td>\n",
       "      <td>₹9760 per sqft</td>\n",
       "      <td>Poss. by Dec '23</td>\n",
       "    </tr>\n",
       "    <tr>\n",
       "      <th>28</th>\n",
       "      <td>2 BHK Flat for Sale in Bagalur Main Road, Bang...</td>\n",
       "      <td>₹52.8 Lac</td>\n",
       "      <td>None</td>\n",
       "      <td>₹5399 per sqft</td>\n",
       "      <td>Poss. by May '27</td>\n",
       "    </tr>\n",
       "    <tr>\n",
       "      <th>29</th>\n",
       "      <td>2 BHK Flat for Sale in Amrutahalli, Bangalore</td>\n",
       "      <td>₹63 Lac</td>\n",
       "      <td>810 sqft</td>\n",
       "      <td>₹7000 per sqft</td>\n",
       "      <td>Ready to Move</td>\n",
       "    </tr>\n",
       "  </tbody>\n",
       "</table>\n",
       "<p>1470 rows × 5 columns</p>\n",
       "</div>"
      ],
      "text/plain": [
       "                                                title       price       size  \\\n",
       "0   2 BHK Flat for Sale in Thanisandra Main Road, ...    ₹85 Lac   1000 sqft   \n",
       "1          3 BHK Flat for Sale in Horamavu, Bangalore   ₹1.30 Cr   1260 sqft   \n",
       "2        3 BHK Flat for Sale in Chandapura, Bangalore  ₹37.2 Lac        None   \n",
       "3   3 BHK Flat for Sale in Gubbalala, Subramanyapu...    ₹88 Lac   1340 sqft   \n",
       "4         2 BHK Flat for Sale in Gottigere, Bangalore    ₹57 Lac        None   \n",
       "..                                                ...         ...        ...   \n",
       "25      4 BHK Flat for Sale in Brookefield, Bangalore   ₹2.60 Cr   2700 sqft   \n",
       "26     4 BHK Flat for Sale in Basavanagudi, Bangalore   ₹8.80 Cr   2748 sqft   \n",
       "27      2 BHK Flat for Sale in Yeswanthpur, Bangalore   ₹1.22 Cr    875 sqft   \n",
       "28  2 BHK Flat for Sale in Bagalur Main Road, Bang...  ₹52.8 Lac        None   \n",
       "29      2 BHK Flat for Sale in Amrutahalli, Bangalore    ₹63 Lac    810 sqft   \n",
       "\n",
       "      price_per_sqft            status  \n",
       "0    ₹7328 per sqft      Ready to Move  \n",
       "1    ₹6878 per sqft      Ready to Move  \n",
       "2    ₹3000 per sqft   Poss. by Dec '24  \n",
       "3    ₹5906 per sqft      Ready to Move  \n",
       "4    ₹4524 per sqft      Ready to Move  \n",
       "..               ...               ...  \n",
       "25   ₹8667 per sqft      Ready to Move  \n",
       "26  ₹25107 per sqft      Ready to Move  \n",
       "27   ₹9760 per sqft   Poss. by Dec '23  \n",
       "28   ₹5399 per sqft   Poss. by May '27  \n",
       "29   ₹7000 per sqft      Ready to Move  \n",
       "\n",
       "[1470 rows x 5 columns]"
      ]
     },
     "execution_count": 30,
     "metadata": {},
     "output_type": "execute_result"
    }
   ],
   "source": [
    "final"
   ]
  },
  {
   "cell_type": "code",
   "execution_count": 31,
   "id": "c90e9ac2",
   "metadata": {},
   "outputs": [
    {
     "data": {
      "text/plain": [
       "(1470, 5)"
      ]
     },
     "execution_count": 31,
     "metadata": {},
     "output_type": "execute_result"
    }
   ],
   "source": [
    "final.shape"
   ]
  },
  {
   "cell_type": "markdown",
   "id": "e43ad77d",
   "metadata": {},
   "source": [
    "## Converting the Pandas DataFrame to Excel"
   ]
  },
  {
   "cell_type": "code",
   "execution_count": 33,
   "id": "b7234ed5",
   "metadata": {},
   "outputs": [],
   "source": [
    "final.to_excel('bangalore flat price.xlsx')"
   ]
  },
  {
   "cell_type": "code",
   "execution_count": 35,
   "id": "373bcfec",
   "metadata": {},
   "outputs": [
    {
     "data": {
      "text/plain": [
       "32"
      ]
     },
     "execution_count": 35,
     "metadata": {},
     "output_type": "execute_result"
    }
   ],
   "source": [
    "final.duplicated().sum()"
   ]
  },
  {
   "cell_type": "code",
   "execution_count": null,
   "id": "c7943f71",
   "metadata": {},
   "outputs": [],
   "source": []
  }
 ],
 "metadata": {
  "kernelspec": {
   "display_name": "Python 3 (ipykernel)",
   "language": "python",
   "name": "python3"
  },
  "language_info": {
   "codemirror_mode": {
    "name": "ipython",
    "version": 3
   },
   "file_extension": ".py",
   "mimetype": "text/x-python",
   "name": "python",
   "nbconvert_exporter": "python",
   "pygments_lexer": "ipython3",
   "version": "3.9.7"
  }
 },
 "nbformat": 4,
 "nbformat_minor": 5
}
