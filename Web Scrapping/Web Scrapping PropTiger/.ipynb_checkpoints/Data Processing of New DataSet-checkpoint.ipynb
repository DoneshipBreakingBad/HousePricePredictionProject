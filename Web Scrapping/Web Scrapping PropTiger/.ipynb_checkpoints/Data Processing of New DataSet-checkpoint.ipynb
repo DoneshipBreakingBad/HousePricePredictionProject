{
 "cells": [
  {
   "cell_type": "code",
   "execution_count": 1,
   "id": "6b0f19cc",
   "metadata": {},
   "outputs": [],
   "source": [
    "# Importing necessary libraries\n",
    "\n",
    "import pandas as pd\n",
    "import numpy as np\n",
    "import matplotlib.pyplot as plt\n",
    "import seaborn as sns\n",
    "import warnings\n",
    "import re\n",
    "warnings.filterwarnings(\"ignore\")"
   ]
  },
  {
   "cell_type": "code",
   "execution_count": 2,
   "id": "50331598",
   "metadata": {},
   "outputs": [],
   "source": [
    "# reading the excel dataset\n",
    "\n",
    "df = pd.read_excel(\"Bengaluru_House_Data.xlsx\")"
   ]
  },
  {
   "cell_type": "code",
   "execution_count": 3,
   "id": "4c9fe107",
   "metadata": {},
   "outputs": [
    {
     "data": {
      "text/html": [
       "<div>\n",
       "<style scoped>\n",
       "    .dataframe tbody tr th:only-of-type {\n",
       "        vertical-align: middle;\n",
       "    }\n",
       "\n",
       "    .dataframe tbody tr th {\n",
       "        vertical-align: top;\n",
       "    }\n",
       "\n",
       "    .dataframe thead th {\n",
       "        text-align: right;\n",
       "    }\n",
       "</style>\n",
       "<table border=\"1\" class=\"dataframe\">\n",
       "  <thead>\n",
       "    <tr style=\"text-align: right;\">\n",
       "      <th></th>\n",
       "      <th>Unnamed: 0</th>\n",
       "      <th>area_type</th>\n",
       "      <th>location</th>\n",
       "      <th>size2</th>\n",
       "      <th>title</th>\n",
       "      <th>price</th>\n",
       "      <th>size</th>\n",
       "      <th>price1</th>\n",
       "    </tr>\n",
       "  </thead>\n",
       "  <tbody>\n",
       "    <tr>\n",
       "      <th>0</th>\n",
       "      <td>0</td>\n",
       "      <td>Super built-up  Area</td>\n",
       "      <td>Electronic City Phase II</td>\n",
       "      <td>2 BHK</td>\n",
       "      <td>2 BHK Super built-up  Area in Electronic City ...</td>\n",
       "      <td>3907000.0</td>\n",
       "      <td>1056</td>\n",
       "      <td>39.07</td>\n",
       "    </tr>\n",
       "    <tr>\n",
       "      <th>1</th>\n",
       "      <td>1</td>\n",
       "      <td>Plot  Area</td>\n",
       "      <td>Chikka Tirupathi</td>\n",
       "      <td>4 Bedroom</td>\n",
       "      <td>4 Bedroom Plot  Area in Chikka Tirupathi</td>\n",
       "      <td>12000000.0</td>\n",
       "      <td>2600</td>\n",
       "      <td>120.00</td>\n",
       "    </tr>\n",
       "    <tr>\n",
       "      <th>2</th>\n",
       "      <td>2</td>\n",
       "      <td>Built-up  Area</td>\n",
       "      <td>Uttarahalli</td>\n",
       "      <td>3 BHK</td>\n",
       "      <td>3 BHK Built-up  Area in Uttarahalli</td>\n",
       "      <td>6200000.0</td>\n",
       "      <td>1440</td>\n",
       "      <td>62.00</td>\n",
       "    </tr>\n",
       "    <tr>\n",
       "      <th>3</th>\n",
       "      <td>3</td>\n",
       "      <td>Super built-up  Area</td>\n",
       "      <td>Lingadheeranahalli</td>\n",
       "      <td>3 BHK</td>\n",
       "      <td>3 BHK Super built-up  Area in Lingadheeranahalli</td>\n",
       "      <td>9500000.0</td>\n",
       "      <td>1521</td>\n",
       "      <td>95.00</td>\n",
       "    </tr>\n",
       "    <tr>\n",
       "      <th>4</th>\n",
       "      <td>4</td>\n",
       "      <td>Super built-up  Area</td>\n",
       "      <td>Kothanur</td>\n",
       "      <td>2 BHK</td>\n",
       "      <td>2 BHK Super built-up  Area in Kothanur</td>\n",
       "      <td>5100000.0</td>\n",
       "      <td>1200</td>\n",
       "      <td>51.00</td>\n",
       "    </tr>\n",
       "  </tbody>\n",
       "</table>\n",
       "</div>"
      ],
      "text/plain": [
       "   Unnamed: 0             area_type                  location      size2  \\\n",
       "0           0  Super built-up  Area  Electronic City Phase II      2 BHK   \n",
       "1           1            Plot  Area          Chikka Tirupathi  4 Bedroom   \n",
       "2           2        Built-up  Area               Uttarahalli      3 BHK   \n",
       "3           3  Super built-up  Area        Lingadheeranahalli      3 BHK   \n",
       "4           4  Super built-up  Area                  Kothanur      2 BHK   \n",
       "\n",
       "                                               title       price  size  price1  \n",
       "0  2 BHK Super built-up  Area in Electronic City ...   3907000.0  1056   39.07  \n",
       "1           4 Bedroom Plot  Area in Chikka Tirupathi  12000000.0  2600  120.00  \n",
       "2                3 BHK Built-up  Area in Uttarahalli   6200000.0  1440   62.00  \n",
       "3   3 BHK Super built-up  Area in Lingadheeranahalli   9500000.0  1521   95.00  \n",
       "4             2 BHK Super built-up  Area in Kothanur   5100000.0  1200   51.00  "
      ]
     },
     "execution_count": 3,
     "metadata": {},
     "output_type": "execute_result"
    }
   ],
   "source": [
    "df.head()"
   ]
  },
  {
   "cell_type": "code",
   "execution_count": 4,
   "id": "b69ccb91",
   "metadata": {},
   "outputs": [
    {
     "data": {
      "text/html": [
       "<div>\n",
       "<style scoped>\n",
       "    .dataframe tbody tr th:only-of-type {\n",
       "        vertical-align: middle;\n",
       "    }\n",
       "\n",
       "    .dataframe tbody tr th {\n",
       "        vertical-align: top;\n",
       "    }\n",
       "\n",
       "    .dataframe thead th {\n",
       "        text-align: right;\n",
       "    }\n",
       "</style>\n",
       "<table border=\"1\" class=\"dataframe\">\n",
       "  <thead>\n",
       "    <tr style=\"text-align: right;\">\n",
       "      <th></th>\n",
       "      <th>Unnamed: 0</th>\n",
       "      <th>title</th>\n",
       "      <th>price</th>\n",
       "      <th>size</th>\n",
       "    </tr>\n",
       "  </thead>\n",
       "  <tbody>\n",
       "    <tr>\n",
       "      <th>0</th>\n",
       "      <td>0</td>\n",
       "      <td>2 BHK Super built-up  Area in Electronic City ...</td>\n",
       "      <td>3907000.0</td>\n",
       "      <td>1056</td>\n",
       "    </tr>\n",
       "    <tr>\n",
       "      <th>1</th>\n",
       "      <td>1</td>\n",
       "      <td>4 Bedroom Plot  Area in Chikka Tirupathi</td>\n",
       "      <td>12000000.0</td>\n",
       "      <td>2600</td>\n",
       "    </tr>\n",
       "    <tr>\n",
       "      <th>2</th>\n",
       "      <td>2</td>\n",
       "      <td>3 BHK Built-up  Area in Uttarahalli</td>\n",
       "      <td>6200000.0</td>\n",
       "      <td>1440</td>\n",
       "    </tr>\n",
       "    <tr>\n",
       "      <th>3</th>\n",
       "      <td>3</td>\n",
       "      <td>3 BHK Super built-up  Area in Lingadheeranahalli</td>\n",
       "      <td>9500000.0</td>\n",
       "      <td>1521</td>\n",
       "    </tr>\n",
       "    <tr>\n",
       "      <th>4</th>\n",
       "      <td>4</td>\n",
       "      <td>2 BHK Super built-up  Area in Kothanur</td>\n",
       "      <td>5100000.0</td>\n",
       "      <td>1200</td>\n",
       "    </tr>\n",
       "  </tbody>\n",
       "</table>\n",
       "</div>"
      ],
      "text/plain": [
       "   Unnamed: 0                                              title       price  \\\n",
       "0           0  2 BHK Super built-up  Area in Electronic City ...   3907000.0   \n",
       "1           1           4 Bedroom Plot  Area in Chikka Tirupathi  12000000.0   \n",
       "2           2                3 BHK Built-up  Area in Uttarahalli   6200000.0   \n",
       "3           3   3 BHK Super built-up  Area in Lingadheeranahalli   9500000.0   \n",
       "4           4             2 BHK Super built-up  Area in Kothanur   5100000.0   \n",
       "\n",
       "   size  \n",
       "0  1056  \n",
       "1  2600  \n",
       "2  1440  \n",
       "3  1521  \n",
       "4  1200  "
      ]
     },
     "execution_count": 4,
     "metadata": {},
     "output_type": "execute_result"
    }
   ],
   "source": [
    "df = df.drop(['area_type', 'location', 'size2', 'price1'], axis=1)\n",
    "df.head()"
   ]
  },
  {
   "cell_type": "code",
   "execution_count": 5,
   "id": "7276c359",
   "metadata": {},
   "outputs": [
    {
     "name": "stdout",
     "output_type": "stream",
     "text": [
      "<class 'pandas.core.frame.DataFrame'>\n",
      "RangeIndex: 13119 entries, 0 to 13118\n",
      "Data columns (total 4 columns):\n",
      " #   Column      Non-Null Count  Dtype  \n",
      "---  ------      --------------  -----  \n",
      " 0   Unnamed: 0  13119 non-null  int64  \n",
      " 1   title       13119 non-null  object \n",
      " 2   price       13119 non-null  float64\n",
      " 3   size        13119 non-null  object \n",
      "dtypes: float64(1), int64(1), object(2)\n",
      "memory usage: 410.1+ KB\n"
     ]
    }
   ],
   "source": [
    "df.info()"
   ]
  },
  {
   "cell_type": "code",
   "execution_count": 6,
   "id": "e445884c",
   "metadata": {},
   "outputs": [],
   "source": [
    "# df.to_excel('Bengaluru_House_Data.xlsx')"
   ]
  },
  {
   "cell_type": "code",
   "execution_count": 7,
   "id": "1221df82",
   "metadata": {},
   "outputs": [
    {
     "data": {
      "text/plain": [
       "Series([], Name: size, dtype: object)"
      ]
     },
     "execution_count": 7,
     "metadata": {},
     "output_type": "execute_result"
    }
   ],
   "source": [
    "size = df['size']\n",
    "matching_values = size[size.str.contains('\\d+ - \\d+', na=False)]\n",
    "matching_values"
   ]
  },
  {
   "cell_type": "code",
   "execution_count": 8,
   "id": "987f7bb1",
   "metadata": {},
   "outputs": [
    {
     "data": {
      "text/plain": [
       "0        1056\n",
       "1        2600\n",
       "2        1440\n",
       "3        1521\n",
       "4        1200\n",
       "         ... \n",
       "13114    3453\n",
       "13115    3600\n",
       "13116    1141\n",
       "13117    4689\n",
       "13118     550\n",
       "Name: size, Length: 13119, dtype: object"
      ]
     },
     "execution_count": 8,
     "metadata": {},
     "output_type": "execute_result"
    }
   ],
   "source": [
    "df = df[~size.isin(matching_values)]\n",
    "df['size']"
   ]
  },
  {
   "cell_type": "code",
   "execution_count": 9,
   "id": "c65bea9c",
   "metadata": {},
   "outputs": [],
   "source": [
    "df.to_excel('Bengaluru_House_Data.xlsx')"
   ]
  },
  {
   "cell_type": "code",
   "execution_count": 10,
   "id": "c1e0cd27",
   "metadata": {},
   "outputs": [],
   "source": [
    "# Conversion factors\n",
    "conversion_factors = {\n",
    "    'Sq. Meter': 10.7639,\n",
    "    'Cents': 435.6,\n",
    "    'Sq. Yards': 9,\n",
    "    'Perch': 272.25,\n",
    "    'Acre': 43560,\n",
    "    'Guntha': 1089,\n",
    "    'Grounds': 2400\n",
    "}\n",
    "\n",
    "# Function to convert size values to square feet\n",
    "def convert_to_square_feet(value):\n",
    "    if isinstance(value, str):\n",
    "        match = re.search(r'(\\d+\\.?\\d*)', value)\n",
    "        if match:\n",
    "            numeric_value = float(match.group(1))\n",
    "            unit = re.search(r'(Sq\\. Meter|Cents|Sq\\. Yards|Perch|Acre|Guntha|Grounds)', value)\n",
    "            if unit:\n",
    "                unit = unit.group(0)\n",
    "                if unit == 'Sq. Meter':\n",
    "                    return numeric_value * conversion_factors['Sq. Meter']\n",
    "                elif unit == 'Cents':\n",
    "                    return numeric_value * conversion_factors['Cents']\n",
    "                elif unit == 'Sq. Yards':\n",
    "                    return numeric_value * conversion_factors['Sq. Yards']\n",
    "                elif unit == 'Perch':\n",
    "                    return numeric_value * conversion_factors['Perch']\n",
    "                elif unit == 'Acre':\n",
    "                    return numeric_value * conversion_factors['Acre']\n",
    "                elif unit == 'Guntha':\n",
    "                    return numeric_value * conversion_factors['Guntha']\n",
    "                elif unit == 'Grounds':\n",
    "                    return numeric_value * conversion_factors['Grounds']\n",
    "    return value\n",
    "\n",
    "# Apply conversion function to 'Size' column\n",
    "df['size'] = df['size'].apply(convert_to_square_feet)"
   ]
  },
  {
   "cell_type": "code",
   "execution_count": 11,
   "id": "dfec76f6",
   "metadata": {},
   "outputs": [
    {
     "data": {
      "text/plain": [
       "0        1056.0\n",
       "1        2600.0\n",
       "2        1440.0\n",
       "3        1521.0\n",
       "4        1200.0\n",
       "          ...  \n",
       "13114    3453.0\n",
       "13115    3600.0\n",
       "13116    1141.0\n",
       "13117    4689.0\n",
       "13118     550.0\n",
       "Name: size, Length: 13119, dtype: float64"
      ]
     },
     "execution_count": 11,
     "metadata": {},
     "output_type": "execute_result"
    }
   ],
   "source": [
    "df['size'].astype(float)"
   ]
  },
  {
   "cell_type": "code",
   "execution_count": 12,
   "id": "d432c1dd",
   "metadata": {},
   "outputs": [],
   "source": [
    "# df.to_excel('Bengaluru_House_Data.xlsx')"
   ]
  },
  {
   "cell_type": "code",
   "execution_count": 13,
   "id": "c640283c",
   "metadata": {},
   "outputs": [
    {
     "name": "stdout",
     "output_type": "stream",
     "text": [
      "<class 'pandas.core.frame.DataFrame'>\n",
      "Int64Index: 13119 entries, 0 to 13118\n",
      "Data columns (total 4 columns):\n",
      " #   Column      Non-Null Count  Dtype  \n",
      "---  ------      --------------  -----  \n",
      " 0   Unnamed: 0  13119 non-null  int64  \n",
      " 1   title       13119 non-null  object \n",
      " 2   price       13119 non-null  float64\n",
      " 3   size        13119 non-null  float64\n",
      "dtypes: float64(2), int64(1), object(1)\n",
      "memory usage: 512.5+ KB\n"
     ]
    }
   ],
   "source": [
    "df.info()"
   ]
  },
  {
   "cell_type": "code",
   "execution_count": null,
   "id": "fa0095b8",
   "metadata": {},
   "outputs": [],
   "source": []
  }
 ],
 "metadata": {
  "kernelspec": {
   "display_name": "Python 3 (ipykernel)",
   "language": "python",
   "name": "python3"
  },
  "language_info": {
   "codemirror_mode": {
    "name": "ipython",
    "version": 3
   },
   "file_extension": ".py",
   "mimetype": "text/x-python",
   "name": "python",
   "nbconvert_exporter": "python",
   "pygments_lexer": "ipython3",
   "version": "3.9.7"
  }
 },
 "nbformat": 4,
 "nbformat_minor": 5
}
