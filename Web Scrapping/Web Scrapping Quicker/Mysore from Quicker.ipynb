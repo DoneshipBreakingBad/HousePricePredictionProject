{
 "cells": [
  {
   "cell_type": "code",
   "execution_count": 1,
   "id": "248ce2f8",
   "metadata": {},
   "outputs": [],
   "source": [
    "import pandas as pd\n",
    "import requests\n",
    "from bs4 import BeautifulSoup"
   ]
  },
  {
   "cell_type": "code",
   "execution_count": 2,
   "id": "4c7f2a2d",
   "metadata": {},
   "outputs": [],
   "source": [
    "url = 'https://www.quikr.com/homes/property/residential-for-sale-in-mysore-cid_32?page=3'\n",
    "headers = {\n",
    "        'User-Agent': 'Mozilla/5.0 (Macintosh; Intel Mac OS X 10_15_7) AppleWebKit/537.36 (KHTML, like Gecko) Chrome/101.0.4951.64 Safari/537.36 Edg/101.0.1210.47'\n",
    "    }\n",
    "webpage = requests.get(url, headers = headers).text"
   ]
  },
  {
   "cell_type": "code",
   "execution_count": 4,
   "id": "3a306bc4",
   "metadata": {},
   "outputs": [],
   "source": [
    "# webpage"
   ]
  },
  {
   "cell_type": "code",
   "execution_count": 5,
   "id": "d3ea730c",
   "metadata": {},
   "outputs": [],
   "source": [
    "soup = BeautifulSoup(webpage, 'lxml')"
   ]
  },
  {
   "cell_type": "code",
   "execution_count": 7,
   "id": "10597535",
   "metadata": {},
   "outputs": [],
   "source": [
    "# print(soup.prettify())"
   ]
  },
  {
   "cell_type": "code",
   "execution_count": 15,
   "id": "c06b9f79",
   "metadata": {},
   "outputs": [
    {
     "data": {
      "text/plain": [
       "<div class=\"tophe\">\n",
       "<h2><a class=\"listtitle notclickb\" href=\"https://www.quikr.com/homes/land-of-1200sqft-for-sale-in-yesh-mega-city-mysore/p/365685076/3098?source=qh\" rel=\"noopener\" target=\"_blank\"> 1200 Sq. ft Plot for Sale in Hunsur Road, Mysore</a></h2>\n",
       "<h3 class=\"listloc\">\n",
       "<span class=\"rera\">RERA Regd</span>\n",
       "<a class=\"notclickb projectname\" href=\"/homes/project/yesh-mega-city+hunsur-road+mysore+3098\" onclick=\"Tiles.addEventTile('link-RealestateResponsiveUI', 'SnB', 'click_project_list');projectLocalityGa('Yesh Mega City')\" rel=\"noopener\" target=\"_blank\">Yesh Mega City</a>,\n",
       "\t\t\t\t\t\t\t\t\t\t\t\t\t<a class=\"notclickb\" href=\"/homes/locality/hunsur-road-mysore/6049\" onclick=\"projectLocalityGa('Hunsur Road') \" rel=\"noopener\" target=\"_blank\">Hunsur Road, </a>\n",
       "<span>Mysore</span>\n",
       "</h3>\n",
       "<div class=\"listprice clearfix\">\n",
       "<div class=\"liprice\">\n",
       "<div class=\"prsg\">\n",
       "<i class=\"icon-rupee_2\"></i><span>96 Lakhs</span>\n",
       "</div>\n",
       "</div>\n",
       "</div>\n",
       "</div>"
      ]
     },
     "execution_count": 15,
     "metadata": {},
     "output_type": "execute_result"
    }
   ],
   "source": [
    "part1_containers = soup.find_all('div', class_='tophe')\n",
    "part1_containers[0]"
   ]
  },
  {
   "cell_type": "code",
   "execution_count": 13,
   "id": "71b0b900",
   "metadata": {},
   "outputs": [
    {
     "data": {
      "text/plain": [
       "21"
      ]
     },
     "execution_count": 13,
     "metadata": {},
     "output_type": "execute_result"
    }
   ],
   "source": [
    "part2_containers = soup.find_all('div', class_='listdetails')\n",
    "len(part2_containers)"
   ]
  },
  {
   "cell_type": "markdown",
   "id": "724723ce",
   "metadata": {},
   "source": [
    "## Finding Title"
   ]
  },
  {
   "cell_type": "code",
   "execution_count": 16,
   "id": "24739c68",
   "metadata": {},
   "outputs": [],
   "source": [
    "title = [i.find('h2').text for i in part1_containers]"
   ]
  },
  {
   "cell_type": "code",
   "execution_count": 18,
   "id": "b8506795",
   "metadata": {},
   "outputs": [
    {
     "data": {
      "text/plain": [
       "21"
      ]
     },
     "execution_count": 18,
     "metadata": {},
     "output_type": "execute_result"
    }
   ],
   "source": [
    "len(title)"
   ]
  },
  {
   "cell_type": "markdown",
   "id": "be74c4a2",
   "metadata": {},
   "source": [
    "## Finding Price"
   ]
  },
  {
   "cell_type": "code",
   "execution_count": 23,
   "id": "b8f62868",
   "metadata": {},
   "outputs": [],
   "source": [
    "price = [i.find('div', class_=\"prsg\").text for i in part1_containers]"
   ]
  },
  {
   "cell_type": "code",
   "execution_count": 24,
   "id": "cf57a9e3",
   "metadata": {},
   "outputs": [
    {
     "data": {
      "text/plain": [
       "['\\n96 Lakhs\\n',\n",
       " '\\n14.40 Lakh\\n',\n",
       " '\\n24 Lakhs\\n',\n",
       " '\\n19.20 Lakh\\n',\n",
       " '\\n84.16 Lakh\\n',\n",
       " '\\n33.92 Lakh\\n',\n",
       " '\\n3 Crores\\n',\n",
       " '\\n3 Crores\\n',\n",
       " '\\n2.15 Crore\\n',\n",
       " '\\n77.50 Lakh\\n',\n",
       " '\\n72.50 Lakh\\n',\n",
       " '\\n25 Lakhs\\n',\n",
       " '\\n2.50 Crore\\n',\n",
       " '\\n35.26 Lakh\\n',\n",
       " '\\n50 Lakhs\\n',\n",
       " '\\n40 Lakhs\\n',\n",
       " '\\n34.20 Lakh\\n',\n",
       " '\\n57 Lakhs\\n',\n",
       " '\\n70.03 Lakh\\n',\n",
       " '\\n17.50 Lakh\\n',\n",
       " '\\n22.33 Lakh\\n']"
      ]
     },
     "execution_count": 24,
     "metadata": {},
     "output_type": "execute_result"
    }
   ],
   "source": [
    "price"
   ]
  },
  {
   "cell_type": "markdown",
   "id": "ff975758",
   "metadata": {},
   "source": [
    "## Size"
   ]
  },
  {
   "cell_type": "code",
   "execution_count": 27,
   "id": "41bb4a34",
   "metadata": {},
   "outputs": [],
   "source": [
    "size = [i.find('small').text for i in part2_containers]"
   ]
  },
  {
   "cell_type": "code",
   "execution_count": 28,
   "id": "1b984133",
   "metadata": {},
   "outputs": [
    {
     "data": {
      "text/plain": [
       "['(111.48 Sq.M)',\n",
       " '(111.48 Sq.M)',\n",
       " '(111.48 Sq.M)',\n",
       " '(74.32 Sq.M)',\n",
       " '(139.35 Sq.M)',\n",
       " '(75.72 Sq.M)',\n",
       " '(111.48 Sq.M)',\n",
       " '(111.48 Sq.M)',\n",
       " '(111.48 Sq.M)',\n",
       " '(144 Sq.M)',\n",
       " '(134.71 Sq.M)',\n",
       " '(111.48 Sq.M)',\n",
       " '(185.81 Sq.M)',\n",
       " '(100.89 Sq.M)',\n",
       " '(120.77 Sq.M)',\n",
       " '(89.19 Sq.M)',\n",
       " '(111.48 Sq.M)',\n",
       " '(185.81 Sq.M)',\n",
       " '(123.93 Sq.M)',\n",
       " '(111.48 Sq.M)',\n",
       " '(109.9 Sq.M)']"
      ]
     },
     "execution_count": 28,
     "metadata": {},
     "output_type": "execute_result"
    }
   ],
   "source": [
    "size"
   ]
  },
  {
   "cell_type": "markdown",
   "id": "0e5e750c",
   "metadata": {},
   "source": [
    "### Final extraction"
   ]
  },
  {
   "cell_type": "code",
   "execution_count": 36,
   "id": "881d325b",
   "metadata": {},
   "outputs": [],
   "source": [
    "final = pd.DataFrame()\n",
    "for j in range (1,120):\n",
    "    url = 'https://www.quikr.com/homes/property/residential-for-sale-in-mysore-cid_32?page={}'.format(j)\n",
    "    headers = {\n",
    "            'User-Agent': 'Mozilla/5.0 (Macintosh; Intel Mac OS X 10_15_7) AppleWebKit/537.36 (KHTML, like Gecko) Chrome/101.0.4951.64 Safari/537.36 Edg/101.0.1210.47'\n",
    "        }\n",
    "    webpage = requests.get(url, headers = headers).text\n",
    "    \n",
    "    soup = BeautifulSoup(webpage, 'lxml')\n",
    "    \n",
    "    part1_containers = soup.find_all('div', class_='tophe')\n",
    "    part2_containers = soup.find_all('div', class_='listdetails')\n",
    "    \n",
    "    title = []\n",
    "    price = []\n",
    "    size = []\n",
    "\n",
    "    title = [i.find('h2').text for i in part1_containers]\n",
    "    \n",
    "    for item in part1_containers:\n",
    "        prsg_element = item.find('div', class_=\"prsg\")\n",
    "        if prsg_element is not None:\n",
    "            price.append(prsg_element.text)\n",
    "        else:\n",
    "            price.append('N/A')\n",
    "        \n",
    "    for item in part2_containers:\n",
    "        small_element = item.find('small')\n",
    "        if small_element is not None:\n",
    "            size.append(small_element.text)\n",
    "        else:\n",
    "            size.append('N/A')\n",
    "    \n",
    "    d = {'title':title, 'price':price, 'size':size}\n",
    "    df = pd.DataFrame(d)\n",
    "    final = final.append(df)"
   ]
  },
  {
   "cell_type": "code",
   "execution_count": 37,
   "id": "37640015",
   "metadata": {},
   "outputs": [
    {
     "data": {
      "text/html": [
       "<div>\n",
       "<style scoped>\n",
       "    .dataframe tbody tr th:only-of-type {\n",
       "        vertical-align: middle;\n",
       "    }\n",
       "\n",
       "    .dataframe tbody tr th {\n",
       "        vertical-align: top;\n",
       "    }\n",
       "\n",
       "    .dataframe thead th {\n",
       "        text-align: right;\n",
       "    }\n",
       "</style>\n",
       "<table border=\"1\" class=\"dataframe\">\n",
       "  <thead>\n",
       "    <tr style=\"text-align: right;\">\n",
       "      <th></th>\n",
       "      <th>title</th>\n",
       "      <th>price</th>\n",
       "      <th>size</th>\n",
       "    </tr>\n",
       "  </thead>\n",
       "  <tbody>\n",
       "    <tr>\n",
       "      <th>0</th>\n",
       "      <td>800 Sq. ft Plot for Sale in Hunsur Road, Mysore</td>\n",
       "      <td>\\n9.60 Lakh\\n</td>\n",
       "      <td>(74.32 Sq.M)</td>\n",
       "    </tr>\n",
       "    <tr>\n",
       "      <th>1</th>\n",
       "      <td>1200 Sq. ft Plot for Sale in Hunsur Road, Mysore</td>\n",
       "      <td>\\n14.40 Lakh\\n</td>\n",
       "      <td>(111.48 Sq.M)</td>\n",
       "    </tr>\n",
       "    <tr>\n",
       "      <th>2</th>\n",
       "      <td>800 Sq. ft Plot for Sale in Hunsur Road, Mysore</td>\n",
       "      <td>\\n9.60 Lakh\\n</td>\n",
       "      <td>(74.32 Sq.M)</td>\n",
       "    </tr>\n",
       "    <tr>\n",
       "      <th>3</th>\n",
       "      <td>1200 Sq. ft Plot for Sale in Hunsur Road, Mysore</td>\n",
       "      <td>\\n14.40 Lakh\\n</td>\n",
       "      <td>(111.48 Sq.M)</td>\n",
       "    </tr>\n",
       "    <tr>\n",
       "      <th>4</th>\n",
       "      <td>1200 Sq. ft Plot for Sale in Hunsur Road, Mysore</td>\n",
       "      <td>\\n14.40 Lakh\\n</td>\n",
       "      <td>(111.48 Sq.M)</td>\n",
       "    </tr>\n",
       "    <tr>\n",
       "      <th>...</th>\n",
       "      <td>...</td>\n",
       "      <td>...</td>\n",
       "      <td>...</td>\n",
       "    </tr>\n",
       "    <tr>\n",
       "      <th>1</th>\n",
       "      <td>Plot for Sale in Bogadi, Mysore</td>\n",
       "      <td>\\n14.40 Lakh\\n</td>\n",
       "      <td>(111.48 Sq.M)</td>\n",
       "    </tr>\n",
       "    <tr>\n",
       "      <th>2</th>\n",
       "      <td>Plot for Sale in Jettihundi, Mysore</td>\n",
       "      <td>\\n18 Lakhs\\n</td>\n",
       "      <td>(83.61 Sq.M)</td>\n",
       "    </tr>\n",
       "    <tr>\n",
       "      <th>3</th>\n",
       "      <td>Plot for Sale in Bannimantap , Mysore</td>\n",
       "      <td>\\n61.57 Lakh\\n</td>\n",
       "      <td>(107.95 Sq.M)</td>\n",
       "    </tr>\n",
       "    <tr>\n",
       "      <th>4</th>\n",
       "      <td>Plot for Sale in Marase, Mysore</td>\n",
       "      <td>\\n45.04 Lakh\\n</td>\n",
       "      <td>(134.99 Sq.M)</td>\n",
       "    </tr>\n",
       "    <tr>\n",
       "      <th>5</th>\n",
       "      <td>Plot for Sale in Hanchya, Mysore</td>\n",
       "      <td>\\n83.20 Lakh\\n</td>\n",
       "      <td>(297.29 Sq.M)</td>\n",
       "    </tr>\n",
       "  </tbody>\n",
       "</table>\n",
       "<p>1212 rows × 3 columns</p>\n",
       "</div>"
      ],
      "text/plain": [
       "                                                title           price  \\\n",
       "0     800 Sq. ft Plot for Sale in Hunsur Road, Mysore   \\n9.60 Lakh\\n   \n",
       "1    1200 Sq. ft Plot for Sale in Hunsur Road, Mysore  \\n14.40 Lakh\\n   \n",
       "2     800 Sq. ft Plot for Sale in Hunsur Road, Mysore   \\n9.60 Lakh\\n   \n",
       "3    1200 Sq. ft Plot for Sale in Hunsur Road, Mysore  \\n14.40 Lakh\\n   \n",
       "4    1200 Sq. ft Plot for Sale in Hunsur Road, Mysore  \\n14.40 Lakh\\n   \n",
       "..                                                ...             ...   \n",
       "1                     Plot for Sale in Bogadi, Mysore  \\n14.40 Lakh\\n   \n",
       "2                 Plot for Sale in Jettihundi, Mysore    \\n18 Lakhs\\n   \n",
       "3               Plot for Sale in Bannimantap , Mysore  \\n61.57 Lakh\\n   \n",
       "4                     Plot for Sale in Marase, Mysore  \\n45.04 Lakh\\n   \n",
       "5                    Plot for Sale in Hanchya, Mysore  \\n83.20 Lakh\\n   \n",
       "\n",
       "             size  \n",
       "0    (74.32 Sq.M)  \n",
       "1   (111.48 Sq.M)  \n",
       "2    (74.32 Sq.M)  \n",
       "3   (111.48 Sq.M)  \n",
       "4   (111.48 Sq.M)  \n",
       "..            ...  \n",
       "1   (111.48 Sq.M)  \n",
       "2    (83.61 Sq.M)  \n",
       "3   (107.95 Sq.M)  \n",
       "4   (134.99 Sq.M)  \n",
       "5   (297.29 Sq.M)  \n",
       "\n",
       "[1212 rows x 3 columns]"
      ]
     },
     "execution_count": 37,
     "metadata": {},
     "output_type": "execute_result"
    }
   ],
   "source": [
    "final"
   ]
  },
  {
   "cell_type": "code",
   "execution_count": 40,
   "id": "1114c3a0",
   "metadata": {},
   "outputs": [
    {
     "data": {
      "text/plain": [
       "643"
      ]
     },
     "execution_count": 40,
     "metadata": {},
     "output_type": "execute_result"
    }
   ],
   "source": [
    "final.duplicated().sum()"
   ]
  },
  {
   "cell_type": "code",
   "execution_count": 41,
   "id": "d19d3fc7",
   "metadata": {},
   "outputs": [
    {
     "data": {
      "text/html": [
       "<div>\n",
       "<style scoped>\n",
       "    .dataframe tbody tr th:only-of-type {\n",
       "        vertical-align: middle;\n",
       "    }\n",
       "\n",
       "    .dataframe tbody tr th {\n",
       "        vertical-align: top;\n",
       "    }\n",
       "\n",
       "    .dataframe thead th {\n",
       "        text-align: right;\n",
       "    }\n",
       "</style>\n",
       "<table border=\"1\" class=\"dataframe\">\n",
       "  <thead>\n",
       "    <tr style=\"text-align: right;\">\n",
       "      <th></th>\n",
       "      <th>title</th>\n",
       "      <th>price</th>\n",
       "      <th>size</th>\n",
       "    </tr>\n",
       "  </thead>\n",
       "  <tbody>\n",
       "    <tr>\n",
       "      <th>0</th>\n",
       "      <td>800 Sq. ft Plot for Sale in Hunsur Road, Mysore</td>\n",
       "      <td>\\n9.60 Lakh\\n</td>\n",
       "      <td>(74.32 Sq.M)</td>\n",
       "    </tr>\n",
       "    <tr>\n",
       "      <th>1</th>\n",
       "      <td>1200 Sq. ft Plot for Sale in Hunsur Road, Mysore</td>\n",
       "      <td>\\n14.40 Lakh\\n</td>\n",
       "      <td>(111.48 Sq.M)</td>\n",
       "    </tr>\n",
       "    <tr>\n",
       "      <th>5</th>\n",
       "      <td>3 BHK 1300 Sq. ft Villa for Sale in Universit...</td>\n",
       "      <td>\\n67 Lakhs\\n</td>\n",
       "      <td>(120.77 Sq.M)</td>\n",
       "    </tr>\n",
       "    <tr>\n",
       "      <th>6</th>\n",
       "      <td>3 BHK 2700 Sq. ft Villa for Sale in Vijayanag...</td>\n",
       "      <td>\\n1.47 Crore\\n</td>\n",
       "      <td>(250.84 Sq.M)</td>\n",
       "    </tr>\n",
       "    <tr>\n",
       "      <th>7</th>\n",
       "      <td>800 Sq. ft Plot for Sale in Yelwala, Mysore</td>\n",
       "      <td>\\n12.80 Lakh\\n</td>\n",
       "      <td>(74.32 Sq.M)</td>\n",
       "    </tr>\n",
       "    <tr>\n",
       "      <th>...</th>\n",
       "      <td>...</td>\n",
       "      <td>...</td>\n",
       "      <td>...</td>\n",
       "    </tr>\n",
       "    <tr>\n",
       "      <th>0</th>\n",
       "      <td>2400 Sq. ft Plot for Sale in TK Layout, Mysore</td>\n",
       "      <td>\\n1.75 Crore\\n</td>\n",
       "      <td>(222.97 Sq.M)</td>\n",
       "    </tr>\n",
       "    <tr>\n",
       "      <th>1</th>\n",
       "      <td>Plot for Sale in Jayapura, Mysore</td>\n",
       "      <td>\\n31.50 Lakh\\n</td>\n",
       "      <td>(195.1 Sq.M)</td>\n",
       "    </tr>\n",
       "    <tr>\n",
       "      <th>2</th>\n",
       "      <td>Plot for Sale in Hebbal, Mysore</td>\n",
       "      <td>\\n53 Lakhs\\n</td>\n",
       "      <td>(185.81 Sq.M)</td>\n",
       "    </tr>\n",
       "    <tr>\n",
       "      <th>4</th>\n",
       "      <td>Plot for Sale in Bogadi, Mysore</td>\n",
       "      <td>\\n7.20 Lakh\\n</td>\n",
       "      <td>(55.74 Sq.M)</td>\n",
       "    </tr>\n",
       "    <tr>\n",
       "      <th>2</th>\n",
       "      <td>Plot for Sale in Jettihundi, Mysore</td>\n",
       "      <td>\\n18 Lakhs\\n</td>\n",
       "      <td>(83.61 Sq.M)</td>\n",
       "    </tr>\n",
       "  </tbody>\n",
       "</table>\n",
       "<p>569 rows × 3 columns</p>\n",
       "</div>"
      ],
      "text/plain": [
       "                                                title           price  \\\n",
       "0     800 Sq. ft Plot for Sale in Hunsur Road, Mysore   \\n9.60 Lakh\\n   \n",
       "1    1200 Sq. ft Plot for Sale in Hunsur Road, Mysore  \\n14.40 Lakh\\n   \n",
       "5    3 BHK 1300 Sq. ft Villa for Sale in Universit...    \\n67 Lakhs\\n   \n",
       "6    3 BHK 2700 Sq. ft Villa for Sale in Vijayanag...  \\n1.47 Crore\\n   \n",
       "7         800 Sq. ft Plot for Sale in Yelwala, Mysore  \\n12.80 Lakh\\n   \n",
       "..                                                ...             ...   \n",
       "0      2400 Sq. ft Plot for Sale in TK Layout, Mysore  \\n1.75 Crore\\n   \n",
       "1                   Plot for Sale in Jayapura, Mysore  \\n31.50 Lakh\\n   \n",
       "2                     Plot for Sale in Hebbal, Mysore    \\n53 Lakhs\\n   \n",
       "4                     Plot for Sale in Bogadi, Mysore   \\n7.20 Lakh\\n   \n",
       "2                 Plot for Sale in Jettihundi, Mysore    \\n18 Lakhs\\n   \n",
       "\n",
       "             size  \n",
       "0    (74.32 Sq.M)  \n",
       "1   (111.48 Sq.M)  \n",
       "5   (120.77 Sq.M)  \n",
       "6   (250.84 Sq.M)  \n",
       "7    (74.32 Sq.M)  \n",
       "..            ...  \n",
       "0   (222.97 Sq.M)  \n",
       "1    (195.1 Sq.M)  \n",
       "2   (185.81 Sq.M)  \n",
       "4    (55.74 Sq.M)  \n",
       "2    (83.61 Sq.M)  \n",
       "\n",
       "[569 rows x 3 columns]"
      ]
     },
     "execution_count": 41,
     "metadata": {},
     "output_type": "execute_result"
    }
   ],
   "source": [
    "final.drop_duplicates()"
   ]
  },
  {
   "cell_type": "code",
   "execution_count": 44,
   "id": "a920f660",
   "metadata": {},
   "outputs": [],
   "source": [
    "final.to_excel('Mysore Quicker.xlsx')"
   ]
  },
  {
   "cell_type": "code",
   "execution_count": 46,
   "id": "9b7d2ecb",
   "metadata": {},
   "outputs": [],
   "source": [
    "df= pd.read_excel('Mysore Quicker.xlsx')"
   ]
  },
  {
   "cell_type": "code",
   "execution_count": 48,
   "id": "e87a3413",
   "metadata": {},
   "outputs": [
    {
     "data": {
      "text/plain": [
       "180"
      ]
     },
     "execution_count": 48,
     "metadata": {},
     "output_type": "execute_result"
    }
   ],
   "source": [
    "df.duplicated().sum()"
   ]
  },
  {
   "cell_type": "code",
   "execution_count": 49,
   "id": "8979e054",
   "metadata": {},
   "outputs": [
    {
     "data": {
      "text/html": [
       "<div>\n",
       "<style scoped>\n",
       "    .dataframe tbody tr th:only-of-type {\n",
       "        vertical-align: middle;\n",
       "    }\n",
       "\n",
       "    .dataframe tbody tr th {\n",
       "        vertical-align: top;\n",
       "    }\n",
       "\n",
       "    .dataframe thead th {\n",
       "        text-align: right;\n",
       "    }\n",
       "</style>\n",
       "<table border=\"1\" class=\"dataframe\">\n",
       "  <thead>\n",
       "    <tr style=\"text-align: right;\">\n",
       "      <th></th>\n",
       "      <th>Unnamed: 0</th>\n",
       "      <th>title</th>\n",
       "      <th>price</th>\n",
       "      <th>size</th>\n",
       "    </tr>\n",
       "  </thead>\n",
       "  <tbody>\n",
       "    <tr>\n",
       "      <th>0</th>\n",
       "      <td>0</td>\n",
       "      <td>800 Sq. ft Plot for Sale in Hunsur Road, Mysore</td>\n",
       "      <td>\\n9.60 Lakh\\n</td>\n",
       "      <td>(74.32 Sq.M)</td>\n",
       "    </tr>\n",
       "    <tr>\n",
       "      <th>1</th>\n",
       "      <td>1</td>\n",
       "      <td>1200 Sq. ft Plot for Sale in Hunsur Road, Mysore</td>\n",
       "      <td>\\n14.40 Lakh\\n</td>\n",
       "      <td>(111.48 Sq.M)</td>\n",
       "    </tr>\n",
       "    <tr>\n",
       "      <th>2</th>\n",
       "      <td>2</td>\n",
       "      <td>800 Sq. ft Plot for Sale in Hunsur Road, Mysore</td>\n",
       "      <td>\\n9.60 Lakh\\n</td>\n",
       "      <td>(74.32 Sq.M)</td>\n",
       "    </tr>\n",
       "    <tr>\n",
       "      <th>3</th>\n",
       "      <td>3</td>\n",
       "      <td>1200 Sq. ft Plot for Sale in Hunsur Road, Mysore</td>\n",
       "      <td>\\n14.40 Lakh\\n</td>\n",
       "      <td>(111.48 Sq.M)</td>\n",
       "    </tr>\n",
       "    <tr>\n",
       "      <th>4</th>\n",
       "      <td>4</td>\n",
       "      <td>1200 Sq. ft Plot for Sale in Hunsur Road, Mysore</td>\n",
       "      <td>\\n14.40 Lakh\\n</td>\n",
       "      <td>(111.48 Sq.M)</td>\n",
       "    </tr>\n",
       "    <tr>\n",
       "      <th>...</th>\n",
       "      <td>...</td>\n",
       "      <td>...</td>\n",
       "      <td>...</td>\n",
       "      <td>...</td>\n",
       "    </tr>\n",
       "    <tr>\n",
       "      <th>1207</th>\n",
       "      <td>1</td>\n",
       "      <td>Plot for Sale in Bogadi, Mysore</td>\n",
       "      <td>\\n14.40 Lakh\\n</td>\n",
       "      <td>(111.48 Sq.M)</td>\n",
       "    </tr>\n",
       "    <tr>\n",
       "      <th>1208</th>\n",
       "      <td>2</td>\n",
       "      <td>Plot for Sale in Jettihundi, Mysore</td>\n",
       "      <td>\\n18 Lakhs\\n</td>\n",
       "      <td>(83.61 Sq.M)</td>\n",
       "    </tr>\n",
       "    <tr>\n",
       "      <th>1209</th>\n",
       "      <td>3</td>\n",
       "      <td>Plot for Sale in Bannimantap , Mysore</td>\n",
       "      <td>\\n61.57 Lakh\\n</td>\n",
       "      <td>(107.95 Sq.M)</td>\n",
       "    </tr>\n",
       "    <tr>\n",
       "      <th>1210</th>\n",
       "      <td>4</td>\n",
       "      <td>Plot for Sale in Marase, Mysore</td>\n",
       "      <td>\\n45.04 Lakh\\n</td>\n",
       "      <td>(134.99 Sq.M)</td>\n",
       "    </tr>\n",
       "    <tr>\n",
       "      <th>1211</th>\n",
       "      <td>5</td>\n",
       "      <td>Plot for Sale in Hanchya, Mysore</td>\n",
       "      <td>\\n83.20 Lakh\\n</td>\n",
       "      <td>(297.29 Sq.M)</td>\n",
       "    </tr>\n",
       "  </tbody>\n",
       "</table>\n",
       "<p>1032 rows × 4 columns</p>\n",
       "</div>"
      ],
      "text/plain": [
       "      Unnamed: 0                                              title  \\\n",
       "0              0    800 Sq. ft Plot for Sale in Hunsur Road, Mysore   \n",
       "1              1   1200 Sq. ft Plot for Sale in Hunsur Road, Mysore   \n",
       "2              2    800 Sq. ft Plot for Sale in Hunsur Road, Mysore   \n",
       "3              3   1200 Sq. ft Plot for Sale in Hunsur Road, Mysore   \n",
       "4              4   1200 Sq. ft Plot for Sale in Hunsur Road, Mysore   \n",
       "...          ...                                                ...   \n",
       "1207           1                    Plot for Sale in Bogadi, Mysore   \n",
       "1208           2                Plot for Sale in Jettihundi, Mysore   \n",
       "1209           3              Plot for Sale in Bannimantap , Mysore   \n",
       "1210           4                    Plot for Sale in Marase, Mysore   \n",
       "1211           5                   Plot for Sale in Hanchya, Mysore   \n",
       "\n",
       "               price           size  \n",
       "0      \\n9.60 Lakh\\n   (74.32 Sq.M)  \n",
       "1     \\n14.40 Lakh\\n  (111.48 Sq.M)  \n",
       "2      \\n9.60 Lakh\\n   (74.32 Sq.M)  \n",
       "3     \\n14.40 Lakh\\n  (111.48 Sq.M)  \n",
       "4     \\n14.40 Lakh\\n  (111.48 Sq.M)  \n",
       "...              ...            ...  \n",
       "1207  \\n14.40 Lakh\\n  (111.48 Sq.M)  \n",
       "1208    \\n18 Lakhs\\n   (83.61 Sq.M)  \n",
       "1209  \\n61.57 Lakh\\n  (107.95 Sq.M)  \n",
       "1210  \\n45.04 Lakh\\n  (134.99 Sq.M)  \n",
       "1211  \\n83.20 Lakh\\n  (297.29 Sq.M)  \n",
       "\n",
       "[1032 rows x 4 columns]"
      ]
     },
     "execution_count": 49,
     "metadata": {},
     "output_type": "execute_result"
    }
   ],
   "source": [
    "df.drop_duplicates()"
   ]
  },
  {
   "cell_type": "code",
   "execution_count": 51,
   "id": "a559039c",
   "metadata": {},
   "outputs": [],
   "source": [
    "df.to_excel('Mysore Quicker.xlsx')"
   ]
  },
  {
   "cell_type": "code",
   "execution_count": null,
   "id": "98e5a785",
   "metadata": {},
   "outputs": [],
   "source": []
  }
 ],
 "metadata": {
  "kernelspec": {
   "display_name": "Python 3 (ipykernel)",
   "language": "python",
   "name": "python3"
  },
  "language_info": {
   "codemirror_mode": {
    "name": "ipython",
    "version": 3
   },
   "file_extension": ".py",
   "mimetype": "text/x-python",
   "name": "python",
   "nbconvert_exporter": "python",
   "pygments_lexer": "ipython3",
   "version": "3.9.7"
  }
 },
 "nbformat": 4,
 "nbformat_minor": 5
}
