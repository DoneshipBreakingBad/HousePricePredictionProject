{
 "cells": [
  {
   "cell_type": "code",
   "execution_count": 2,
   "id": "b4433867",
   "metadata": {},
   "outputs": [],
   "source": [
    "import pandas as pd\n",
    "import requests\n",
    "from bs4 import BeautifulSoup"
   ]
  },
  {
   "cell_type": "code",
   "execution_count": 3,
   "id": "2d50beae",
   "metadata": {},
   "outputs": [],
   "source": [
    "url='https://www.squareyards.com/sale/property-for-sale-in-gachibowli-hyderabad?page=2'\n",
    "headers = {\n",
    "        'User-Agent': 'Mozilla/5.0 (Macintosh; Intel Mac OS X 10_15_7) AppleWebKit/537.36 (KHTML, like Gecko) Chrome/101.0.4951.64 Safari/537.36 Edg/101.0.1210.47'\n",
    "    }\n",
    "webpage = requests.get(url, headers=headers).text"
   ]
  },
  {
   "cell_type": "code",
   "execution_count": 8,
   "id": "9fff7227",
   "metadata": {},
   "outputs": [],
   "source": [
    "# webpage"
   ]
  },
  {
   "cell_type": "code",
   "execution_count": 6,
   "id": "02387481",
   "metadata": {},
   "outputs": [],
   "source": [
    "soup = BeautifulSoup(webpage, 'lxml')"
   ]
  },
  {
   "cell_type": "code",
   "execution_count": 9,
   "id": "ce6a7476",
   "metadata": {},
   "outputs": [],
   "source": [
    "# print(soup.prettify())"
   ]
  },
  {
   "cell_type": "code",
   "execution_count": 11,
   "id": "f9028191",
   "metadata": {},
   "outputs": [
    {
     "data": {
      "text/plain": [
       "32"
      ]
     },
     "execution_count": 11,
     "metadata": {},
     "output_type": "execute_result"
    }
   ],
   "source": [
    "containers = soup.find_all('div', class_='dseprojectdata')\n",
    "len(containers)"
   ]
  },
  {
   "cell_type": "markdown",
   "id": "0f3b8c57",
   "metadata": {},
   "source": [
    "## Finding Locality of the Flat"
   ]
  },
  {
   "cell_type": "code",
   "execution_count": 12,
   "id": "fdbe05ab",
   "metadata": {},
   "outputs": [],
   "source": [
    "locality = [i.find('div', class_='tileProjectName').text for i in containers]"
   ]
  },
  {
   "cell_type": "code",
   "execution_count": 15,
   "id": "32e2df4b",
   "metadata": {},
   "outputs": [
    {
     "data": {
      "text/plain": [
       "32"
      ]
     },
     "execution_count": 15,
     "metadata": {},
     "output_type": "execute_result"
    }
   ],
   "source": [
    "len(locality)"
   ]
  },
  {
   "cell_type": "markdown",
   "id": "e0bff0b2",
   "metadata": {},
   "source": [
    "## Finding Space of the flat"
   ]
  },
  {
   "cell_type": "code",
   "execution_count": 69,
   "id": "af9dd311",
   "metadata": {},
   "outputs": [],
   "source": [
    "space_n_locality = [i.find('h2', class_=\"tlHdng\").find('span').text for i in containers]\n"
   ]
  },
  {
   "cell_type": "code",
   "execution_count": 70,
   "id": "2fc8c38a",
   "metadata": {},
   "outputs": [
    {
     "data": {
      "text/plain": [
       "32"
      ]
     },
     "execution_count": 70,
     "metadata": {},
     "output_type": "execute_result"
    }
   ],
   "source": [
    "len(space_n_locality)"
   ]
  },
  {
   "cell_type": "markdown",
   "id": "d18aa877",
   "metadata": {},
   "source": [
    "## Finding Price"
   ]
  },
  {
   "cell_type": "code",
   "execution_count": 65,
   "id": "bebc8a6c",
   "metadata": {},
   "outputs": [],
   "source": [
    "price = [i.find('span', class_='tlPrc').text for i in containers]"
   ]
  },
  {
   "cell_type": "code",
   "execution_count": 67,
   "id": "352ef096",
   "metadata": {},
   "outputs": [
    {
     "data": {
      "text/plain": [
       "32"
      ]
     },
     "execution_count": 67,
     "metadata": {},
     "output_type": "execute_result"
    }
   ],
   "source": [
    "len(price)"
   ]
  },
  {
   "cell_type": "markdown",
   "id": "30e0b553",
   "metadata": {},
   "source": [
    "## Finding Size of the Flat (area in Sqft)"
   ]
  },
  {
   "cell_type": "code",
   "execution_count": 63,
   "id": "61519c4f",
   "metadata": {},
   "outputs": [],
   "source": [
    "size = [i.find('div', class_='tlSqFt').text for i in containers]"
   ]
  },
  {
   "cell_type": "code",
   "execution_count": 68,
   "id": "fc2e3cf1",
   "metadata": {},
   "outputs": [
    {
     "data": {
      "text/plain": [
       "32"
      ]
     },
     "execution_count": 68,
     "metadata": {},
     "output_type": "execute_result"
    }
   ],
   "source": [
    "len(size)"
   ]
  },
  {
   "cell_type": "markdown",
   "id": "818bb6d9",
   "metadata": {},
   "source": [
    "## Brought down all the above operations into a single block"
   ]
  },
  {
   "cell_type": "code",
   "execution_count": 19,
   "id": "fe490ffb",
   "metadata": {},
   "outputs": [],
   "source": [
    "# title = []\n",
    "# price = []\n",
    "# size = []\n",
    "# price_per_sqft = []\n",
    "# status = []\n",
    "\n",
    "# title = [i.find('div', class_='title-line').text for i in containers]\n",
    "# price = [i.find('td', class_='price').text for i in containers]\n",
    "# price_per_sqft = [i.find('td', class_='lbl rate').text for i in containers]\n",
    "# size = [i.find('td', class_='size').text for i in containers]\n",
    "# status = [i.find('td', class_=\"val\").text for i in containers]"
   ]
  },
  {
   "cell_type": "code",
   "execution_count": 71,
   "id": "86760cc8",
   "metadata": {},
   "outputs": [],
   "source": [
    "final = pd.DataFrame()\n",
    "for j in range (1,25):\n",
    "    url = 'https://www.squareyards.com/sale/property-for-sale-in-gachibowli-hyderabad?page={}'.format(j)\n",
    "    headers = {\n",
    "        'User-Agent': 'Mozilla/5.0 (Macintosh; Intel Mac OS X 10_15_7) AppleWebKit/537.36 (KHTML, like Gecko) Chrome/101.0.4951.64 Safari/537.36 Edg/101.0.1210.47'\n",
    "    }\n",
    "    webpage = requests.get(url, headers=headers).text\n",
    "    \n",
    "    soup = BeautifulSoup(webpage, 'lxml')\n",
    "    \n",
    "    containers = soup.find_all('div', class_='dseprojectdata')\n",
    "    \n",
    "    title=[]\n",
    "    price = []\n",
    "    size = []\n",
    "    locality = []\n",
    "    \n",
    "    size = [i.find('div', class_='tlSqFt').text for i in containers]\n",
    "    price = [i.find('span', class_='tlPrc').text for i in containers]\n",
    "    locality = [i.find('div', class_='tileProjectName').text for i in containers]\n",
    "    title = [i.find('h2', class_=\"tlHdng\").find('span').text for i in containers]\n",
    "    \n",
    "    d = {'title':title, 'price':price, 'size':size, 'locality':locality}\n",
    "    df = pd.DataFrame(d)\n",
    "    final = final.append(df)"
   ]
  },
  {
   "cell_type": "code",
   "execution_count": 72,
   "id": "227b16af",
   "metadata": {},
   "outputs": [
    {
     "data": {
      "text/html": [
       "<div>\n",
       "<style scoped>\n",
       "    .dataframe tbody tr th:only-of-type {\n",
       "        vertical-align: middle;\n",
       "    }\n",
       "\n",
       "    .dataframe tbody tr th {\n",
       "        vertical-align: top;\n",
       "    }\n",
       "\n",
       "    .dataframe thead th {\n",
       "        text-align: right;\n",
       "    }\n",
       "</style>\n",
       "<table border=\"1\" class=\"dataframe\">\n",
       "  <thead>\n",
       "    <tr style=\"text-align: right;\">\n",
       "      <th></th>\n",
       "      <th>title</th>\n",
       "      <th>price</th>\n",
       "      <th>size</th>\n",
       "      <th>locality</th>\n",
       "    </tr>\n",
       "  </thead>\n",
       "  <tbody>\n",
       "    <tr>\n",
       "      <th>0</th>\n",
       "      <td>\\n Pacifica Hillcrest Phase 2\\n2 BHK Flat\\nGac...</td>\n",
       "      <td>\\n₹ 1 Cr.\\n</td>\n",
       "      <td>940 Sq.Ft.</td>\n",
       "      <td>Pacifica Hillcrest Phase 2</td>\n",
       "    </tr>\n",
       "    <tr>\n",
       "      <th>1</th>\n",
       "      <td>\\n Muppa Melody\\n3 BHK Flat\\nGachibowli\\n</td>\n",
       "      <td>\\n₹ 1.25 Cr.\\n</td>\n",
       "      <td>1725 Sq.Ft.</td>\n",
       "      <td>Muppa Melody</td>\n",
       "    </tr>\n",
       "    <tr>\n",
       "      <th>2</th>\n",
       "      <td>\\n Pacifica Hillcrest Phase 2\\n2 BHK Flat\\nGac...</td>\n",
       "      <td>\\n₹ 1 Cr.\\n</td>\n",
       "      <td>940 Sq.Ft.</td>\n",
       "      <td>Pacifica Hillcrest Phase 2</td>\n",
       "    </tr>\n",
       "    <tr>\n",
       "      <th>3</th>\n",
       "      <td>\\n Prestige High Fields\\n2 BHK Flat\\nGachibowli\\n</td>\n",
       "      <td>\\n₹ 1.34 Cr.\\n</td>\n",
       "      <td>1283 Sq.Ft.</td>\n",
       "      <td>Prestige High Fields</td>\n",
       "    </tr>\n",
       "    <tr>\n",
       "      <th>4</th>\n",
       "      <td>\\n Prestige High Fields\\n2 BHK Flat\\nGachibowli\\n</td>\n",
       "      <td>\\n₹ 1.31 Cr.\\n</td>\n",
       "      <td>1282 Sq.Ft.</td>\n",
       "      <td>Prestige High Fields</td>\n",
       "    </tr>\n",
       "    <tr>\n",
       "      <th>...</th>\n",
       "      <td>...</td>\n",
       "      <td>...</td>\n",
       "      <td>...</td>\n",
       "      <td>...</td>\n",
       "    </tr>\n",
       "    <tr>\n",
       "      <th>16</th>\n",
       "      <td>\\n Gachibowli County\\nOffice Space in IT/SEZ\\n...</td>\n",
       "      <td>\\n₹ 476 Cr.\\n</td>\n",
       "      <td>753 Sq.Yd.</td>\n",
       "      <td>Gachibowli County</td>\n",
       "    </tr>\n",
       "    <tr>\n",
       "      <th>17</th>\n",
       "      <td>\\n Pacifica Hillcrest Phase 2\\n3 BHK Flat\\n\\nG...</td>\n",
       "      <td>\\n₹ 1.27 Cr.\\n</td>\n",
       "      <td>2061 Sq.Ft.</td>\n",
       "      <td>Pacifica Hillcrest Phase 2</td>\n",
       "    </tr>\n",
       "    <tr>\n",
       "      <th>18</th>\n",
       "      <td>\\n Northstar Homes District 1\\n2.5 BHK Flat\\nG...</td>\n",
       "      <td>\\n₹ 1.6 Cr.\\n</td>\n",
       "      <td>1535 Sq.Ft.</td>\n",
       "      <td>Northstar Homes District 1</td>\n",
       "    </tr>\n",
       "    <tr>\n",
       "      <th>19</th>\n",
       "      <td>\\n Prestige High Fields\\n2 BHK Flat\\nGachibowli\\n</td>\n",
       "      <td>\\n₹ 1.38 Cr.\\n</td>\n",
       "      <td>892 Sq.Ft.</td>\n",
       "      <td>Prestige High Fields</td>\n",
       "    </tr>\n",
       "    <tr>\n",
       "      <th>20</th>\n",
       "      <td>\\n Prestige High Fields\\n3 BHK Flat\\nGachibowli\\n</td>\n",
       "      <td>\\n₹ 1.84 Cr.\\n</td>\n",
       "      <td>1742 Sq.Ft.</td>\n",
       "      <td>Prestige High Fields</td>\n",
       "    </tr>\n",
       "  </tbody>\n",
       "</table>\n",
       "<p>639 rows × 4 columns</p>\n",
       "</div>"
      ],
      "text/plain": [
       "                                                title            price  \\\n",
       "0   \\n Pacifica Hillcrest Phase 2\\n2 BHK Flat\\nGac...      \\n₹ 1 Cr.\\n   \n",
       "1           \\n Muppa Melody\\n3 BHK Flat\\nGachibowli\\n   \\n₹ 1.25 Cr.\\n   \n",
       "2   \\n Pacifica Hillcrest Phase 2\\n2 BHK Flat\\nGac...      \\n₹ 1 Cr.\\n   \n",
       "3   \\n Prestige High Fields\\n2 BHK Flat\\nGachibowli\\n   \\n₹ 1.34 Cr.\\n   \n",
       "4   \\n Prestige High Fields\\n2 BHK Flat\\nGachibowli\\n   \\n₹ 1.31 Cr.\\n   \n",
       "..                                                ...              ...   \n",
       "16  \\n Gachibowli County\\nOffice Space in IT/SEZ\\n...    \\n₹ 476 Cr.\\n   \n",
       "17  \\n Pacifica Hillcrest Phase 2\\n3 BHK Flat\\n\\nG...   \\n₹ 1.27 Cr.\\n   \n",
       "18  \\n Northstar Homes District 1\\n2.5 BHK Flat\\nG...    \\n₹ 1.6 Cr.\\n   \n",
       "19  \\n Prestige High Fields\\n2 BHK Flat\\nGachibowli\\n   \\n₹ 1.38 Cr.\\n   \n",
       "20  \\n Prestige High Fields\\n3 BHK Flat\\nGachibowli\\n   \\n₹ 1.84 Cr.\\n   \n",
       "\n",
       "           size                     locality  \n",
       "0    940 Sq.Ft.   Pacifica Hillcrest Phase 2  \n",
       "1   1725 Sq.Ft.                 Muppa Melody  \n",
       "2    940 Sq.Ft.   Pacifica Hillcrest Phase 2  \n",
       "3   1283 Sq.Ft.         Prestige High Fields  \n",
       "4   1282 Sq.Ft.         Prestige High Fields  \n",
       "..          ...                          ...  \n",
       "16   753 Sq.Yd.            Gachibowli County  \n",
       "17  2061 Sq.Ft.   Pacifica Hillcrest Phase 2  \n",
       "18  1535 Sq.Ft.   Northstar Homes District 1  \n",
       "19   892 Sq.Ft.         Prestige High Fields  \n",
       "20  1742 Sq.Ft.         Prestige High Fields  \n",
       "\n",
       "[639 rows x 4 columns]"
      ]
     },
     "execution_count": 72,
     "metadata": {},
     "output_type": "execute_result"
    }
   ],
   "source": [
    "final"
   ]
  },
  {
   "cell_type": "code",
   "execution_count": 74,
   "id": "81b08208",
   "metadata": {},
   "outputs": [
    {
     "data": {
      "text/plain": [
       "256"
      ]
     },
     "execution_count": 74,
     "metadata": {},
     "output_type": "execute_result"
    }
   ],
   "source": [
    "final.duplicated().sum()"
   ]
  },
  {
   "cell_type": "code",
   "execution_count": 75,
   "id": "ce020d71",
   "metadata": {},
   "outputs": [
    {
     "data": {
      "text/html": [
       "<div>\n",
       "<style scoped>\n",
       "    .dataframe tbody tr th:only-of-type {\n",
       "        vertical-align: middle;\n",
       "    }\n",
       "\n",
       "    .dataframe tbody tr th {\n",
       "        vertical-align: top;\n",
       "    }\n",
       "\n",
       "    .dataframe thead th {\n",
       "        text-align: right;\n",
       "    }\n",
       "</style>\n",
       "<table border=\"1\" class=\"dataframe\">\n",
       "  <thead>\n",
       "    <tr style=\"text-align: right;\">\n",
       "      <th></th>\n",
       "      <th>title</th>\n",
       "      <th>price</th>\n",
       "      <th>size</th>\n",
       "      <th>locality</th>\n",
       "    </tr>\n",
       "  </thead>\n",
       "  <tbody>\n",
       "    <tr>\n",
       "      <th>0</th>\n",
       "      <td>\\n Pacifica Hillcrest Phase 2\\n2 BHK Flat\\nGac...</td>\n",
       "      <td>\\n₹ 1 Cr.\\n</td>\n",
       "      <td>940 Sq.Ft.</td>\n",
       "      <td>Pacifica Hillcrest Phase 2</td>\n",
       "    </tr>\n",
       "    <tr>\n",
       "      <th>1</th>\n",
       "      <td>\\n Muppa Melody\\n3 BHK Flat\\nGachibowli\\n</td>\n",
       "      <td>\\n₹ 1.25 Cr.\\n</td>\n",
       "      <td>1725 Sq.Ft.</td>\n",
       "      <td>Muppa Melody</td>\n",
       "    </tr>\n",
       "    <tr>\n",
       "      <th>3</th>\n",
       "      <td>\\n Prestige High Fields\\n2 BHK Flat\\nGachibowli\\n</td>\n",
       "      <td>\\n₹ 1.34 Cr.\\n</td>\n",
       "      <td>1283 Sq.Ft.</td>\n",
       "      <td>Prestige High Fields</td>\n",
       "    </tr>\n",
       "    <tr>\n",
       "      <th>4</th>\n",
       "      <td>\\n Prestige High Fields\\n2 BHK Flat\\nGachibowli\\n</td>\n",
       "      <td>\\n₹ 1.31 Cr.\\n</td>\n",
       "      <td>1282 Sq.Ft.</td>\n",
       "      <td>Prestige High Fields</td>\n",
       "    </tr>\n",
       "    <tr>\n",
       "      <th>5</th>\n",
       "      <td>\\n Prestige High Fields\\n2 BHK Flat\\nGachibowl...</td>\n",
       "      <td>\\n₹ 1.4 Cr.\\n</td>\n",
       "      <td>1283 Sq.Ft.</td>\n",
       "      <td>Prestige High Fields</td>\n",
       "    </tr>\n",
       "    <tr>\n",
       "      <th>...</th>\n",
       "      <td>...</td>\n",
       "      <td>...</td>\n",
       "      <td>...</td>\n",
       "      <td>...</td>\n",
       "    </tr>\n",
       "    <tr>\n",
       "      <th>12</th>\n",
       "      <td>\\n My Home Vihanga\\n3 BHK Flat\\n Gachibowli\\n</td>\n",
       "      <td>\\n₹ 1.85 Cr.\\n</td>\n",
       "      <td>1835 Sq.Ft.</td>\n",
       "      <td>My Home Vihanga</td>\n",
       "    </tr>\n",
       "    <tr>\n",
       "      <th>17</th>\n",
       "      <td>\\n Pacifica Hillcrest Phase 2\\n3 BHK Flat\\n\\nG...</td>\n",
       "      <td>\\n₹ 1.27 Cr.\\n</td>\n",
       "      <td>2061 Sq.Ft.</td>\n",
       "      <td>Pacifica Hillcrest Phase 2</td>\n",
       "    </tr>\n",
       "    <tr>\n",
       "      <th>15</th>\n",
       "      <td>\\n Pacifica Hillcrest Phase 1\\n2 BHK Flat\\n\\nG...</td>\n",
       "      <td>\\n₹ 1.2 Cr.\\n</td>\n",
       "      <td>886 Sq.Ft.</td>\n",
       "      <td>Pacifica Hillcrest Phase 1</td>\n",
       "    </tr>\n",
       "    <tr>\n",
       "      <th>16</th>\n",
       "      <td>\\n Gachibowli County\\nOffice Space in IT/SEZ\\n...</td>\n",
       "      <td>\\n₹ 476 Cr.\\n</td>\n",
       "      <td>753 Sq.Yd.</td>\n",
       "      <td>Gachibowli County</td>\n",
       "    </tr>\n",
       "    <tr>\n",
       "      <th>19</th>\n",
       "      <td>\\n Prestige High Fields\\n2 BHK Flat\\n\\nGachibo...</td>\n",
       "      <td>\\n₹ 1.38 Cr.\\n</td>\n",
       "      <td>892 Sq.Ft.</td>\n",
       "      <td>Prestige High Fields</td>\n",
       "    </tr>\n",
       "  </tbody>\n",
       "</table>\n",
       "<p>383 rows × 4 columns</p>\n",
       "</div>"
      ],
      "text/plain": [
       "                                                title            price  \\\n",
       "0   \\n Pacifica Hillcrest Phase 2\\n2 BHK Flat\\nGac...      \\n₹ 1 Cr.\\n   \n",
       "1           \\n Muppa Melody\\n3 BHK Flat\\nGachibowli\\n   \\n₹ 1.25 Cr.\\n   \n",
       "3   \\n Prestige High Fields\\n2 BHK Flat\\nGachibowli\\n   \\n₹ 1.34 Cr.\\n   \n",
       "4   \\n Prestige High Fields\\n2 BHK Flat\\nGachibowli\\n   \\n₹ 1.31 Cr.\\n   \n",
       "5   \\n Prestige High Fields\\n2 BHK Flat\\nGachibowl...    \\n₹ 1.4 Cr.\\n   \n",
       "..                                                ...              ...   \n",
       "12      \\n My Home Vihanga\\n3 BHK Flat\\n Gachibowli\\n   \\n₹ 1.85 Cr.\\n   \n",
       "17  \\n Pacifica Hillcrest Phase 2\\n3 BHK Flat\\n\\nG...   \\n₹ 1.27 Cr.\\n   \n",
       "15  \\n Pacifica Hillcrest Phase 1\\n2 BHK Flat\\n\\nG...    \\n₹ 1.2 Cr.\\n   \n",
       "16  \\n Gachibowli County\\nOffice Space in IT/SEZ\\n...    \\n₹ 476 Cr.\\n   \n",
       "19  \\n Prestige High Fields\\n2 BHK Flat\\n\\nGachibo...   \\n₹ 1.38 Cr.\\n   \n",
       "\n",
       "           size                     locality  \n",
       "0    940 Sq.Ft.   Pacifica Hillcrest Phase 2  \n",
       "1   1725 Sq.Ft.                 Muppa Melody  \n",
       "3   1283 Sq.Ft.         Prestige High Fields  \n",
       "4   1282 Sq.Ft.         Prestige High Fields  \n",
       "5   1283 Sq.Ft.         Prestige High Fields  \n",
       "..          ...                          ...  \n",
       "12  1835 Sq.Ft.              My Home Vihanga  \n",
       "17  2061 Sq.Ft.   Pacifica Hillcrest Phase 2  \n",
       "15   886 Sq.Ft.   Pacifica Hillcrest Phase 1  \n",
       "16   753 Sq.Yd.            Gachibowli County  \n",
       "19   892 Sq.Ft.         Prestige High Fields  \n",
       "\n",
       "[383 rows x 4 columns]"
      ]
     },
     "execution_count": 75,
     "metadata": {},
     "output_type": "execute_result"
    }
   ],
   "source": [
    "final.drop_duplicates()"
   ]
  },
  {
   "cell_type": "code",
   "execution_count": 76,
   "id": "aa6c4294",
   "metadata": {},
   "outputs": [],
   "source": [
    "final.to_excel('Gachibowli Square Yards.xlsx')"
   ]
  },
  {
   "cell_type": "code",
   "execution_count": null,
   "id": "110836ca",
   "metadata": {},
   "outputs": [],
   "source": []
  }
 ],
 "metadata": {
  "kernelspec": {
   "display_name": "Python 3 (ipykernel)",
   "language": "python",
   "name": "python3"
  },
  "language_info": {
   "codemirror_mode": {
    "name": "ipython",
    "version": 3
   },
   "file_extension": ".py",
   "mimetype": "text/x-python",
   "name": "python",
   "nbconvert_exporter": "python",
   "pygments_lexer": "ipython3",
   "version": "3.9.7"
  }
 },
 "nbformat": 4,
 "nbformat_minor": 5
}
