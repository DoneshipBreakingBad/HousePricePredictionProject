{
 "cells": [
  {
   "cell_type": "markdown",
   "id": "5c816fbd",
   "metadata": {},
   "source": [
    "# Project: Bangalore House Price Prediction Model"
   ]
  },
  {
   "cell_type": "code",
   "execution_count": 1,
   "id": "ab24b796",
   "metadata": {},
   "outputs": [],
   "source": [
    "# Importing necessary libraries\n",
    "\n",
    "import pandas as pd\n",
    "import numpy as np\n",
    "import matplotlib.pyplot as plt\n",
    "import seaborn as sns\n",
    "import warnings\n",
    "import re\n",
    "warnings.filterwarnings(\"ignore\")"
   ]
  },
  {
   "cell_type": "code",
   "execution_count": 70,
   "id": "20e70b2c",
   "metadata": {},
   "outputs": [],
   "source": [
    "# reading the excel dataset\n",
    "\n",
    "df = pd.read_excel(\"final_processed_data-Copy1.xlsx\")"
   ]
  },
  {
   "cell_type": "code",
   "execution_count": 71,
   "id": "aae9402b",
   "metadata": {},
   "outputs": [
    {
     "data": {
      "text/html": [
       "<div>\n",
       "<style scoped>\n",
       "    .dataframe tbody tr th:only-of-type {\n",
       "        vertical-align: middle;\n",
       "    }\n",
       "\n",
       "    .dataframe tbody tr th {\n",
       "        vertical-align: top;\n",
       "    }\n",
       "\n",
       "    .dataframe thead th {\n",
       "        text-align: right;\n",
       "    }\n",
       "</style>\n",
       "<table border=\"1\" class=\"dataframe\">\n",
       "  <thead>\n",
       "    <tr style=\"text-align: right;\">\n",
       "      <th></th>\n",
       "      <th>Unnamed: 0</th>\n",
       "      <th>title</th>\n",
       "      <th>price</th>\n",
       "      <th>size</th>\n",
       "      <th>price_per_sqft</th>\n",
       "      <th>space</th>\n",
       "      <th>city</th>\n",
       "      <th>locality</th>\n",
       "    </tr>\n",
       "  </thead>\n",
       "  <tbody>\n",
       "    <tr>\n",
       "      <th>0</th>\n",
       "      <td>0</td>\n",
       "      <td>3 BHK Apartment in CasaGrand Casagrand Meridian</td>\n",
       "      <td>11800000.00</td>\n",
       "      <td>2037.00</td>\n",
       "      <td>5793.00</td>\n",
       "      <td>3 BHK</td>\n",
       "      <td>Bangalore</td>\n",
       "      <td>CasaGrand Casagrand Meridian</td>\n",
       "    </tr>\n",
       "    <tr>\n",
       "      <th>1</th>\n",
       "      <td>1</td>\n",
       "      <td>2 BHK Apartment in Shree Nandana Elite</td>\n",
       "      <td>5756000.00</td>\n",
       "      <td>1240.00</td>\n",
       "      <td>4642.00</td>\n",
       "      <td>2 BHK</td>\n",
       "      <td>Bangalore</td>\n",
       "      <td>Shree Nandana Elite</td>\n",
       "    </tr>\n",
       "    <tr>\n",
       "      <th>2</th>\n",
       "      <td>2</td>\n",
       "      <td>Residential Plot in Saroj Whispering Winds</td>\n",
       "      <td>3230000.00</td>\n",
       "      <td>2000.00</td>\n",
       "      <td>1615.00</td>\n",
       "      <td>Residential Plot</td>\n",
       "      <td>Bangalore</td>\n",
       "      <td>Saroj Whispering Winds</td>\n",
       "    </tr>\n",
       "    <tr>\n",
       "      <th>3</th>\n",
       "      <td>3</td>\n",
       "      <td>3 BHK Apartment in Navami Landmaark</td>\n",
       "      <td>13300000.00</td>\n",
       "      <td>1641.00</td>\n",
       "      <td>8133.00</td>\n",
       "      <td>3 BHK</td>\n",
       "      <td>Bangalore</td>\n",
       "      <td>Navami Landmaark</td>\n",
       "    </tr>\n",
       "    <tr>\n",
       "      <th>4</th>\n",
       "      <td>4</td>\n",
       "      <td>2 BHK Apartment in V Venture EVA</td>\n",
       "      <td>5532000.00</td>\n",
       "      <td>957.00</td>\n",
       "      <td>5787.00</td>\n",
       "      <td>2 BHK</td>\n",
       "      <td>Bangalore</td>\n",
       "      <td>V Venture EVA</td>\n",
       "    </tr>\n",
       "  </tbody>\n",
       "</table>\n",
       "</div>"
      ],
      "text/plain": [
       "   Unnamed: 0                                            title       price  \\\n",
       "0           0  3 BHK Apartment in CasaGrand Casagrand Meridian 11800000.00   \n",
       "1           1           2 BHK Apartment in Shree Nandana Elite  5756000.00   \n",
       "2           2       Residential Plot in Saroj Whispering Winds  3230000.00   \n",
       "3           3              3 BHK Apartment in Navami Landmaark 13300000.00   \n",
       "4           4                 2 BHK Apartment in V Venture EVA  5532000.00   \n",
       "\n",
       "     size  price_per_sqft             space       city  \\\n",
       "0 2037.00         5793.00             3 BHK  Bangalore   \n",
       "1 1240.00         4642.00             2 BHK  Bangalore   \n",
       "2 2000.00         1615.00  Residential Plot  Bangalore   \n",
       "3 1641.00         8133.00             3 BHK  Bangalore   \n",
       "4  957.00         5787.00             2 BHK  Bangalore   \n",
       "\n",
       "                       locality  \n",
       "0  CasaGrand Casagrand Meridian  \n",
       "1           Shree Nandana Elite  \n",
       "2        Saroj Whispering Winds  \n",
       "3              Navami Landmaark  \n",
       "4                 V Venture EVA  "
      ]
     },
     "execution_count": 71,
     "metadata": {},
     "output_type": "execute_result"
    }
   ],
   "source": [
    "# checking first 5 columns\n",
    "\n",
    "df.head()"
   ]
  },
  {
   "cell_type": "code",
   "execution_count": 72,
   "id": "bd31134c",
   "metadata": {},
   "outputs": [
    {
     "data": {
      "text/html": [
       "<div>\n",
       "<style scoped>\n",
       "    .dataframe tbody tr th:only-of-type {\n",
       "        vertical-align: middle;\n",
       "    }\n",
       "\n",
       "    .dataframe tbody tr th {\n",
       "        vertical-align: top;\n",
       "    }\n",
       "\n",
       "    .dataframe thead th {\n",
       "        text-align: right;\n",
       "    }\n",
       "</style>\n",
       "<table border=\"1\" class=\"dataframe\">\n",
       "  <thead>\n",
       "    <tr style=\"text-align: right;\">\n",
       "      <th></th>\n",
       "      <th>Unnamed: 0</th>\n",
       "      <th>title</th>\n",
       "      <th>price</th>\n",
       "      <th>size</th>\n",
       "      <th>price_per_sqft</th>\n",
       "      <th>space</th>\n",
       "      <th>city</th>\n",
       "      <th>locality</th>\n",
       "    </tr>\n",
       "  </thead>\n",
       "  <tbody>\n",
       "    <tr>\n",
       "      <th>47772</th>\n",
       "      <td>47773</td>\n",
       "      <td>5 Bedroom Built-up  Area in Whitefield</td>\n",
       "      <td>23100000.00</td>\n",
       "      <td>3453.00</td>\n",
       "      <td>6689.83</td>\n",
       "      <td>5 Bedroom</td>\n",
       "      <td>Bangalore</td>\n",
       "      <td>Whitefield</td>\n",
       "    </tr>\n",
       "    <tr>\n",
       "      <th>47773</th>\n",
       "      <td>47774</td>\n",
       "      <td>4 BHK Super built-up  Area in Richards Town</td>\n",
       "      <td>40000000.00</td>\n",
       "      <td>3600.00</td>\n",
       "      <td>11111.11</td>\n",
       "      <td>4 BHK</td>\n",
       "      <td>Bangalore</td>\n",
       "      <td>Richards Town</td>\n",
       "    </tr>\n",
       "    <tr>\n",
       "      <th>47774</th>\n",
       "      <td>47775</td>\n",
       "      <td>2 BHK Built-up  Area in Raja Rajeshwari Nagar</td>\n",
       "      <td>6000000.00</td>\n",
       "      <td>1141.00</td>\n",
       "      <td>5258.55</td>\n",
       "      <td>2 BHK</td>\n",
       "      <td>Bangalore</td>\n",
       "      <td>Raja Rajeshwari Nagar</td>\n",
       "    </tr>\n",
       "    <tr>\n",
       "      <th>47775</th>\n",
       "      <td>47776</td>\n",
       "      <td>4 BHK Super built-up  Area in Padmanabhanagar</td>\n",
       "      <td>48800000.00</td>\n",
       "      <td>4689.00</td>\n",
       "      <td>10407.34</td>\n",
       "      <td>4 BHK</td>\n",
       "      <td>Bangalore</td>\n",
       "      <td>Padmanabhanagar</td>\n",
       "    </tr>\n",
       "    <tr>\n",
       "      <th>47776</th>\n",
       "      <td>47777</td>\n",
       "      <td>1 BHK Super built-up  Area in Doddathoguru</td>\n",
       "      <td>1700000.00</td>\n",
       "      <td>550.00</td>\n",
       "      <td>3090.91</td>\n",
       "      <td>1 BHK</td>\n",
       "      <td>Bangalore</td>\n",
       "      <td>Doddathoguru</td>\n",
       "    </tr>\n",
       "  </tbody>\n",
       "</table>\n",
       "</div>"
      ],
      "text/plain": [
       "       Unnamed: 0                                          title       price  \\\n",
       "47772       47773         5 Bedroom Built-up  Area in Whitefield 23100000.00   \n",
       "47773       47774    4 BHK Super built-up  Area in Richards Town 40000000.00   \n",
       "47774       47775  2 BHK Built-up  Area in Raja Rajeshwari Nagar  6000000.00   \n",
       "47775       47776  4 BHK Super built-up  Area in Padmanabhanagar 48800000.00   \n",
       "47776       47777     1 BHK Super built-up  Area in Doddathoguru  1700000.00   \n",
       "\n",
       "         size  price_per_sqft      space       city               locality  \n",
       "47772 3453.00         6689.83  5 Bedroom  Bangalore             Whitefield  \n",
       "47773 3600.00        11111.11      4 BHK  Bangalore          Richards Town  \n",
       "47774 1141.00         5258.55      2 BHK  Bangalore  Raja Rajeshwari Nagar  \n",
       "47775 4689.00        10407.34      4 BHK  Bangalore        Padmanabhanagar  \n",
       "47776  550.00         3090.91      1 BHK  Bangalore           Doddathoguru  "
      ]
     },
     "execution_count": 72,
     "metadata": {},
     "output_type": "execute_result"
    }
   ],
   "source": [
    "# checking the last 5 columns\n",
    "\n",
    "df.tail()"
   ]
  },
  {
   "cell_type": "code",
   "execution_count": 73,
   "id": "ce89c49f",
   "metadata": {},
   "outputs": [
    {
     "data": {
      "text/plain": [
       "(47777, 8)"
      ]
     },
     "execution_count": 73,
     "metadata": {},
     "output_type": "execute_result"
    }
   ],
   "source": [
    "# cheking the shape of the dataset\n",
    "\n",
    "df.shape"
   ]
  },
  {
   "cell_type": "code",
   "execution_count": 74,
   "id": "e182dbe0",
   "metadata": {},
   "outputs": [],
   "source": [
    "# removing the unnecessary column Unnamed: 0 and status\n",
    "\n",
    "df = df.drop(['Unnamed: 0'], axis=1)"
   ]
  },
  {
   "cell_type": "code",
   "execution_count": 75,
   "id": "f6bbc790",
   "metadata": {},
   "outputs": [
    {
     "data": {
      "text/html": [
       "<div>\n",
       "<style scoped>\n",
       "    .dataframe tbody tr th:only-of-type {\n",
       "        vertical-align: middle;\n",
       "    }\n",
       "\n",
       "    .dataframe tbody tr th {\n",
       "        vertical-align: top;\n",
       "    }\n",
       "\n",
       "    .dataframe thead th {\n",
       "        text-align: right;\n",
       "    }\n",
       "</style>\n",
       "<table border=\"1\" class=\"dataframe\">\n",
       "  <thead>\n",
       "    <tr style=\"text-align: right;\">\n",
       "      <th></th>\n",
       "      <th>title</th>\n",
       "      <th>price</th>\n",
       "      <th>size</th>\n",
       "      <th>price_per_sqft</th>\n",
       "      <th>space</th>\n",
       "      <th>city</th>\n",
       "      <th>locality</th>\n",
       "    </tr>\n",
       "  </thead>\n",
       "  <tbody>\n",
       "    <tr>\n",
       "      <th>0</th>\n",
       "      <td>3 BHK Apartment in CasaGrand Casagrand Meridian</td>\n",
       "      <td>11800000.00</td>\n",
       "      <td>2037.00</td>\n",
       "      <td>5793.00</td>\n",
       "      <td>3 BHK</td>\n",
       "      <td>Bangalore</td>\n",
       "      <td>CasaGrand Casagrand Meridian</td>\n",
       "    </tr>\n",
       "    <tr>\n",
       "      <th>1</th>\n",
       "      <td>2 BHK Apartment in Shree Nandana Elite</td>\n",
       "      <td>5756000.00</td>\n",
       "      <td>1240.00</td>\n",
       "      <td>4642.00</td>\n",
       "      <td>2 BHK</td>\n",
       "      <td>Bangalore</td>\n",
       "      <td>Shree Nandana Elite</td>\n",
       "    </tr>\n",
       "    <tr>\n",
       "      <th>2</th>\n",
       "      <td>Residential Plot in Saroj Whispering Winds</td>\n",
       "      <td>3230000.00</td>\n",
       "      <td>2000.00</td>\n",
       "      <td>1615.00</td>\n",
       "      <td>Residential Plot</td>\n",
       "      <td>Bangalore</td>\n",
       "      <td>Saroj Whispering Winds</td>\n",
       "    </tr>\n",
       "  </tbody>\n",
       "</table>\n",
       "</div>"
      ],
      "text/plain": [
       "                                             title       price    size  \\\n",
       "0  3 BHK Apartment in CasaGrand Casagrand Meridian 11800000.00 2037.00   \n",
       "1           2 BHK Apartment in Shree Nandana Elite  5756000.00 1240.00   \n",
       "2       Residential Plot in Saroj Whispering Winds  3230000.00 2000.00   \n",
       "\n",
       "   price_per_sqft             space       city                      locality  \n",
       "0         5793.00             3 BHK  Bangalore  CasaGrand Casagrand Meridian  \n",
       "1         4642.00             2 BHK  Bangalore           Shree Nandana Elite  \n",
       "2         1615.00  Residential Plot  Bangalore        Saroj Whispering Winds  "
      ]
     },
     "execution_count": 75,
     "metadata": {},
     "output_type": "execute_result"
    }
   ],
   "source": [
    "df.head(3)"
   ]
  },
  {
   "cell_type": "code",
   "execution_count": 76,
   "id": "c6a27113",
   "metadata": {},
   "outputs": [
    {
     "data": {
      "text/html": [
       "<div>\n",
       "<style scoped>\n",
       "    .dataframe tbody tr th:only-of-type {\n",
       "        vertical-align: middle;\n",
       "    }\n",
       "\n",
       "    .dataframe tbody tr th {\n",
       "        vertical-align: top;\n",
       "    }\n",
       "\n",
       "    .dataframe thead th {\n",
       "        text-align: right;\n",
       "    }\n",
       "</style>\n",
       "<table border=\"1\" class=\"dataframe\">\n",
       "  <thead>\n",
       "    <tr style=\"text-align: right;\">\n",
       "      <th></th>\n",
       "      <th>price</th>\n",
       "      <th>size</th>\n",
       "      <th>price_per_sqft</th>\n",
       "    </tr>\n",
       "  </thead>\n",
       "  <tbody>\n",
       "    <tr>\n",
       "      <th>count</th>\n",
       "      <td>47777.00</td>\n",
       "      <td>47777.00</td>\n",
       "      <td>47777.00</td>\n",
       "    </tr>\n",
       "    <tr>\n",
       "      <th>mean</th>\n",
       "      <td>89855629.65</td>\n",
       "      <td>1855.81</td>\n",
       "      <td>43495.45</td>\n",
       "    </tr>\n",
       "    <tr>\n",
       "      <th>std</th>\n",
       "      <td>645547812.19</td>\n",
       "      <td>9304.93</td>\n",
       "      <td>250755.12</td>\n",
       "    </tr>\n",
       "    <tr>\n",
       "      <th>min</th>\n",
       "      <td>0.00</td>\n",
       "      <td>1.00</td>\n",
       "      <td>0.00</td>\n",
       "    </tr>\n",
       "    <tr>\n",
       "      <th>25%</th>\n",
       "      <td>5347000.00</td>\n",
       "      <td>1154.00</td>\n",
       "      <td>4465.00</td>\n",
       "    </tr>\n",
       "    <tr>\n",
       "      <th>50%</th>\n",
       "      <td>8366000.00</td>\n",
       "      <td>1359.00</td>\n",
       "      <td>6000.00</td>\n",
       "    </tr>\n",
       "    <tr>\n",
       "      <th>75%</th>\n",
       "      <td>16500000.00</td>\n",
       "      <td>1834.32</td>\n",
       "      <td>8847.00</td>\n",
       "    </tr>\n",
       "    <tr>\n",
       "      <th>max</th>\n",
       "      <td>76950000000.00</td>\n",
       "      <td>1306800.00</td>\n",
       "      <td>27000000.00</td>\n",
       "    </tr>\n",
       "  </tbody>\n",
       "</table>\n",
       "</div>"
      ],
      "text/plain": [
       "               price       size  price_per_sqft\n",
       "count       47777.00   47777.00        47777.00\n",
       "mean     89855629.65    1855.81        43495.45\n",
       "std     645547812.19    9304.93       250755.12\n",
       "min             0.00       1.00            0.00\n",
       "25%       5347000.00    1154.00         4465.00\n",
       "50%       8366000.00    1359.00         6000.00\n",
       "75%      16500000.00    1834.32         8847.00\n",
       "max   76950000000.00 1306800.00     27000000.00"
      ]
     },
     "execution_count": 76,
     "metadata": {},
     "output_type": "execute_result"
    }
   ],
   "source": [
    "# getting the overall statistics of our data\n",
    "\n",
    "df.describe()"
   ]
  },
  {
   "cell_type": "code",
   "execution_count": 77,
   "id": "25317af8",
   "metadata": {
    "scrolled": true
   },
   "outputs": [
    {
     "name": "stdout",
     "output_type": "stream",
     "text": [
      "<class 'pandas.core.frame.DataFrame'>\n",
      "RangeIndex: 47777 entries, 0 to 47776\n",
      "Data columns (total 7 columns):\n",
      " #   Column          Non-Null Count  Dtype  \n",
      "---  ------          --------------  -----  \n",
      " 0   title           47777 non-null  object \n",
      " 1   price           47777 non-null  float64\n",
      " 2   size            47777 non-null  float64\n",
      " 3   price_per_sqft  47777 non-null  float64\n",
      " 4   space           47777 non-null  object \n",
      " 5   city            47777 non-null  object \n",
      " 6   locality        47776 non-null  object \n",
      "dtypes: float64(3), object(4)\n",
      "memory usage: 2.6+ MB\n"
     ]
    }
   ],
   "source": [
    "# getting the overall information about the data\n",
    "\n",
    "df.info()"
   ]
  },
  {
   "cell_type": "markdown",
   "id": "595a9ffe",
   "metadata": {},
   "source": [
    "## Data Cleaning and Preprocessing"
   ]
  },
  {
   "cell_type": "code",
   "execution_count": 78,
   "id": "7b8638ea",
   "metadata": {},
   "outputs": [
    {
     "data": {
      "text/plain": [
       "856"
      ]
     },
     "execution_count": 78,
     "metadata": {},
     "output_type": "execute_result"
    }
   ],
   "source": [
    "# checking for duplicates in the data\n",
    "\n",
    "df.duplicated().sum()"
   ]
  },
  {
   "cell_type": "code",
   "execution_count": 79,
   "id": "cd0fb70e",
   "metadata": {},
   "outputs": [],
   "source": [
    "# dropping the duplicated datas\n",
    "\n",
    "df = df.drop_duplicates()"
   ]
  },
  {
   "cell_type": "code",
   "execution_count": 80,
   "id": "c9284591",
   "metadata": {},
   "outputs": [],
   "source": [
    "# resetting the index of the DataFrame\n",
    "\n",
    "df.reset_index(drop=True, inplace=True)"
   ]
  },
  {
   "cell_type": "code",
   "execution_count": 81,
   "id": "ed5b02df",
   "metadata": {},
   "outputs": [
    {
     "data": {
      "text/plain": [
       "0"
      ]
     },
     "execution_count": 81,
     "metadata": {},
     "output_type": "execute_result"
    }
   ],
   "source": [
    "df.duplicated().sum()"
   ]
  },
  {
   "cell_type": "code",
   "execution_count": 82,
   "id": "c13c363d",
   "metadata": {},
   "outputs": [
    {
     "data": {
      "text/plain": [
       "title             0\n",
       "price             0\n",
       "size              0\n",
       "price_per_sqft    0\n",
       "space             0\n",
       "city              0\n",
       "locality          1\n",
       "dtype: int64"
      ]
     },
     "execution_count": 82,
     "metadata": {},
     "output_type": "execute_result"
    }
   ],
   "source": [
    "# checking for null values\n",
    "\n",
    "df.isnull().sum()"
   ]
  },
  {
   "cell_type": "markdown",
   "id": "f45f6cd0",
   "metadata": {},
   "source": [
    "### Note\n",
    "- It is clearly noticable that size, price_per_sqft and status columns have empty data in them.\n",
    "- So we will need to remove those empty data so that our ML model works efficiently"
   ]
  },
  {
   "cell_type": "markdown",
   "id": "4939e06e",
   "metadata": {},
   "source": [
    "### Filling up the null values in the size column"
   ]
  },
  {
   "cell_type": "code",
   "execution_count": 83,
   "id": "7d290cd8",
   "metadata": {},
   "outputs": [],
   "source": [
    "#replacing the \" sqrt\" term from the size column\n",
    "\n",
    "# df['size'] = df['size'].str.replace(' sqft| Sq.Ft.', '')"
   ]
  },
  {
   "cell_type": "code",
   "execution_count": 84,
   "id": "dca85bc9",
   "metadata": {},
   "outputs": [
    {
     "data": {
      "text/plain": [
       "0       2037.00\n",
       "1       1240.00\n",
       "2       2000.00\n",
       "3       1641.00\n",
       "4        957.00\n",
       "          ...  \n",
       "46916   1715.00\n",
       "46917   3453.00\n",
       "46918   3600.00\n",
       "46919   1141.00\n",
       "46920   4689.00\n",
       "Name: size, Length: 46921, dtype: float64"
      ]
     },
     "execution_count": 84,
     "metadata": {},
     "output_type": "execute_result"
    }
   ],
   "source": [
    "df['size']"
   ]
  },
  {
   "cell_type": "code",
   "execution_count": 85,
   "id": "5ded7d4a",
   "metadata": {},
   "outputs": [
    {
     "name": "stdout",
     "output_type": "stream",
     "text": [
      "1865.2836884861154\n"
     ]
    }
   ],
   "source": [
    "# Convert the column to a numeric data type\n",
    "df['size'] = pd.to_numeric(df['size'], errors='coerce')\n",
    "\n",
    "# Calculate the mean, excluding NaN values\n",
    "column_mean = df['size'].mean(skipna=True)\n",
    "\n",
    "# Checking the mean value\n",
    "print(column_mean)"
   ]
  },
  {
   "cell_type": "code",
   "execution_count": 86,
   "id": "047f2fff",
   "metadata": {},
   "outputs": [],
   "source": [
    "df['size'].fillna(column_mean, inplace=True)"
   ]
  },
  {
   "cell_type": "code",
   "execution_count": 87,
   "id": "f98a0eaf",
   "metadata": {},
   "outputs": [
    {
     "data": {
      "text/plain": [
       "title             0\n",
       "price             0\n",
       "size              0\n",
       "price_per_sqft    0\n",
       "space             0\n",
       "city              0\n",
       "locality          1\n",
       "dtype: int64"
      ]
     },
     "execution_count": 87,
     "metadata": {},
     "output_type": "execute_result"
    }
   ],
   "source": [
    "df.isnull().sum()"
   ]
  },
  {
   "cell_type": "markdown",
   "id": "c7d2ad0e",
   "metadata": {},
   "source": [
    "### Converting word price to numeric values"
   ]
  },
  {
   "cell_type": "code",
   "execution_count": 88,
   "id": "fdeab7f1",
   "metadata": {},
   "outputs": [],
   "source": [
    "df['price'] = df['price'].astype(str)"
   ]
  },
  {
   "cell_type": "code",
   "execution_count": 89,
   "id": "3f772b47",
   "metadata": {},
   "outputs": [],
   "source": [
    "df['price'] = df['price'].str.replace('₹', '')"
   ]
  },
  {
   "cell_type": "code",
   "execution_count": 90,
   "id": "7e7d64aa",
   "metadata": {},
   "outputs": [],
   "source": [
    "def convert_value(value):\n",
    "    if 'Cr' in value:\n",
    "        return float(value.replace(' Cr', '')) * 10000000\n",
    "    elif 'Lac' in value:\n",
    "        return float(value.replace(' Lac', '')) * 100000\n",
    "    elif 'L' in value:\n",
    "        return float(value.replace(' L', '')) * 100000\n",
    "    elif 'ac' in value:\n",
    "        return float(value.replace('ac', '')) * 100000\n",
    "    elif 'Call for Price' in value:\n",
    "        return float(value.replace('Call for Price', '0')) * 0\n",
    "    elif 'Price on Request' in value:\n",
    "        return float(value.replace('Price on Request', '0')) * 0\n",
    "    else:\n",
    "        return float(value)\n",
    "\n",
    "pd.options.display.float_format = '{:.2f}'.format\n",
    "df['price'] = df['price'].apply(convert_value)"
   ]
  },
  {
   "cell_type": "code",
   "execution_count": 91,
   "id": "ed0964d0",
   "metadata": {},
   "outputs": [
    {
     "data": {
      "text/html": [
       "<div>\n",
       "<style scoped>\n",
       "    .dataframe tbody tr th:only-of-type {\n",
       "        vertical-align: middle;\n",
       "    }\n",
       "\n",
       "    .dataframe tbody tr th {\n",
       "        vertical-align: top;\n",
       "    }\n",
       "\n",
       "    .dataframe thead th {\n",
       "        text-align: right;\n",
       "    }\n",
       "</style>\n",
       "<table border=\"1\" class=\"dataframe\">\n",
       "  <thead>\n",
       "    <tr style=\"text-align: right;\">\n",
       "      <th></th>\n",
       "      <th>title</th>\n",
       "      <th>price</th>\n",
       "      <th>size</th>\n",
       "      <th>price_per_sqft</th>\n",
       "      <th>space</th>\n",
       "      <th>city</th>\n",
       "      <th>locality</th>\n",
       "    </tr>\n",
       "  </thead>\n",
       "  <tbody>\n",
       "    <tr>\n",
       "      <th>0</th>\n",
       "      <td>3 BHK Apartment in CasaGrand Casagrand Meridian</td>\n",
       "      <td>11800000.00</td>\n",
       "      <td>2037.00</td>\n",
       "      <td>5793.00</td>\n",
       "      <td>3 BHK</td>\n",
       "      <td>Bangalore</td>\n",
       "      <td>CasaGrand Casagrand Meridian</td>\n",
       "    </tr>\n",
       "    <tr>\n",
       "      <th>1</th>\n",
       "      <td>2 BHK Apartment in Shree Nandana Elite</td>\n",
       "      <td>5756000.00</td>\n",
       "      <td>1240.00</td>\n",
       "      <td>4642.00</td>\n",
       "      <td>2 BHK</td>\n",
       "      <td>Bangalore</td>\n",
       "      <td>Shree Nandana Elite</td>\n",
       "    </tr>\n",
       "    <tr>\n",
       "      <th>2</th>\n",
       "      <td>Residential Plot in Saroj Whispering Winds</td>\n",
       "      <td>3230000.00</td>\n",
       "      <td>2000.00</td>\n",
       "      <td>1615.00</td>\n",
       "      <td>Residential Plot</td>\n",
       "      <td>Bangalore</td>\n",
       "      <td>Saroj Whispering Winds</td>\n",
       "    </tr>\n",
       "  </tbody>\n",
       "</table>\n",
       "</div>"
      ],
      "text/plain": [
       "                                             title       price    size  \\\n",
       "0  3 BHK Apartment in CasaGrand Casagrand Meridian 11800000.00 2037.00   \n",
       "1           2 BHK Apartment in Shree Nandana Elite  5756000.00 1240.00   \n",
       "2       Residential Plot in Saroj Whispering Winds  3230000.00 2000.00   \n",
       "\n",
       "   price_per_sqft             space       city                      locality  \n",
       "0         5793.00             3 BHK  Bangalore  CasaGrand Casagrand Meridian  \n",
       "1         4642.00             2 BHK  Bangalore           Shree Nandana Elite  \n",
       "2         1615.00  Residential Plot  Bangalore        Saroj Whispering Winds  "
      ]
     },
     "execution_count": 91,
     "metadata": {},
     "output_type": "execute_result"
    }
   ],
   "source": [
    "df.head(3)"
   ]
  },
  {
   "cell_type": "code",
   "execution_count": 92,
   "id": "b1eeb1ae",
   "metadata": {},
   "outputs": [],
   "source": [
    "# df.info()"
   ]
  },
  {
   "cell_type": "markdown",
   "id": "752b3fbb",
   "metadata": {},
   "source": [
    "### Preprocessing the price_per_sqft column of the DataFrame"
   ]
  },
  {
   "cell_type": "code",
   "execution_count": 94,
   "id": "57ee8f03",
   "metadata": {},
   "outputs": [],
   "source": [
    "#removing the unnecessary symbols\n",
    "\n",
    "# df['price_per_sqft'] = df['price_per_sqft'].str.replace(' / sq ft', '')\n",
    "# df['price_per_sqft'] = df['price_per_sqft'].str.replace(' per sqft', '')\n",
    "# df['price_per_sqft'] = df['price_per_sqft'].str.replace('₹', '')\n",
    "# df['price_per_sqft'] = df['price_per_sqft'].str.replace(',', '')"
   ]
  },
  {
   "cell_type": "code",
   "execution_count": 95,
   "id": "6608b30a",
   "metadata": {},
   "outputs": [],
   "source": [
    "#calculating the price_per_sqft to fill in the null values\n",
    "\n",
    "def calculate_price_per_sqft(row):\n",
    "    if pd.isna(row['price_per_sqft']):\n",
    "        if row['price'] == 0:\n",
    "            return 0\n",
    "        else:\n",
    "            return row['price'] / row['size']\n",
    "    else:\n",
    "        return row['price_per_sqft']\n",
    "\n",
    "pd.options.display.float_format = '{:.2f}'.format\n",
    "df['price_per_sqft'] = df.apply(calculate_price_per_sqft, axis=1)\n"
   ]
  },
  {
   "cell_type": "code",
   "execution_count": 96,
   "id": "573e4812",
   "metadata": {},
   "outputs": [],
   "source": [
    "#converting price_per_sqft to float Dtype\n",
    "\n",
    "df['price_per_sqft']=df['price_per_sqft'].astype(float)"
   ]
  },
  {
   "cell_type": "code",
   "execution_count": 97,
   "id": "9e6c30f5",
   "metadata": {},
   "outputs": [
    {
     "name": "stdout",
     "output_type": "stream",
     "text": [
      "<class 'pandas.core.frame.DataFrame'>\n",
      "RangeIndex: 46921 entries, 0 to 46920\n",
      "Data columns (total 7 columns):\n",
      " #   Column          Non-Null Count  Dtype  \n",
      "---  ------          --------------  -----  \n",
      " 0   title           46921 non-null  object \n",
      " 1   price           46921 non-null  float64\n",
      " 2   size            46921 non-null  float64\n",
      " 3   price_per_sqft  46921 non-null  float64\n",
      " 4   space           46921 non-null  object \n",
      " 5   city            46921 non-null  object \n",
      " 6   locality        46920 non-null  object \n",
      "dtypes: float64(3), object(4)\n",
      "memory usage: 2.5+ MB\n"
     ]
    }
   ],
   "source": [
    "df.info()"
   ]
  },
  {
   "cell_type": "markdown",
   "id": "f4ed5a6b",
   "metadata": {},
   "source": [
    "- <b><i> after bringing all the data to the standard format, we will check for duplicates again </i> </b>"
   ]
  },
  {
   "cell_type": "code",
   "execution_count": 98,
   "id": "b0d76e8c",
   "metadata": {},
   "outputs": [
    {
     "data": {
      "text/plain": [
       "0"
      ]
     },
     "execution_count": 98,
     "metadata": {},
     "output_type": "execute_result"
    }
   ],
   "source": [
    "df.duplicated().sum()"
   ]
  },
  {
   "cell_type": "code",
   "execution_count": 99,
   "id": "850d8cc4",
   "metadata": {},
   "outputs": [],
   "source": [
    "# dropping the duplicates\n",
    "df = df.drop_duplicates()"
   ]
  },
  {
   "cell_type": "code",
   "execution_count": 100,
   "id": "b3d2c1fd",
   "metadata": {},
   "outputs": [],
   "source": [
    "# dropping the values for which price is 0\n",
    "\n",
    "df = df.drop(df[df['price'] == 0].index)"
   ]
  },
  {
   "cell_type": "code",
   "execution_count": 101,
   "id": "f4d32c01",
   "metadata": {},
   "outputs": [
    {
     "data": {
      "text/plain": [
       "(46437, 7)"
      ]
     },
     "execution_count": 101,
     "metadata": {},
     "output_type": "execute_result"
    }
   ],
   "source": [
    "df.shape"
   ]
  },
  {
   "cell_type": "code",
   "execution_count": 102,
   "id": "8874805d",
   "metadata": {},
   "outputs": [],
   "source": [
    "df.reset_index(drop=True, inplace=True)"
   ]
  },
  {
   "cell_type": "code",
   "execution_count": 103,
   "id": "f042d8d2",
   "metadata": {},
   "outputs": [
    {
     "data": {
      "text/html": [
       "<div>\n",
       "<style scoped>\n",
       "    .dataframe tbody tr th:only-of-type {\n",
       "        vertical-align: middle;\n",
       "    }\n",
       "\n",
       "    .dataframe tbody tr th {\n",
       "        vertical-align: top;\n",
       "    }\n",
       "\n",
       "    .dataframe thead th {\n",
       "        text-align: right;\n",
       "    }\n",
       "</style>\n",
       "<table border=\"1\" class=\"dataframe\">\n",
       "  <thead>\n",
       "    <tr style=\"text-align: right;\">\n",
       "      <th></th>\n",
       "      <th>title</th>\n",
       "      <th>price</th>\n",
       "      <th>size</th>\n",
       "      <th>price_per_sqft</th>\n",
       "      <th>space</th>\n",
       "      <th>city</th>\n",
       "      <th>locality</th>\n",
       "    </tr>\n",
       "  </thead>\n",
       "  <tbody>\n",
       "    <tr>\n",
       "      <th>46432</th>\n",
       "      <td>3 BHK Super built-up  Area in Green Glen Layout</td>\n",
       "      <td>11200000.00</td>\n",
       "      <td>1715.00</td>\n",
       "      <td>6530.61</td>\n",
       "      <td>3 BHK</td>\n",
       "      <td>Bangalore</td>\n",
       "      <td>Green Glen Layout</td>\n",
       "    </tr>\n",
       "    <tr>\n",
       "      <th>46433</th>\n",
       "      <td>5 Bedroom Built-up  Area in Whitefield</td>\n",
       "      <td>23100000.00</td>\n",
       "      <td>3453.00</td>\n",
       "      <td>6689.83</td>\n",
       "      <td>5 Bedroom</td>\n",
       "      <td>Bangalore</td>\n",
       "      <td>Whitefield</td>\n",
       "    </tr>\n",
       "    <tr>\n",
       "      <th>46434</th>\n",
       "      <td>4 BHK Super built-up  Area in Richards Town</td>\n",
       "      <td>40000000.00</td>\n",
       "      <td>3600.00</td>\n",
       "      <td>11111.11</td>\n",
       "      <td>4 BHK</td>\n",
       "      <td>Bangalore</td>\n",
       "      <td>Richards Town</td>\n",
       "    </tr>\n",
       "    <tr>\n",
       "      <th>46435</th>\n",
       "      <td>2 BHK Built-up  Area in Raja Rajeshwari Nagar</td>\n",
       "      <td>6000000.00</td>\n",
       "      <td>1141.00</td>\n",
       "      <td>5258.55</td>\n",
       "      <td>2 BHK</td>\n",
       "      <td>Bangalore</td>\n",
       "      <td>Raja Rajeshwari Nagar</td>\n",
       "    </tr>\n",
       "    <tr>\n",
       "      <th>46436</th>\n",
       "      <td>4 BHK Super built-up  Area in Padmanabhanagar</td>\n",
       "      <td>48800000.00</td>\n",
       "      <td>4689.00</td>\n",
       "      <td>10407.34</td>\n",
       "      <td>4 BHK</td>\n",
       "      <td>Bangalore</td>\n",
       "      <td>Padmanabhanagar</td>\n",
       "    </tr>\n",
       "  </tbody>\n",
       "</table>\n",
       "</div>"
      ],
      "text/plain": [
       "                                                 title       price    size  \\\n",
       "46432  3 BHK Super built-up  Area in Green Glen Layout 11200000.00 1715.00   \n",
       "46433           5 Bedroom Built-up  Area in Whitefield 23100000.00 3453.00   \n",
       "46434      4 BHK Super built-up  Area in Richards Town 40000000.00 3600.00   \n",
       "46435    2 BHK Built-up  Area in Raja Rajeshwari Nagar  6000000.00 1141.00   \n",
       "46436    4 BHK Super built-up  Area in Padmanabhanagar 48800000.00 4689.00   \n",
       "\n",
       "       price_per_sqft      space       city               locality  \n",
       "46432         6530.61      3 BHK  Bangalore      Green Glen Layout  \n",
       "46433         6689.83  5 Bedroom  Bangalore             Whitefield  \n",
       "46434        11111.11      4 BHK  Bangalore          Richards Town  \n",
       "46435         5258.55      2 BHK  Bangalore  Raja Rajeshwari Nagar  \n",
       "46436        10407.34      4 BHK  Bangalore        Padmanabhanagar  "
      ]
     },
     "execution_count": 103,
     "metadata": {},
     "output_type": "execute_result"
    }
   ],
   "source": [
    "df.tail()"
   ]
  },
  {
   "cell_type": "markdown",
   "id": "e281c560",
   "metadata": {},
   "source": [
    "### Saving the processed and clean data into another excel sheet"
   ]
  },
  {
   "cell_type": "code",
   "execution_count": 106,
   "id": "b0b671a7",
   "metadata": {},
   "outputs": [],
   "source": [
    "df.to_excel('final_processed_data-Copy1.xlsx')"
   ]
  },
  {
   "cell_type": "markdown",
   "id": "6b8557ed",
   "metadata": {},
   "source": [
    "## Exploratory Data Analysis (EDA)"
   ]
  },
  {
   "cell_type": "code",
   "execution_count": 107,
   "id": "711212fd",
   "metadata": {},
   "outputs": [
    {
     "data": {
      "text/plain": [
       "count          46437.000000\n",
       "mean        92311117.470982\n",
       "std        654630868.136457\n",
       "min           180000.000000\n",
       "25%          5500000.000000\n",
       "50%          8500000.000000\n",
       "75%         17000000.000000\n",
       "max      76950000000.000000\n",
       "Name: price, dtype: object"
      ]
     },
     "execution_count": 107,
     "metadata": {},
     "output_type": "execute_result"
    }
   ],
   "source": [
    "df['price'].describe().apply(lambda x:format(x,'f'))"
   ]
  },
  {
   "cell_type": "code",
   "execution_count": 108,
   "id": "2880a89c",
   "metadata": {},
   "outputs": [
    {
     "data": {
      "image/png": "[encoded data removed]",
      "text/plain": [
       "<Figure size 1080x432 with 1 Axes>"
      ]
     },
     "metadata": {
      "needs_background": "light"
     },
     "output_type": "display_data"
    }
   ],
   "source": [
    "plt.figure(figsize=(15,6))\n",
    "sns.boxplot('price', data = df, palette = 'hls')\n",
    "plt.xticks(rotation = 90)\n",
    "plt.show()"
   ]
  },
  {
   "cell_type": "markdown",
   "id": "fd0c8646",
   "metadata": {},
   "source": [
    "<i> - From the above analysis of the price column, we can see that there are outliers present in <b> price </b> column </i>"
   ]
  },
  {
   "cell_type": "code",
   "execution_count": 109,
   "id": "224f257b",
   "metadata": {},
   "outputs": [
    {
     "data": {
      "text/plain": [
       "count       46437.000000\n",
       "mean        44652.894166\n",
       "std        254252.876609\n",
       "min             2.257423\n",
       "25%          4507.000000\n",
       "50%          6075.000000\n",
       "75%          9000.000000\n",
       "max      27000000.000000\n",
       "Name: price_per_sqft, dtype: object"
      ]
     },
     "execution_count": 109,
     "metadata": {},
     "output_type": "execute_result"
    }
   ],
   "source": [
    "df['price_per_sqft'].describe().apply(lambda x:format(x,'f'))"
   ]
  },
  {
   "cell_type": "code",
   "execution_count": 110,
   "id": "51610ffa",
   "metadata": {},
   "outputs": [
    {
     "data": {
      "image/png": "[encoded data removed]",
      "text/plain": [
       "<Figure size 1080x432 with 1 Axes>"
      ]
     },
     "metadata": {
      "needs_background": "light"
     },
     "output_type": "display_data"
    }
   ],
   "source": [
    "plt.figure(figsize=(15,6))\n",
    "sns.boxplot('price_per_sqft', data = df, palette = 'hls')\n",
    "plt.xticks(rotation = 90)\n",
    "plt.show()"
   ]
  },
  {
   "cell_type": "markdown",
   "id": "5b4ab163",
   "metadata": {},
   "source": [
    "<i> - From the above analysis of the price column, we can see that there are outliers present in <b> price_per_sqft </b> column </i>"
   ]
  },
  {
   "cell_type": "markdown",
   "id": "9c923618",
   "metadata": {},
   "source": [
    "### Handling outliers"
   ]
  },
  {
   "cell_type": "code",
   "execution_count": 111,
   "id": "dc4e2ede",
   "metadata": {},
   "outputs": [],
   "source": [
    "Q1 = df['price_per_sqft'].quantile(0.25)\n",
    "Q3 = df['price_per_sqft'].quantile(0.75)\n",
    "IQR = Q3 - Q1\n",
    "\n",
    "# Define the outlier threshold\n",
    "threshold = 1.5\n",
    "\n",
    "# Filter the outliers\n",
    "filtered_df = df[(df['price_per_sqft'] >= Q1 - threshold * IQR) & (df['price_per_sqft'] <= Q3 + threshold * IQR)]"
   ]
  },
  {
   "cell_type": "code",
   "execution_count": 112,
   "id": "be7557e1",
   "metadata": {},
   "outputs": [
    {
     "data": {
      "image/png": "[encoded data removed]",
      "text/plain": [
       "<Figure size 1080x432 with 1 Axes>"
      ]
     },
     "metadata": {
      "needs_background": "light"
     },
     "output_type": "display_data"
    }
   ],
   "source": [
    "plt.figure(figsize=(15,6))\n",
    "sns.boxplot('price_per_sqft', data = filtered_df, palette = 'hls')\n",
    "plt.xticks(rotation = 90)\n",
    "plt.show()"
   ]
  },
  {
   "cell_type": "code",
   "execution_count": 113,
   "id": "f5707f50",
   "metadata": {},
   "outputs": [
    {
     "data": {
      "text/plain": [
       "15734.0"
      ]
     },
     "execution_count": 113,
     "metadata": {},
     "output_type": "execute_result"
    }
   ],
   "source": [
    "filtered_df['price_per_sqft'].max()"
   ]
  },
  {
   "cell_type": "code",
   "execution_count": null,
   "id": "f4b053bd",
   "metadata": {},
   "outputs": [],
   "source": []
  }
 ],
 "metadata": {
  "kernelspec": {
   "display_name": "Python 3 (ipykernel)",
   "language": "python",
   "name": "python3"
  },
  "language_info": {
   "codemirror_mode": {
    "name": "ipython",
    "version": 3
   },
   "file_extension": ".py",
   "mimetype": "text/x-python",
   "name": "python",
   "nbconvert_exporter": "python",
   "pygments_lexer": "ipython3",
   "version": "3.9.7"
  }
 },
 "nbformat": 4,
 "nbformat_minor": 5
}
