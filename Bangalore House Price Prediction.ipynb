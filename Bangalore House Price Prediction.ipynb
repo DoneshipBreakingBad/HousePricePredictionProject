{
 "cells": [
  {
   "cell_type": "markdown",
   "id": "5c816fbd",
   "metadata": {},
   "source": [
    "# Project: Bangalore House Price Prediction Model"
   ]
  },
  {
   "cell_type": "code",
   "execution_count": 1,
   "id": "ab24b796",
   "metadata": {},
   "outputs": [],
   "source": [
    "# Importing necessary libraries\n",
    "\n",
    "import pandas as pd\n",
    "import numpy as np\n",
    "import matplotlib.pyplot as plt\n",
    "import seaborn as sns\n",
    "import warnings\n",
    "import re\n",
    "warnings.filterwarnings(\"ignore\")"
   ]
  },
  {
   "cell_type": "code",
   "execution_count": 2,
   "id": "20e70b2c",
   "metadata": {},
   "outputs": [],
   "source": [
    "# reading the excel dataset\n",
    "\n",
    "df = pd.read_excel(\"final_processed_data.xlsx\")"
   ]
  },
  {
   "cell_type": "code",
   "execution_count": 3,
   "id": "aae9402b",
   "metadata": {},
   "outputs": [
    {
     "data": {
      "text/html": [
       "<div>\n",
       "<style scoped>\n",
       "    .dataframe tbody tr th:only-of-type {\n",
       "        vertical-align: middle;\n",
       "    }\n",
       "\n",
       "    .dataframe tbody tr th {\n",
       "        vertical-align: top;\n",
       "    }\n",
       "\n",
       "    .dataframe thead th {\n",
       "        text-align: right;\n",
       "    }\n",
       "</style>\n",
       "<table border=\"1\" class=\"dataframe\">\n",
       "  <thead>\n",
       "    <tr style=\"text-align: right;\">\n",
       "      <th></th>\n",
       "      <th>Unnamed: 0</th>\n",
       "      <th>title</th>\n",
       "      <th>price</th>\n",
       "      <th>size</th>\n",
       "      <th>price_per_sqft</th>\n",
       "      <th>space</th>\n",
       "      <th>city</th>\n",
       "      <th>locality</th>\n",
       "    </tr>\n",
       "  </thead>\n",
       "  <tbody>\n",
       "    <tr>\n",
       "      <th>0</th>\n",
       "      <td>0</td>\n",
       "      <td>3 BHK Apartment in CasaGrand Casagrand Meridian</td>\n",
       "      <td>11800000.0</td>\n",
       "      <td>2037.0</td>\n",
       "      <td>5793.0</td>\n",
       "      <td>3 BHK</td>\n",
       "      <td>Bangalore</td>\n",
       "      <td>CasaGrand Casagrand Meridian</td>\n",
       "    </tr>\n",
       "    <tr>\n",
       "      <th>1</th>\n",
       "      <td>1</td>\n",
       "      <td>2 BHK Apartment in Shree Nandana Elite</td>\n",
       "      <td>5756000.0</td>\n",
       "      <td>1240.0</td>\n",
       "      <td>4642.0</td>\n",
       "      <td>2 BHK</td>\n",
       "      <td>Bangalore</td>\n",
       "      <td>Shree Nandana Elite</td>\n",
       "    </tr>\n",
       "    <tr>\n",
       "      <th>2</th>\n",
       "      <td>2</td>\n",
       "      <td>Residential Plot in Saroj Whispering Winds</td>\n",
       "      <td>3230000.0</td>\n",
       "      <td>2000.0</td>\n",
       "      <td>1615.0</td>\n",
       "      <td>Residential Plot</td>\n",
       "      <td>Bangalore</td>\n",
       "      <td>Saroj Whispering Winds</td>\n",
       "    </tr>\n",
       "    <tr>\n",
       "      <th>3</th>\n",
       "      <td>3</td>\n",
       "      <td>3 BHK Apartment in Navami Landmaark</td>\n",
       "      <td>13300000.0</td>\n",
       "      <td>1641.0</td>\n",
       "      <td>8133.0</td>\n",
       "      <td>3 BHK</td>\n",
       "      <td>Bangalore</td>\n",
       "      <td>Navami Landmaark</td>\n",
       "    </tr>\n",
       "    <tr>\n",
       "      <th>4</th>\n",
       "      <td>4</td>\n",
       "      <td>2 BHK Apartment in V Venture EVA</td>\n",
       "      <td>5532000.0</td>\n",
       "      <td>957.0</td>\n",
       "      <td>5787.0</td>\n",
       "      <td>2 BHK</td>\n",
       "      <td>Bangalore</td>\n",
       "      <td>V Venture EVA</td>\n",
       "    </tr>\n",
       "  </tbody>\n",
       "</table>\n",
       "</div>"
      ],
      "text/plain": [
       "   Unnamed: 0                                            title       price  \\\n",
       "0           0  3 BHK Apartment in CasaGrand Casagrand Meridian  11800000.0   \n",
       "1           1           2 BHK Apartment in Shree Nandana Elite   5756000.0   \n",
       "2           2       Residential Plot in Saroj Whispering Winds   3230000.0   \n",
       "3           3              3 BHK Apartment in Navami Landmaark  13300000.0   \n",
       "4           4                 2 BHK Apartment in V Venture EVA   5532000.0   \n",
       "\n",
       "     size  price_per_sqft             space       city  \\\n",
       "0  2037.0          5793.0             3 BHK  Bangalore   \n",
       "1  1240.0          4642.0             2 BHK  Bangalore   \n",
       "2  2000.0          1615.0  Residential Plot  Bangalore   \n",
       "3  1641.0          8133.0             3 BHK  Bangalore   \n",
       "4   957.0          5787.0             2 BHK  Bangalore   \n",
       "\n",
       "                       locality  \n",
       "0  CasaGrand Casagrand Meridian  \n",
       "1           Shree Nandana Elite  \n",
       "2        Saroj Whispering Winds  \n",
       "3              Navami Landmaark  \n",
       "4                 V Venture EVA  "
      ]
     },
     "execution_count": 3,
     "metadata": {},
     "output_type": "execute_result"
    }
   ],
   "source": [
    "# checking first 5 columns\n",
    "\n",
    "df.head()"
   ]
  },
  {
   "cell_type": "code",
   "execution_count": 4,
   "id": "0b52d97b",
   "metadata": {},
   "outputs": [],
   "source": [
    "df = df.rename(columns={'size': 'size_sqft'})"
   ]
  },
  {
   "cell_type": "code",
   "execution_count": 5,
   "id": "bd31134c",
   "metadata": {},
   "outputs": [
    {
     "data": {
      "text/html": [
       "<div>\n",
       "<style scoped>\n",
       "    .dataframe tbody tr th:only-of-type {\n",
       "        vertical-align: middle;\n",
       "    }\n",
       "\n",
       "    .dataframe tbody tr th {\n",
       "        vertical-align: top;\n",
       "    }\n",
       "\n",
       "    .dataframe thead th {\n",
       "        text-align: right;\n",
       "    }\n",
       "</style>\n",
       "<table border=\"1\" class=\"dataframe\">\n",
       "  <thead>\n",
       "    <tr style=\"text-align: right;\">\n",
       "      <th></th>\n",
       "      <th>Unnamed: 0</th>\n",
       "      <th>title</th>\n",
       "      <th>price</th>\n",
       "      <th>size_sqft</th>\n",
       "      <th>price_per_sqft</th>\n",
       "      <th>space</th>\n",
       "      <th>city</th>\n",
       "      <th>locality</th>\n",
       "    </tr>\n",
       "  </thead>\n",
       "  <tbody>\n",
       "    <tr>\n",
       "      <th>47997</th>\n",
       "      <td>47997</td>\n",
       "      <td>My Home Vihanga 3 BHK Flat  Gachibowli</td>\n",
       "      <td>1.850000e+07</td>\n",
       "      <td>1835.000000</td>\n",
       "      <td>1.008174e+04</td>\n",
       "      <td>3 BHK</td>\n",
       "      <td>Gachibowli</td>\n",
       "      <td>My Home Vihanga</td>\n",
       "    </tr>\n",
       "    <tr>\n",
       "      <th>47998</th>\n",
       "      <td>47998</td>\n",
       "      <td>Pacifica Hillcrest Phase 2 3 BHK Flat  Gachi...</td>\n",
       "      <td>1.270000e+07</td>\n",
       "      <td>2061.000000</td>\n",
       "      <td>6.162057e+03</td>\n",
       "      <td>3 BHK</td>\n",
       "      <td>Gachibowli</td>\n",
       "      <td>Pacifica Hillcrest Phase 2</td>\n",
       "    </tr>\n",
       "    <tr>\n",
       "      <th>47999</th>\n",
       "      <td>47999</td>\n",
       "      <td>Pacifica Hillcrest Phase 1 2 BHK Flat  Gachi...</td>\n",
       "      <td>1.200000e+07</td>\n",
       "      <td>886.000000</td>\n",
       "      <td>1.354402e+04</td>\n",
       "      <td>2 BHK</td>\n",
       "      <td>Gachibowli</td>\n",
       "      <td>Pacifica Hillcrest Phase 1</td>\n",
       "    </tr>\n",
       "    <tr>\n",
       "      <th>48000</th>\n",
       "      <td>48000</td>\n",
       "      <td>Gachibowli County Office Space in IT/SEZ Gac...</td>\n",
       "      <td>4.760000e+09</td>\n",
       "      <td>2048.266082</td>\n",
       "      <td>2.323917e+06</td>\n",
       "      <td>Unknown</td>\n",
       "      <td>Gachibowli</td>\n",
       "      <td>Gachibowli County</td>\n",
       "    </tr>\n",
       "    <tr>\n",
       "      <th>48001</th>\n",
       "      <td>48001</td>\n",
       "      <td>Prestige High Fields 2 BHK Flat  Gachibowli</td>\n",
       "      <td>1.380000e+07</td>\n",
       "      <td>892.000000</td>\n",
       "      <td>1.547085e+04</td>\n",
       "      <td>2 BHK</td>\n",
       "      <td>Gachibowli</td>\n",
       "      <td>Prestige High Fields</td>\n",
       "    </tr>\n",
       "  </tbody>\n",
       "</table>\n",
       "</div>"
      ],
      "text/plain": [
       "       Unnamed: 0                                              title  \\\n",
       "47997       47997            My Home Vihanga 3 BHK Flat  Gachibowli    \n",
       "47998       47998    Pacifica Hillcrest Phase 2 3 BHK Flat  Gachi...   \n",
       "47999       47999    Pacifica Hillcrest Phase 1 2 BHK Flat  Gachi...   \n",
       "48000       48000    Gachibowli County Office Space in IT/SEZ Gac...   \n",
       "48001       48001       Prestige High Fields 2 BHK Flat  Gachibowli    \n",
       "\n",
       "              price    size_sqft  price_per_sqft    space        city  \\\n",
       "47997  1.850000e+07  1835.000000    1.008174e+04    3 BHK  Gachibowli   \n",
       "47998  1.270000e+07  2061.000000    6.162057e+03    3 BHK  Gachibowli   \n",
       "47999  1.200000e+07   886.000000    1.354402e+04    2 BHK  Gachibowli   \n",
       "48000  4.760000e+09  2048.266082    2.323917e+06  Unknown  Gachibowli   \n",
       "48001  1.380000e+07   892.000000    1.547085e+04    2 BHK  Gachibowli   \n",
       "\n",
       "                          locality  \n",
       "47997              My Home Vihanga  \n",
       "47998   Pacifica Hillcrest Phase 2  \n",
       "47999   Pacifica Hillcrest Phase 1  \n",
       "48000            Gachibowli County  \n",
       "48001         Prestige High Fields  "
      ]
     },
     "execution_count": 5,
     "metadata": {},
     "output_type": "execute_result"
    }
   ],
   "source": [
    "# checking the last 5 columns\n",
    "\n",
    "df.tail()"
   ]
  },
  {
   "cell_type": "code",
   "execution_count": 6,
   "id": "ce89c49f",
   "metadata": {},
   "outputs": [
    {
     "data": {
      "text/plain": [
       "(48002, 8)"
      ]
     },
     "execution_count": 6,
     "metadata": {},
     "output_type": "execute_result"
    }
   ],
   "source": [
    "# cheking the shape of the dataset\n",
    "\n",
    "df.shape"
   ]
  },
  {
   "cell_type": "code",
   "execution_count": 7,
   "id": "e182dbe0",
   "metadata": {},
   "outputs": [],
   "source": [
    "# removing the unnecessary column Unnamed: 0 and status\n",
    "\n",
    "df = df.drop(['Unnamed: 0','title','locality'], axis=1)"
   ]
  },
  {
   "cell_type": "code",
   "execution_count": 8,
   "id": "f6bbc790",
   "metadata": {},
   "outputs": [
    {
     "data": {
      "text/html": [
       "<div>\n",
       "<style scoped>\n",
       "    .dataframe tbody tr th:only-of-type {\n",
       "        vertical-align: middle;\n",
       "    }\n",
       "\n",
       "    .dataframe tbody tr th {\n",
       "        vertical-align: top;\n",
       "    }\n",
       "\n",
       "    .dataframe thead th {\n",
       "        text-align: right;\n",
       "    }\n",
       "</style>\n",
       "<table border=\"1\" class=\"dataframe\">\n",
       "  <thead>\n",
       "    <tr style=\"text-align: right;\">\n",
       "      <th></th>\n",
       "      <th>price</th>\n",
       "      <th>size_sqft</th>\n",
       "      <th>price_per_sqft</th>\n",
       "      <th>space</th>\n",
       "      <th>city</th>\n",
       "    </tr>\n",
       "  </thead>\n",
       "  <tbody>\n",
       "    <tr>\n",
       "      <th>0</th>\n",
       "      <td>11800000.0</td>\n",
       "      <td>2037.0</td>\n",
       "      <td>5793.0</td>\n",
       "      <td>3 BHK</td>\n",
       "      <td>Bangalore</td>\n",
       "    </tr>\n",
       "    <tr>\n",
       "      <th>1</th>\n",
       "      <td>5756000.0</td>\n",
       "      <td>1240.0</td>\n",
       "      <td>4642.0</td>\n",
       "      <td>2 BHK</td>\n",
       "      <td>Bangalore</td>\n",
       "    </tr>\n",
       "    <tr>\n",
       "      <th>2</th>\n",
       "      <td>3230000.0</td>\n",
       "      <td>2000.0</td>\n",
       "      <td>1615.0</td>\n",
       "      <td>Residential Plot</td>\n",
       "      <td>Bangalore</td>\n",
       "    </tr>\n",
       "  </tbody>\n",
       "</table>\n",
       "</div>"
      ],
      "text/plain": [
       "        price  size_sqft  price_per_sqft             space       city\n",
       "0  11800000.0     2037.0          5793.0             3 BHK  Bangalore\n",
       "1   5756000.0     1240.0          4642.0             2 BHK  Bangalore\n",
       "2   3230000.0     2000.0          1615.0  Residential Plot  Bangalore"
      ]
     },
     "execution_count": 8,
     "metadata": {},
     "output_type": "execute_result"
    }
   ],
   "source": [
    "df.head(3)"
   ]
  },
  {
   "cell_type": "code",
   "execution_count": 9,
   "id": "25e3eea3",
   "metadata": {},
   "outputs": [],
   "source": [
    "# df.to_excel('final_processed_data_1.xlsx')"
   ]
  },
  {
   "cell_type": "markdown",
   "id": "5b009851",
   "metadata": {},
   "source": [
    "## Importing the merged data "
   ]
  },
  {
   "cell_type": "code",
   "execution_count": 10,
   "id": "46e99385",
   "metadata": {},
   "outputs": [],
   "source": [
    "df = pd.read_excel('Merged Data.xlsx')"
   ]
  },
  {
   "cell_type": "code",
   "execution_count": 11,
   "id": "73e7cc64",
   "metadata": {},
   "outputs": [
    {
     "data": {
      "text/html": [
       "<div>\n",
       "<style scoped>\n",
       "    .dataframe tbody tr th:only-of-type {\n",
       "        vertical-align: middle;\n",
       "    }\n",
       "\n",
       "    .dataframe tbody tr th {\n",
       "        vertical-align: top;\n",
       "    }\n",
       "\n",
       "    .dataframe thead th {\n",
       "        text-align: right;\n",
       "    }\n",
       "</style>\n",
       "<table border=\"1\" class=\"dataframe\">\n",
       "  <thead>\n",
       "    <tr style=\"text-align: right;\">\n",
       "      <th></th>\n",
       "      <th>Unnamed: 0</th>\n",
       "      <th>price</th>\n",
       "      <th>size_sqft</th>\n",
       "      <th>price_per_sqft</th>\n",
       "      <th>space</th>\n",
       "      <th>city</th>\n",
       "    </tr>\n",
       "  </thead>\n",
       "  <tbody>\n",
       "    <tr>\n",
       "      <th>0</th>\n",
       "      <td>0</td>\n",
       "      <td>11800000.0</td>\n",
       "      <td>2037.0</td>\n",
       "      <td>5793.0</td>\n",
       "      <td>3 BHK</td>\n",
       "      <td>Bangalore</td>\n",
       "    </tr>\n",
       "    <tr>\n",
       "      <th>1</th>\n",
       "      <td>1</td>\n",
       "      <td>5756000.0</td>\n",
       "      <td>1240.0</td>\n",
       "      <td>4642.0</td>\n",
       "      <td>2 BHK</td>\n",
       "      <td>Bangalore</td>\n",
       "    </tr>\n",
       "    <tr>\n",
       "      <th>2</th>\n",
       "      <td>2</td>\n",
       "      <td>3230000.0</td>\n",
       "      <td>2000.0</td>\n",
       "      <td>1615.0</td>\n",
       "      <td>plot</td>\n",
       "      <td>Bangalore</td>\n",
       "    </tr>\n",
       "    <tr>\n",
       "      <th>3</th>\n",
       "      <td>3</td>\n",
       "      <td>13300000.0</td>\n",
       "      <td>1641.0</td>\n",
       "      <td>8133.0</td>\n",
       "      <td>3 BHK</td>\n",
       "      <td>Bangalore</td>\n",
       "    </tr>\n",
       "    <tr>\n",
       "      <th>4</th>\n",
       "      <td>4</td>\n",
       "      <td>5532000.0</td>\n",
       "      <td>957.0</td>\n",
       "      <td>5787.0</td>\n",
       "      <td>2 BHK</td>\n",
       "      <td>Bangalore</td>\n",
       "    </tr>\n",
       "  </tbody>\n",
       "</table>\n",
       "</div>"
      ],
      "text/plain": [
       "   Unnamed: 0       price  size_sqft  price_per_sqft  space       city\n",
       "0           0  11800000.0     2037.0          5793.0  3 BHK  Bangalore\n",
       "1           1   5756000.0     1240.0          4642.0  2 BHK  Bangalore\n",
       "2           2   3230000.0     2000.0          1615.0   plot  Bangalore\n",
       "3           3  13300000.0     1641.0          8133.0  3 BHK  Bangalore\n",
       "4           4   5532000.0      957.0          5787.0  2 BHK  Bangalore"
      ]
     },
     "execution_count": 11,
     "metadata": {},
     "output_type": "execute_result"
    }
   ],
   "source": [
    "df.head()"
   ]
  },
  {
   "cell_type": "code",
   "execution_count": 12,
   "id": "adcbd0e8",
   "metadata": {},
   "outputs": [
    {
     "data": {
      "text/plain": [
       "(89961, 6)"
      ]
     },
     "execution_count": 12,
     "metadata": {},
     "output_type": "execute_result"
    }
   ],
   "source": [
    "df.shape"
   ]
  },
  {
   "cell_type": "code",
   "execution_count": 13,
   "id": "5a3b163a",
   "metadata": {},
   "outputs": [],
   "source": [
    "df = df.drop(['Unnamed: 0'], axis=1)"
   ]
  },
  {
   "cell_type": "code",
   "execution_count": 14,
   "id": "13a347d3",
   "metadata": {},
   "outputs": [
    {
     "data": {
      "text/html": [
       "<div>\n",
       "<style scoped>\n",
       "    .dataframe tbody tr th:only-of-type {\n",
       "        vertical-align: middle;\n",
       "    }\n",
       "\n",
       "    .dataframe tbody tr th {\n",
       "        vertical-align: top;\n",
       "    }\n",
       "\n",
       "    .dataframe thead th {\n",
       "        text-align: right;\n",
       "    }\n",
       "</style>\n",
       "<table border=\"1\" class=\"dataframe\">\n",
       "  <thead>\n",
       "    <tr style=\"text-align: right;\">\n",
       "      <th></th>\n",
       "      <th>price</th>\n",
       "      <th>size_sqft</th>\n",
       "      <th>price_per_sqft</th>\n",
       "      <th>space</th>\n",
       "      <th>city</th>\n",
       "    </tr>\n",
       "  </thead>\n",
       "  <tbody>\n",
       "    <tr>\n",
       "      <th>89956</th>\n",
       "      <td>592000.0</td>\n",
       "      <td>1485.0</td>\n",
       "      <td>398.653199</td>\n",
       "      <td>plot</td>\n",
       "      <td>Lucknow</td>\n",
       "    </tr>\n",
       "    <tr>\n",
       "      <th>89957</th>\n",
       "      <td>536000.0</td>\n",
       "      <td>1344.0</td>\n",
       "      <td>398.809524</td>\n",
       "      <td>plot</td>\n",
       "      <td>Lucknow</td>\n",
       "    </tr>\n",
       "    <tr>\n",
       "      <th>89958</th>\n",
       "      <td>669000.0</td>\n",
       "      <td>1677.0</td>\n",
       "      <td>398.926655</td>\n",
       "      <td>plot</td>\n",
       "      <td>Lucknow</td>\n",
       "    </tr>\n",
       "    <tr>\n",
       "      <th>89959</th>\n",
       "      <td>844000.0</td>\n",
       "      <td>1876.0</td>\n",
       "      <td>449.893390</td>\n",
       "      <td>plot</td>\n",
       "      <td>Lucknow</td>\n",
       "    </tr>\n",
       "    <tr>\n",
       "      <th>89960</th>\n",
       "      <td>1127000.0</td>\n",
       "      <td>2505.0</td>\n",
       "      <td>449.900200</td>\n",
       "      <td>plot</td>\n",
       "      <td>Lucknow</td>\n",
       "    </tr>\n",
       "  </tbody>\n",
       "</table>\n",
       "</div>"
      ],
      "text/plain": [
       "           price  size_sqft  price_per_sqft space     city\n",
       "89956   592000.0     1485.0      398.653199  plot  Lucknow\n",
       "89957   536000.0     1344.0      398.809524  plot  Lucknow\n",
       "89958   669000.0     1677.0      398.926655  plot  Lucknow\n",
       "89959   844000.0     1876.0      449.893390  plot  Lucknow\n",
       "89960  1127000.0     2505.0      449.900200  plot  Lucknow"
      ]
     },
     "execution_count": 14,
     "metadata": {},
     "output_type": "execute_result"
    }
   ],
   "source": [
    "df.tail()"
   ]
  },
  {
   "cell_type": "code",
   "execution_count": 15,
   "id": "c6a27113",
   "metadata": {},
   "outputs": [
    {
     "data": {
      "text/html": [
       "<div>\n",
       "<style scoped>\n",
       "    .dataframe tbody tr th:only-of-type {\n",
       "        vertical-align: middle;\n",
       "    }\n",
       "\n",
       "    .dataframe tbody tr th {\n",
       "        vertical-align: top;\n",
       "    }\n",
       "\n",
       "    .dataframe thead th {\n",
       "        text-align: right;\n",
       "    }\n",
       "</style>\n",
       "<table border=\"1\" class=\"dataframe\">\n",
       "  <thead>\n",
       "    <tr style=\"text-align: right;\">\n",
       "      <th></th>\n",
       "      <th>price</th>\n",
       "      <th>size_sqft</th>\n",
       "      <th>price_per_sqft</th>\n",
       "    </tr>\n",
       "  </thead>\n",
       "  <tbody>\n",
       "    <tr>\n",
       "      <th>count</th>\n",
       "      <td>8.996100e+04</td>\n",
       "      <td>8.996100e+04</td>\n",
       "      <td>8.995800e+04</td>\n",
       "    </tr>\n",
       "    <tr>\n",
       "      <th>mean</th>\n",
       "      <td>6.556827e+07</td>\n",
       "      <td>2.122146e+03</td>\n",
       "      <td>3.609435e+04</td>\n",
       "    </tr>\n",
       "    <tr>\n",
       "      <th>std</th>\n",
       "      <td>4.789347e+08</td>\n",
       "      <td>4.598007e+04</td>\n",
       "      <td>1.894491e+05</td>\n",
       "    </tr>\n",
       "    <tr>\n",
       "      <th>min</th>\n",
       "      <td>0.000000e+00</td>\n",
       "      <td>1.000000e+00</td>\n",
       "      <td>0.000000e+00</td>\n",
       "    </tr>\n",
       "    <tr>\n",
       "      <th>25%</th>\n",
       "      <td>4.800000e+06</td>\n",
       "      <td>1.130000e+03</td>\n",
       "      <td>3.759294e+03</td>\n",
       "    </tr>\n",
       "    <tr>\n",
       "      <th>50%</th>\n",
       "      <td>8.916000e+06</td>\n",
       "      <td>1.400000e+03</td>\n",
       "      <td>6.148148e+03</td>\n",
       "    </tr>\n",
       "    <tr>\n",
       "      <th>75%</th>\n",
       "      <td>2.812000e+07</td>\n",
       "      <td>1.900000e+03</td>\n",
       "      <td>1.481481e+04</td>\n",
       "    </tr>\n",
       "    <tr>\n",
       "      <th>max</th>\n",
       "      <td>7.695000e+10</td>\n",
       "      <td>1.350228e+07</td>\n",
       "      <td>2.700000e+07</td>\n",
       "    </tr>\n",
       "  </tbody>\n",
       "</table>\n",
       "</div>"
      ],
      "text/plain": [
       "              price     size_sqft  price_per_sqft\n",
       "count  8.996100e+04  8.996100e+04    8.995800e+04\n",
       "mean   6.556827e+07  2.122146e+03    3.609435e+04\n",
       "std    4.789347e+08  4.598007e+04    1.894491e+05\n",
       "min    0.000000e+00  1.000000e+00    0.000000e+00\n",
       "25%    4.800000e+06  1.130000e+03    3.759294e+03\n",
       "50%    8.916000e+06  1.400000e+03    6.148148e+03\n",
       "75%    2.812000e+07  1.900000e+03    1.481481e+04\n",
       "max    7.695000e+10  1.350228e+07    2.700000e+07"
      ]
     },
     "execution_count": 15,
     "metadata": {},
     "output_type": "execute_result"
    }
   ],
   "source": [
    "# getting the overall statistics of our data\n",
    "\n",
    "df.describe()"
   ]
  },
  {
   "cell_type": "code",
   "execution_count": 16,
   "id": "25317af8",
   "metadata": {
    "scrolled": true
   },
   "outputs": [
    {
     "name": "stdout",
     "output_type": "stream",
     "text": [
      "<class 'pandas.core.frame.DataFrame'>\n",
      "RangeIndex: 89961 entries, 0 to 89960\n",
      "Data columns (total 5 columns):\n",
      " #   Column          Non-Null Count  Dtype  \n",
      "---  ------          --------------  -----  \n",
      " 0   price           89961 non-null  float64\n",
      " 1   size_sqft       89961 non-null  float64\n",
      " 2   price_per_sqft  89958 non-null  float64\n",
      " 3   space           89961 non-null  object \n",
      " 4   city            89961 non-null  object \n",
      "dtypes: float64(3), object(2)\n",
      "memory usage: 3.4+ MB\n"
     ]
    }
   ],
   "source": [
    "# getting the overall information about the data\n",
    "\n",
    "df.info()"
   ]
  },
  {
   "cell_type": "markdown",
   "id": "595a9ffe",
   "metadata": {},
   "source": [
    "## Data Cleaning and Preprocessing"
   ]
  },
  {
   "cell_type": "code",
   "execution_count": 17,
   "id": "7b8638ea",
   "metadata": {},
   "outputs": [
    {
     "data": {
      "text/plain": [
       "7964"
      ]
     },
     "execution_count": 17,
     "metadata": {},
     "output_type": "execute_result"
    }
   ],
   "source": [
    "# checking for duplicates in the data\n",
    "\n",
    "df.duplicated().sum()"
   ]
  },
  {
   "cell_type": "code",
   "execution_count": 18,
   "id": "cd0fb70e",
   "metadata": {},
   "outputs": [],
   "source": [
    "# dropping the duplicated datas\n",
    "\n",
    "df = df.drop_duplicates()"
   ]
  },
  {
   "cell_type": "code",
   "execution_count": 19,
   "id": "c9284591",
   "metadata": {},
   "outputs": [],
   "source": [
    "# resetting the index of the DataFrame\n",
    "\n",
    "df.reset_index(drop=True, inplace=True)"
   ]
  },
  {
   "cell_type": "code",
   "execution_count": 20,
   "id": "ed5b02df",
   "metadata": {},
   "outputs": [
    {
     "data": {
      "text/plain": [
       "0"
      ]
     },
     "execution_count": 20,
     "metadata": {},
     "output_type": "execute_result"
    }
   ],
   "source": [
    "df.duplicated().sum()"
   ]
  },
  {
   "cell_type": "code",
   "execution_count": 21,
   "id": "c13c363d",
   "metadata": {},
   "outputs": [
    {
     "data": {
      "text/plain": [
       "price             0\n",
       "size_sqft         0\n",
       "price_per_sqft    3\n",
       "space             0\n",
       "city              0\n",
       "dtype: int64"
      ]
     },
     "execution_count": 21,
     "metadata": {},
     "output_type": "execute_result"
    }
   ],
   "source": [
    "# checking for null values\n",
    "\n",
    "df.isnull().sum()"
   ]
  },
  {
   "cell_type": "code",
   "execution_count": 22,
   "id": "8b50553d",
   "metadata": {},
   "outputs": [],
   "source": [
    "df = df.dropna()"
   ]
  },
  {
   "cell_type": "markdown",
   "id": "f45f6cd0",
   "metadata": {},
   "source": [
    "### Note\n",
    "- It is clearly noticable that size, price_per_sqft and status columns have empty data in them.\n",
    "- So we will need to remove those empty data so that our ML model works efficiently"
   ]
  },
  {
   "cell_type": "markdown",
   "id": "4939e06e",
   "metadata": {},
   "source": [
    "### Filling up the null values in the size column"
   ]
  },
  {
   "cell_type": "code",
   "execution_count": 59,
   "id": "7d290cd8",
   "metadata": {},
   "outputs": [],
   "source": [
    "#replacing the \" sqrt\" term from the size column\n",
    "\n",
    "# df['size'] = df['size'].str.replace(' sqft| Sq.Ft.', '')"
   ]
  },
  {
   "cell_type": "code",
   "execution_count": 60,
   "id": "dca85bc9",
   "metadata": {},
   "outputs": [],
   "source": [
    "# df['size']"
   ]
  },
  {
   "cell_type": "code",
   "execution_count": 61,
   "id": "5ded7d4a",
   "metadata": {},
   "outputs": [],
   "source": [
    "# # Convert the column to a numeric data type\n",
    "# df['size'] = pd.to_numeric(df['size'], errors='coerce')\n",
    "\n",
    "# # Calculate the mean, excluding NaN values\n",
    "# column_mean = df['size'].mean(skipna=True)\n",
    "\n",
    "# # Checking the mean value\n",
    "# print(column_mean)"
   ]
  },
  {
   "cell_type": "code",
   "execution_count": 62,
   "id": "047f2fff",
   "metadata": {},
   "outputs": [],
   "source": [
    "# df['size'].fillna(column_mean, inplace=True)"
   ]
  },
  {
   "cell_type": "code",
   "execution_count": 23,
   "id": "ab999c92",
   "metadata": {},
   "outputs": [],
   "source": [
    "# dropping the other null values\n",
    "\n",
    "df = df.dropna()"
   ]
  },
  {
   "cell_type": "code",
   "execution_count": 24,
   "id": "f98a0eaf",
   "metadata": {},
   "outputs": [
    {
     "data": {
      "text/plain": [
       "price             0\n",
       "size_sqft         0\n",
       "price_per_sqft    0\n",
       "space             0\n",
       "city              0\n",
       "dtype: int64"
      ]
     },
     "execution_count": 24,
     "metadata": {},
     "output_type": "execute_result"
    }
   ],
   "source": [
    "df.isnull().sum()"
   ]
  },
  {
   "cell_type": "markdown",
   "id": "c7d2ad0e",
   "metadata": {},
   "source": [
    "### Converting word price to numeric values"
   ]
  },
  {
   "cell_type": "code",
   "execution_count": 65,
   "id": "fdeab7f1",
   "metadata": {},
   "outputs": [],
   "source": [
    "# df['price'] = df['price'].astype(str)"
   ]
  },
  {
   "cell_type": "code",
   "execution_count": 66,
   "id": "3f772b47",
   "metadata": {},
   "outputs": [],
   "source": [
    "# df['price'] = df['price'].str.replace('₹', '')"
   ]
  },
  {
   "cell_type": "code",
   "execution_count": 67,
   "id": "7e7d64aa",
   "metadata": {},
   "outputs": [],
   "source": [
    "# def convert_value(value):\n",
    "#     if 'Cr' in value:\n",
    "#         return float(value.replace(' Cr', '')) * 10000000\n",
    "#     elif 'Lac' in value:\n",
    "#         return float(value.replace(' Lac', '')) * 100000\n",
    "#     elif 'L' in value:\n",
    "#         return float(value.replace(' L', '')) * 100000\n",
    "#     elif 'ac' in value:\n",
    "#         return float(value.replace('ac', '')) * 100000\n",
    "#     elif 'Call for Price' in value:\n",
    "#         return float(value.replace('Call for Price', '0')) * 0\n",
    "#     elif 'Price on Request' in value:\n",
    "#         return float(value.replace('Price on Request', '0')) * 0\n",
    "#     else:\n",
    "#         return float(value)\n",
    "\n",
    "# pd.options.display.float_format = '{:.2f}'.format\n",
    "# df['price'] = df['price'].apply(convert_value)"
   ]
  },
  {
   "cell_type": "code",
   "execution_count": 68,
   "id": "ed0964d0",
   "metadata": {},
   "outputs": [],
   "source": [
    "# df.tail(3)"
   ]
  },
  {
   "cell_type": "code",
   "execution_count": 69,
   "id": "b1eeb1ae",
   "metadata": {},
   "outputs": [],
   "source": [
    "# df.info()"
   ]
  },
  {
   "cell_type": "markdown",
   "id": "752b3fbb",
   "metadata": {},
   "source": [
    "### Preprocessing the price_per_sqft column of the DataFrame"
   ]
  },
  {
   "cell_type": "code",
   "execution_count": 70,
   "id": "57ee8f03",
   "metadata": {},
   "outputs": [],
   "source": [
    "#removing the unnecessary symbols\n",
    "\n",
    "# df['price_per_sqft'] = df['price_per_sqft'].str.replace(' / sq ft', '')\n",
    "# df['price_per_sqft'] = df['price_per_sqft'].str.replace(' per sqft', '')\n",
    "# df['price_per_sqft'] = df['price_per_sqft'].str.replace('₹', '')\n",
    "# df['price_per_sqft'] = df['price_per_sqft'].str.replace(',', '')"
   ]
  },
  {
   "cell_type": "code",
   "execution_count": 71,
   "id": "6608b30a",
   "metadata": {},
   "outputs": [],
   "source": [
    "#calculating the price_per_sqft to fill in the null values\n",
    "\n",
    "# def calculate_price_per_sqft(row):\n",
    "#     if pd.isna(row['price_per_sqft']):\n",
    "#         if row['price'] == 0:\n",
    "#             return 0\n",
    "#         else:\n",
    "#             return row['price'] / row['size']\n",
    "#     else:\n",
    "#         return row['price_per_sqft']\n",
    "\n",
    "# pd.options.display.float_format = '{:.2f}'.format\n",
    "# df['price_per_sqft'] = df.apply(calculate_price_per_sqft, axis=1)\n"
   ]
  },
  {
   "cell_type": "code",
   "execution_count": 72,
   "id": "573e4812",
   "metadata": {},
   "outputs": [],
   "source": [
    "#converting price_per_sqft to float Dtype\n",
    "\n",
    "# df['price_per_sqft']=df['price_per_sqft'].astype(float)"
   ]
  },
  {
   "cell_type": "markdown",
   "id": "f4ed5a6b",
   "metadata": {},
   "source": [
    "- <b><i> after bringing all the data to the standard format, we will check for duplicates again </i> </b>"
   ]
  },
  {
   "cell_type": "code",
   "execution_count": 25,
   "id": "b0d76e8c",
   "metadata": {},
   "outputs": [
    {
     "data": {
      "text/plain": [
       "0"
      ]
     },
     "execution_count": 25,
     "metadata": {},
     "output_type": "execute_result"
    }
   ],
   "source": [
    "df.duplicated().sum()"
   ]
  },
  {
   "cell_type": "code",
   "execution_count": 26,
   "id": "850d8cc4",
   "metadata": {},
   "outputs": [],
   "source": [
    "# dropping the duplicates\n",
    "df = df.drop_duplicates()"
   ]
  },
  {
   "cell_type": "code",
   "execution_count": 27,
   "id": "b3d2c1fd",
   "metadata": {},
   "outputs": [],
   "source": [
    "# dropping the values for which price is 0\n",
    "\n",
    "df = df.drop(df[df['price'] == 0].index)"
   ]
  },
  {
   "cell_type": "code",
   "execution_count": 28,
   "id": "f4d32c01",
   "metadata": {},
   "outputs": [
    {
     "data": {
      "text/plain": [
       "(81943, 5)"
      ]
     },
     "execution_count": 28,
     "metadata": {},
     "output_type": "execute_result"
    }
   ],
   "source": [
    "df.shape"
   ]
  },
  {
   "cell_type": "code",
   "execution_count": 29,
   "id": "8874805d",
   "metadata": {},
   "outputs": [],
   "source": [
    "df.reset_index(drop=True, inplace=True)"
   ]
  },
  {
   "cell_type": "code",
   "execution_count": 30,
   "id": "f042d8d2",
   "metadata": {},
   "outputs": [
    {
     "data": {
      "text/html": [
       "<div>\n",
       "<style scoped>\n",
       "    .dataframe tbody tr th:only-of-type {\n",
       "        vertical-align: middle;\n",
       "    }\n",
       "\n",
       "    .dataframe tbody tr th {\n",
       "        vertical-align: top;\n",
       "    }\n",
       "\n",
       "    .dataframe thead th {\n",
       "        text-align: right;\n",
       "    }\n",
       "</style>\n",
       "<table border=\"1\" class=\"dataframe\">\n",
       "  <thead>\n",
       "    <tr style=\"text-align: right;\">\n",
       "      <th></th>\n",
       "      <th>price</th>\n",
       "      <th>size_sqft</th>\n",
       "      <th>price_per_sqft</th>\n",
       "      <th>space</th>\n",
       "      <th>city</th>\n",
       "    </tr>\n",
       "  </thead>\n",
       "  <tbody>\n",
       "    <tr>\n",
       "      <th>81938</th>\n",
       "      <td>592000.0</td>\n",
       "      <td>1485.0</td>\n",
       "      <td>398.653199</td>\n",
       "      <td>plot</td>\n",
       "      <td>Lucknow</td>\n",
       "    </tr>\n",
       "    <tr>\n",
       "      <th>81939</th>\n",
       "      <td>536000.0</td>\n",
       "      <td>1344.0</td>\n",
       "      <td>398.809524</td>\n",
       "      <td>plot</td>\n",
       "      <td>Lucknow</td>\n",
       "    </tr>\n",
       "    <tr>\n",
       "      <th>81940</th>\n",
       "      <td>669000.0</td>\n",
       "      <td>1677.0</td>\n",
       "      <td>398.926655</td>\n",
       "      <td>plot</td>\n",
       "      <td>Lucknow</td>\n",
       "    </tr>\n",
       "    <tr>\n",
       "      <th>81941</th>\n",
       "      <td>844000.0</td>\n",
       "      <td>1876.0</td>\n",
       "      <td>449.893390</td>\n",
       "      <td>plot</td>\n",
       "      <td>Lucknow</td>\n",
       "    </tr>\n",
       "    <tr>\n",
       "      <th>81942</th>\n",
       "      <td>1127000.0</td>\n",
       "      <td>2505.0</td>\n",
       "      <td>449.900200</td>\n",
       "      <td>plot</td>\n",
       "      <td>Lucknow</td>\n",
       "    </tr>\n",
       "  </tbody>\n",
       "</table>\n",
       "</div>"
      ],
      "text/plain": [
       "           price  size_sqft  price_per_sqft space     city\n",
       "81938   592000.0     1485.0      398.653199  plot  Lucknow\n",
       "81939   536000.0     1344.0      398.809524  plot  Lucknow\n",
       "81940   669000.0     1677.0      398.926655  plot  Lucknow\n",
       "81941   844000.0     1876.0      449.893390  plot  Lucknow\n",
       "81942  1127000.0     2505.0      449.900200  plot  Lucknow"
      ]
     },
     "execution_count": 30,
     "metadata": {},
     "output_type": "execute_result"
    }
   ],
   "source": [
    "df.tail()"
   ]
  },
  {
   "cell_type": "code",
   "execution_count": 79,
   "id": "7fec9f8e",
   "metadata": {},
   "outputs": [],
   "source": [
    "# df.drop('title', axis=1, inplace=True)"
   ]
  },
  {
   "cell_type": "markdown",
   "id": "e281c560",
   "metadata": {},
   "source": [
    "### Saving the processed and clean data into another excel sheet"
   ]
  },
  {
   "cell_type": "code",
   "execution_count": 80,
   "id": "b0b671a7",
   "metadata": {},
   "outputs": [],
   "source": [
    "# df.to_excel('ready_for_EDA.xlsx')"
   ]
  },
  {
   "cell_type": "code",
   "execution_count": 31,
   "id": "17c8af0a",
   "metadata": {},
   "outputs": [],
   "source": [
    "dataFrame = df.copy()"
   ]
  },
  {
   "cell_type": "code",
   "execution_count": 32,
   "id": "9cfeab46",
   "metadata": {},
   "outputs": [],
   "source": [
    "dataFrame['space'] = df['space'].str.strip()\n"
   ]
  },
  {
   "cell_type": "code",
   "execution_count": 33,
   "id": "bd80208c",
   "metadata": {},
   "outputs": [
    {
     "data": {
      "text/plain": [
       "17"
      ]
     },
     "execution_count": 33,
     "metadata": {},
     "output_type": "execute_result"
    }
   ],
   "source": [
    "dataFrame['space'].nunique()"
   ]
  },
  {
   "cell_type": "code",
   "execution_count": 34,
   "id": "2a9df47a",
   "metadata": {},
   "outputs": [
    {
     "data": {
      "text/plain": [
       "plot       24882\n",
       "3 BHK      23709\n",
       "2 BHK      19699\n",
       "4 BHK       6948\n",
       "1 BHK       1932\n",
       "5 BHK       1475\n",
       "shop         892\n",
       "6 BHK        797\n",
       "office       524\n",
       "land         382\n",
       "7 BHK        195\n",
       "8 BHK        158\n",
       "0 BHK        106\n",
       "flat         104\n",
       "9 BHK         97\n",
       "Unknown       41\n",
       "66 BHK         2\n",
       "Name: space, dtype: int64"
      ]
     },
     "execution_count": 34,
     "metadata": {},
     "output_type": "execute_result"
    }
   ],
   "source": [
    "dataFrame['space'].value_counts()"
   ]
  },
  {
   "cell_type": "code",
   "execution_count": 52,
   "id": "cb8fba50",
   "metadata": {},
   "outputs": [],
   "source": [
    "dataFrame = dataFrame[~dataFrame['space'].isin(['flat', 'Unknown', 'land', 'office', 'shop', '0 BHK', 'plot'])]"
   ]
  },
  {
   "cell_type": "code",
   "execution_count": 53,
   "id": "070691dc",
   "metadata": {},
   "outputs": [
    {
     "data": {
      "text/plain": [
       "3 BHK     23709\n",
       "2 BHK     19699\n",
       "4 BHK      6948\n",
       "1 BHK      1932\n",
       "5 BHK      1475\n",
       "6 BHK       797\n",
       "7 BHK       195\n",
       "8 BHK       158\n",
       "9 BHK        97\n",
       "66 BHK        2\n",
       "Name: space, dtype: int64"
      ]
     },
     "execution_count": 53,
     "metadata": {},
     "output_type": "execute_result"
    }
   ],
   "source": [
    "dataFrame['space'].value_counts()"
   ]
  },
  {
   "cell_type": "markdown",
   "id": "c186fda4",
   "metadata": {},
   "source": [
    "- <b> from the space column, we can extract the accurate space provided</b>"
   ]
  },
  {
   "cell_type": "code",
   "execution_count": 54,
   "id": "5e4a2503",
   "metadata": {},
   "outputs": [],
   "source": [
    "def extract_size(space_value):\n",
    "    if 'BHK' in space_value:\n",
    "        size = space_value.split(' ')[0]\n",
    "        if size.isdigit():\n",
    "            return int(size)\n",
    "        else:\n",
    "            return 0\n",
    "#     elif 'Bedroom' in space_value:\n",
    "#         size = space_value.split(' ')[0]\n",
    "#         if size.isdigit():\n",
    "#             return int(size)\n",
    "#         else:\n",
    "#             return 0\n",
    "#     elif 'Residential' in space_value:\n",
    "#         return 'Residential'\n",
    "#     elif 'Unknown' in space_value:\n",
    "#         return 'Unknown'\n",
    "    elif 'plot' in space_value:\n",
    "        return 'plot'\n",
    "    else:\n",
    "        return 0"
   ]
  },
  {
   "cell_type": "code",
   "execution_count": 55,
   "id": "a5d48062",
   "metadata": {},
   "outputs": [],
   "source": [
    "dataFrame['BHK'] = dataFrame['space'].apply(extract_size).astype('str')"
   ]
  },
  {
   "cell_type": "code",
   "execution_count": 56,
   "id": "1b5d84c8",
   "metadata": {},
   "outputs": [
    {
     "data": {
      "text/plain": [
       "3     23709\n",
       "2     19699\n",
       "4      6948\n",
       "1      1932\n",
       "5      1475\n",
       "6       797\n",
       "7       195\n",
       "8       158\n",
       "9        97\n",
       "66        2\n",
       "Name: BHK, dtype: int64"
      ]
     },
     "execution_count": 56,
     "metadata": {},
     "output_type": "execute_result"
    }
   ],
   "source": [
    "counts = dataFrame['BHK'].value_counts()\n",
    "counts"
   ]
  },
  {
   "cell_type": "markdown",
   "id": "41b5db19",
   "metadata": {},
   "source": [
    "### - It is seen that, according to our project aim, we don't need certain house details, so it is better to drop those values"
   ]
  },
  {
   "cell_type": "code",
   "execution_count": 42,
   "id": "737414c7",
   "metadata": {},
   "outputs": [],
   "source": [
    "# values_to_drop = ['Residential', 'Unknown', 'Plot', '6+']\n",
    "# dataFrame = dataFrame[~dataFrame['BHK'].isin(values_to_drop)]\n",
    "# dataFrame.reset_index(drop=True, inplace=True)"
   ]
  },
  {
   "cell_type": "code",
   "execution_count": 57,
   "id": "5558ec58",
   "metadata": {},
   "outputs": [
    {
     "data": {
      "text/plain": [
       "3     23709\n",
       "2     19699\n",
       "4      6948\n",
       "1      1932\n",
       "5      1475\n",
       "6       797\n",
       "7       195\n",
       "8       158\n",
       "9        97\n",
       "66        2\n",
       "Name: BHK, dtype: int64"
      ]
     },
     "execution_count": 57,
     "metadata": {},
     "output_type": "execute_result"
    }
   ],
   "source": [
    "counts = dataFrame['BHK'].value_counts()\n",
    "counts"
   ]
  },
  {
   "cell_type": "markdown",
   "id": "dfa6960f",
   "metadata": {},
   "source": [
    "- <b>Now we are left out with only the numerical BHK type houses only</b>"
   ]
  },
  {
   "cell_type": "code",
   "execution_count": 73,
   "id": "9b1a5b0d",
   "metadata": {},
   "outputs": [],
   "source": [
    "dataFrame['BHK'] = dataFrame['BHK'].astype('float64')"
   ]
  },
  {
   "cell_type": "code",
   "execution_count": 76,
   "id": "25cec0e4",
   "metadata": {},
   "outputs": [],
   "source": [
    "dataFrame.drop(['space'], axis=1, inplace=True)"
   ]
  },
  {
   "cell_type": "code",
   "execution_count": 77,
   "id": "713def8c",
   "metadata": {},
   "outputs": [
    {
     "data": {
      "text/html": [
       "<div>\n",
       "<style scoped>\n",
       "    .dataframe tbody tr th:only-of-type {\n",
       "        vertical-align: middle;\n",
       "    }\n",
       "\n",
       "    .dataframe tbody tr th {\n",
       "        vertical-align: top;\n",
       "    }\n",
       "\n",
       "    .dataframe thead th {\n",
       "        text-align: right;\n",
       "    }\n",
       "</style>\n",
       "<table border=\"1\" class=\"dataframe\">\n",
       "  <thead>\n",
       "    <tr style=\"text-align: right;\">\n",
       "      <th></th>\n",
       "      <th>price</th>\n",
       "      <th>size_sqft</th>\n",
       "      <th>price_per_sqft</th>\n",
       "      <th>city</th>\n",
       "      <th>BHK</th>\n",
       "    </tr>\n",
       "  </thead>\n",
       "  <tbody>\n",
       "    <tr>\n",
       "      <th>0</th>\n",
       "      <td>11800000.0</td>\n",
       "      <td>2037.0</td>\n",
       "      <td>5793.0</td>\n",
       "      <td>Bangalore</td>\n",
       "      <td>3.0</td>\n",
       "    </tr>\n",
       "    <tr>\n",
       "      <th>1</th>\n",
       "      <td>5756000.0</td>\n",
       "      <td>1240.0</td>\n",
       "      <td>4642.0</td>\n",
       "      <td>Bangalore</td>\n",
       "      <td>2.0</td>\n",
       "    </tr>\n",
       "    <tr>\n",
       "      <th>3</th>\n",
       "      <td>13300000.0</td>\n",
       "      <td>1641.0</td>\n",
       "      <td>8133.0</td>\n",
       "      <td>Bangalore</td>\n",
       "      <td>3.0</td>\n",
       "    </tr>\n",
       "    <tr>\n",
       "      <th>4</th>\n",
       "      <td>5532000.0</td>\n",
       "      <td>957.0</td>\n",
       "      <td>5787.0</td>\n",
       "      <td>Bangalore</td>\n",
       "      <td>2.0</td>\n",
       "    </tr>\n",
       "    <tr>\n",
       "      <th>5</th>\n",
       "      <td>8347000.0</td>\n",
       "      <td>1575.0</td>\n",
       "      <td>5300.0</td>\n",
       "      <td>Bangalore</td>\n",
       "      <td>3.0</td>\n",
       "    </tr>\n",
       "  </tbody>\n",
       "</table>\n",
       "</div>"
      ],
      "text/plain": [
       "        price  size_sqft  price_per_sqft       city  BHK\n",
       "0  11800000.0     2037.0          5793.0  Bangalore  3.0\n",
       "1   5756000.0     1240.0          4642.0  Bangalore  2.0\n",
       "3  13300000.0     1641.0          8133.0  Bangalore  3.0\n",
       "4   5532000.0      957.0          5787.0  Bangalore  2.0\n",
       "5   8347000.0     1575.0          5300.0  Bangalore  3.0"
      ]
     },
     "execution_count": 77,
     "metadata": {},
     "output_type": "execute_result"
    }
   ],
   "source": [
    "dataFrame.head()"
   ]
  },
  {
   "cell_type": "code",
   "execution_count": 78,
   "id": "9d26bf35",
   "metadata": {},
   "outputs": [
    {
     "name": "stdout",
     "output_type": "stream",
     "text": [
      "<class 'pandas.core.frame.DataFrame'>\n",
      "Int64Index: 55012 entries, 0 to 81907\n",
      "Data columns (total 5 columns):\n",
      " #   Column          Non-Null Count  Dtype  \n",
      "---  ------          --------------  -----  \n",
      " 0   price           55012 non-null  float64\n",
      " 1   size_sqft       55012 non-null  float64\n",
      " 2   price_per_sqft  55012 non-null  float64\n",
      " 3   city            55012 non-null  object \n",
      " 4   BHK             55012 non-null  float64\n",
      "dtypes: float64(4), object(1)\n",
      "memory usage: 4.5+ MB\n"
     ]
    }
   ],
   "source": [
    "dataFrame.info()"
   ]
  },
  {
   "cell_type": "markdown",
   "id": "c1128365",
   "metadata": {},
   "source": [
    "<h1><b>Exploratory Data Analysis</b></h1>"
   ]
  },
  {
   "cell_type": "code",
   "execution_count": 79,
   "id": "cdff6b3f",
   "metadata": {},
   "outputs": [
    {
     "name": "stdout",
     "output_type": "stream",
     "text": [
      "Object Columns:\n",
      "Index(['city'], dtype='object')\n",
      "\n",
      "Numerical Columns:\n",
      "Index(['price', 'size_sqft', 'price_per_sqft', 'BHK'], dtype='object')\n"
     ]
    }
   ],
   "source": [
    "object_columns = dataFrame.select_dtypes(include='object').columns\n",
    "print(\"Object Columns:\")\n",
    "print(object_columns)\n",
    "print()\n",
    "\n",
    "numerical_columns = dataFrame.select_dtypes(include=['int64', 'float64']).columns\n",
    "print(\"Numerical Columns:\")\n",
    "print(numerical_columns)"
   ]
  },
  {
   "cell_type": "code",
   "execution_count": 80,
   "id": "cf9ca55f",
   "metadata": {},
   "outputs": [
    {
     "data": {
      "image/png": "[encoded data removed]",
      "text/plain": [
       "<Figure size 1296x720 with 1 Axes>"
      ]
     },
     "metadata": {
      "needs_background": "light"
     },
     "output_type": "display_data"
    }
   ],
   "source": [
    "plt.figure(figsize=(18,10))\n",
    "sns.countplot('BHK', data = dataFrame, palette = 'hls')\n",
    "plt.xticks(rotation = 90)\n",
    "plt.show()"
   ]
  },
  {
   "cell_type": "code",
   "execution_count": 100,
   "id": "c1cfbac8",
   "metadata": {},
   "outputs": [],
   "source": [
    "df1 = dataFrame.copy()"
   ]
  },
  {
   "cell_type": "code",
   "execution_count": 101,
   "id": "42785354",
   "metadata": {},
   "outputs": [
    {
     "data": {
      "text/plain": [
       "(55012, 5)"
      ]
     },
     "execution_count": 101,
     "metadata": {},
     "output_type": "execute_result"
    }
   ],
   "source": [
    "df1.shape"
   ]
  },
  {
   "cell_type": "code",
   "execution_count": 102,
   "id": "b22526bc",
   "metadata": {},
   "outputs": [
    {
     "data": {
      "text/plain": [
       "8"
      ]
     },
     "execution_count": 102,
     "metadata": {},
     "output_type": "execute_result"
    }
   ],
   "source": [
    "len(df1.city.unique())"
   ]
  },
  {
   "cell_type": "code",
   "execution_count": 103,
   "id": "84a619e2",
   "metadata": {},
   "outputs": [
    {
     "data": {
      "text/plain": [
       "Bangalore        33254\n",
       "Greater Noida     6054\n",
       "Hyderabad         5527\n",
       "Faridabad         4430\n",
       "Lucknow           3050\n",
       "Ghaziabad         1788\n",
       "Gachibowli         637\n",
       "Mysore             272\n",
       "Name: city, dtype: int64"
      ]
     },
     "execution_count": 103,
     "metadata": {},
     "output_type": "execute_result"
    }
   ],
   "source": [
    "df1['city'].value_counts()"
   ]
  },
  {
   "cell_type": "code",
   "execution_count": 104,
   "id": "7a23bb7f",
   "metadata": {},
   "outputs": [
    {
     "data": {
      "text/html": [
       "<div>\n",
       "<style scoped>\n",
       "    .dataframe tbody tr th:only-of-type {\n",
       "        vertical-align: middle;\n",
       "    }\n",
       "\n",
       "    .dataframe tbody tr th {\n",
       "        vertical-align: top;\n",
       "    }\n",
       "\n",
       "    .dataframe thead th {\n",
       "        text-align: right;\n",
       "    }\n",
       "</style>\n",
       "<table border=\"1\" class=\"dataframe\">\n",
       "  <thead>\n",
       "    <tr style=\"text-align: right;\">\n",
       "      <th></th>\n",
       "      <th>price</th>\n",
       "      <th>size_sqft</th>\n",
       "      <th>price_per_sqft</th>\n",
       "      <th>city</th>\n",
       "      <th>BHK</th>\n",
       "    </tr>\n",
       "  </thead>\n",
       "  <tbody>\n",
       "    <tr>\n",
       "      <th>0</th>\n",
       "      <td>11800000.0</td>\n",
       "      <td>2037.0</td>\n",
       "      <td>5793.0</td>\n",
       "      <td>Bangalore</td>\n",
       "      <td>3.0</td>\n",
       "    </tr>\n",
       "    <tr>\n",
       "      <th>1</th>\n",
       "      <td>5756000.0</td>\n",
       "      <td>1240.0</td>\n",
       "      <td>4642.0</td>\n",
       "      <td>Bangalore</td>\n",
       "      <td>2.0</td>\n",
       "    </tr>\n",
       "    <tr>\n",
       "      <th>3</th>\n",
       "      <td>13300000.0</td>\n",
       "      <td>1641.0</td>\n",
       "      <td>8133.0</td>\n",
       "      <td>Bangalore</td>\n",
       "      <td>3.0</td>\n",
       "    </tr>\n",
       "    <tr>\n",
       "      <th>4</th>\n",
       "      <td>5532000.0</td>\n",
       "      <td>957.0</td>\n",
       "      <td>5787.0</td>\n",
       "      <td>Bangalore</td>\n",
       "      <td>2.0</td>\n",
       "    </tr>\n",
       "    <tr>\n",
       "      <th>5</th>\n",
       "      <td>8347000.0</td>\n",
       "      <td>1575.0</td>\n",
       "      <td>5300.0</td>\n",
       "      <td>Bangalore</td>\n",
       "      <td>3.0</td>\n",
       "    </tr>\n",
       "  </tbody>\n",
       "</table>\n",
       "</div>"
      ],
      "text/plain": [
       "        price  size_sqft  price_per_sqft       city  BHK\n",
       "0  11800000.0     2037.0          5793.0  Bangalore  3.0\n",
       "1   5756000.0     1240.0          4642.0  Bangalore  2.0\n",
       "3  13300000.0     1641.0          8133.0  Bangalore  3.0\n",
       "4   5532000.0      957.0          5787.0  Bangalore  2.0\n",
       "5   8347000.0     1575.0          5300.0  Bangalore  3.0"
      ]
     },
     "execution_count": 104,
     "metadata": {},
     "output_type": "execute_result"
    }
   ],
   "source": [
    "df1.head()"
   ]
  },
  {
   "cell_type": "code",
   "execution_count": 105,
   "id": "0671fe53",
   "metadata": {},
   "outputs": [
    {
     "data": {
      "text/html": [
       "<div>\n",
       "<style scoped>\n",
       "    .dataframe tbody tr th:only-of-type {\n",
       "        vertical-align: middle;\n",
       "    }\n",
       "\n",
       "    .dataframe tbody tr th {\n",
       "        vertical-align: top;\n",
       "    }\n",
       "\n",
       "    .dataframe thead th {\n",
       "        text-align: right;\n",
       "    }\n",
       "</style>\n",
       "<table border=\"1\" class=\"dataframe\">\n",
       "  <thead>\n",
       "    <tr style=\"text-align: right;\">\n",
       "      <th></th>\n",
       "      <th>price</th>\n",
       "      <th>size_sqft</th>\n",
       "      <th>price_per_sqft</th>\n",
       "      <th>city</th>\n",
       "      <th>BHK</th>\n",
       "    </tr>\n",
       "  </thead>\n",
       "  <tbody>\n",
       "    <tr>\n",
       "      <th>72</th>\n",
       "      <td>5898000.0</td>\n",
       "      <td>703.0</td>\n",
       "      <td>8391.0</td>\n",
       "      <td>Bangalore</td>\n",
       "      <td>3.0</td>\n",
       "    </tr>\n",
       "    <tr>\n",
       "      <th>536</th>\n",
       "      <td>1199000.0</td>\n",
       "      <td>610.0</td>\n",
       "      <td>1967.0</td>\n",
       "      <td>Bangalore</td>\n",
       "      <td>3.0</td>\n",
       "    </tr>\n",
       "    <tr>\n",
       "      <th>796</th>\n",
       "      <td>5798000.0</td>\n",
       "      <td>702.0</td>\n",
       "      <td>8272.0</td>\n",
       "      <td>Bangalore</td>\n",
       "      <td>3.0</td>\n",
       "    </tr>\n",
       "    <tr>\n",
       "      <th>2826</th>\n",
       "      <td>11200000.0</td>\n",
       "      <td>702.0</td>\n",
       "      <td>16000.0</td>\n",
       "      <td>Bangalore</td>\n",
       "      <td>3.0</td>\n",
       "    </tr>\n",
       "    <tr>\n",
       "      <th>5379</th>\n",
       "      <td>4999000.0</td>\n",
       "      <td>463.0</td>\n",
       "      <td>10821.0</td>\n",
       "      <td>Bangalore</td>\n",
       "      <td>2.0</td>\n",
       "    </tr>\n",
       "  </tbody>\n",
       "</table>\n",
       "</div>"
      ],
      "text/plain": [
       "           price  size_sqft  price_per_sqft       city  BHK\n",
       "72     5898000.0      703.0          8391.0  Bangalore  3.0\n",
       "536    1199000.0      610.0          1967.0  Bangalore  3.0\n",
       "796    5798000.0      702.0          8272.0  Bangalore  3.0\n",
       "2826  11200000.0      702.0         16000.0  Bangalore  3.0\n",
       "5379   4999000.0      463.0         10821.0  Bangalore  2.0"
      ]
     },
     "execution_count": 105,
     "metadata": {},
     "output_type": "execute_result"
    }
   ],
   "source": [
    "df1[df1.size_sqft/df1.BHK < 250].head()"
   ]
  },
  {
   "cell_type": "code",
   "execution_count": 155,
   "id": "85e7afe0",
   "metadata": {},
   "outputs": [
    {
     "data": {
      "text/html": [
       "<div>\n",
       "<style scoped>\n",
       "    .dataframe tbody tr th:only-of-type {\n",
       "        vertical-align: middle;\n",
       "    }\n",
       "\n",
       "    .dataframe tbody tr th {\n",
       "        vertical-align: top;\n",
       "    }\n",
       "\n",
       "    .dataframe thead th {\n",
       "        text-align: right;\n",
       "    }\n",
       "</style>\n",
       "<table border=\"1\" class=\"dataframe\">\n",
       "  <thead>\n",
       "    <tr style=\"text-align: right;\">\n",
       "      <th></th>\n",
       "      <th>price</th>\n",
       "      <th>size_sqft</th>\n",
       "      <th>price_per_sqft</th>\n",
       "      <th>city</th>\n",
       "      <th>BHK</th>\n",
       "    </tr>\n",
       "  </thead>\n",
       "  <tbody>\n",
       "    <tr>\n",
       "      <th>0</th>\n",
       "      <td>11800000.0</td>\n",
       "      <td>2037.0</td>\n",
       "      <td>5793.0</td>\n",
       "      <td>Bangalore</td>\n",
       "      <td>3.0</td>\n",
       "    </tr>\n",
       "    <tr>\n",
       "      <th>1</th>\n",
       "      <td>5756000.0</td>\n",
       "      <td>1240.0</td>\n",
       "      <td>4642.0</td>\n",
       "      <td>Bangalore</td>\n",
       "      <td>2.0</td>\n",
       "    </tr>\n",
       "    <tr>\n",
       "      <th>3</th>\n",
       "      <td>13300000.0</td>\n",
       "      <td>1641.0</td>\n",
       "      <td>8133.0</td>\n",
       "      <td>Bangalore</td>\n",
       "      <td>3.0</td>\n",
       "    </tr>\n",
       "    <tr>\n",
       "      <th>4</th>\n",
       "      <td>5532000.0</td>\n",
       "      <td>957.0</td>\n",
       "      <td>5787.0</td>\n",
       "      <td>Bangalore</td>\n",
       "      <td>2.0</td>\n",
       "    </tr>\n",
       "    <tr>\n",
       "      <th>5</th>\n",
       "      <td>8347000.0</td>\n",
       "      <td>1575.0</td>\n",
       "      <td>5300.0</td>\n",
       "      <td>Bangalore</td>\n",
       "      <td>3.0</td>\n",
       "    </tr>\n",
       "  </tbody>\n",
       "</table>\n",
       "</div>"
      ],
      "text/plain": [
       "        price  size_sqft  price_per_sqft       city  BHK\n",
       "0  11800000.0     2037.0          5793.0  Bangalore  3.0\n",
       "1   5756000.0     1240.0          4642.0  Bangalore  2.0\n",
       "3  13300000.0     1641.0          8133.0  Bangalore  3.0\n",
       "4   5532000.0      957.0          5787.0  Bangalore  2.0\n",
       "5   8347000.0     1575.0          5300.0  Bangalore  3.0"
      ]
     },
     "execution_count": 155,
     "metadata": {},
     "output_type": "execute_result"
    }
   ],
   "source": [
    "df2 = df1[~(df1.size_sqft/df1.BHK < 300)]\n",
    "df2.head()"
   ]
  },
  {
   "cell_type": "code",
   "execution_count": 156,
   "id": "56070256",
   "metadata": {},
   "outputs": [
    {
     "data": {
      "text/plain": [
       "(52562, 5)"
      ]
     },
     "execution_count": 156,
     "metadata": {},
     "output_type": "execute_result"
    }
   ],
   "source": [
    "df2.shape"
   ]
  },
  {
   "cell_type": "code",
   "execution_count": 157,
   "id": "c51e6691",
   "metadata": {},
   "outputs": [
    {
     "data": {
      "text/plain": [
       "count    5.256200e+04\n",
       "mean     3.483650e+04\n",
       "std      1.445218e+05\n",
       "min      2.257423e+00\n",
       "25%      5.120482e+03\n",
       "50%      7.083000e+03\n",
       "75%      2.190095e+04\n",
       "max      6.719665e+06\n",
       "Name: price_per_sqft, dtype: float64"
      ]
     },
     "execution_count": 157,
     "metadata": {},
     "output_type": "execute_result"
    }
   ],
   "source": [
    "df2['price_per_sqft'].describe()"
   ]
  },
  {
   "cell_type": "code",
   "execution_count": 158,
   "id": "ff3f7ea0",
   "metadata": {},
   "outputs": [
    {
     "data": {
      "image/png": "[encoded data removed]",
      "text/plain": [
       "<Figure size 1080x432 with 1 Axes>"
      ]
     },
     "metadata": {
      "needs_background": "light"
     },
     "output_type": "display_data"
    }
   ],
   "source": [
    "plt.figure(figsize=(15,6))\n",
    "sns.boxplot('price_per_sqft', data = df2, palette='hls')\n",
    "plt.xticks(rotation = 90)\n",
    "plt.show()"
   ]
  },
  {
   "cell_type": "code",
   "execution_count": 159,
   "id": "7ae89d05",
   "metadata": {},
   "outputs": [
    {
     "data": {
      "text/html": [
       "<div>\n",
       "<style scoped>\n",
       "    .dataframe tbody tr th:only-of-type {\n",
       "        vertical-align: middle;\n",
       "    }\n",
       "\n",
       "    .dataframe tbody tr th {\n",
       "        vertical-align: top;\n",
       "    }\n",
       "\n",
       "    .dataframe thead th {\n",
       "        text-align: right;\n",
       "    }\n",
       "</style>\n",
       "<table border=\"1\" class=\"dataframe\">\n",
       "  <thead>\n",
       "    <tr style=\"text-align: right;\">\n",
       "      <th></th>\n",
       "      <th>price</th>\n",
       "      <th>size_sqft</th>\n",
       "      <th>price_per_sqft</th>\n",
       "      <th>city</th>\n",
       "      <th>BHK</th>\n",
       "    </tr>\n",
       "  </thead>\n",
       "  <tbody>\n",
       "    <tr>\n",
       "      <th>0</th>\n",
       "      <td>118.00</td>\n",
       "      <td>2037.0</td>\n",
       "      <td>5793.0</td>\n",
       "      <td>Bangalore</td>\n",
       "      <td>3.0</td>\n",
       "    </tr>\n",
       "    <tr>\n",
       "      <th>1</th>\n",
       "      <td>57.56</td>\n",
       "      <td>1240.0</td>\n",
       "      <td>4642.0</td>\n",
       "      <td>Bangalore</td>\n",
       "      <td>2.0</td>\n",
       "    </tr>\n",
       "    <tr>\n",
       "      <th>3</th>\n",
       "      <td>133.00</td>\n",
       "      <td>1641.0</td>\n",
       "      <td>8133.0</td>\n",
       "      <td>Bangalore</td>\n",
       "      <td>3.0</td>\n",
       "    </tr>\n",
       "    <tr>\n",
       "      <th>4</th>\n",
       "      <td>55.32</td>\n",
       "      <td>957.0</td>\n",
       "      <td>5787.0</td>\n",
       "      <td>Bangalore</td>\n",
       "      <td>2.0</td>\n",
       "    </tr>\n",
       "    <tr>\n",
       "      <th>5</th>\n",
       "      <td>83.47</td>\n",
       "      <td>1575.0</td>\n",
       "      <td>5300.0</td>\n",
       "      <td>Bangalore</td>\n",
       "      <td>3.0</td>\n",
       "    </tr>\n",
       "    <tr>\n",
       "      <th>6</th>\n",
       "      <td>150.00</td>\n",
       "      <td>1770.0</td>\n",
       "      <td>8509.0</td>\n",
       "      <td>Bangalore</td>\n",
       "      <td>3.0</td>\n",
       "    </tr>\n",
       "    <tr>\n",
       "      <th>8</th>\n",
       "      <td>89.36</td>\n",
       "      <td>2079.0</td>\n",
       "      <td>4298.0</td>\n",
       "      <td>Bangalore</td>\n",
       "      <td>3.0</td>\n",
       "    </tr>\n",
       "    <tr>\n",
       "      <th>9</th>\n",
       "      <td>209.00</td>\n",
       "      <td>2945.0</td>\n",
       "      <td>7123.0</td>\n",
       "      <td>Bangalore</td>\n",
       "      <td>3.0</td>\n",
       "    </tr>\n",
       "    <tr>\n",
       "      <th>10</th>\n",
       "      <td>175.00</td>\n",
       "      <td>1950.0</td>\n",
       "      <td>8974.0</td>\n",
       "      <td>Bangalore</td>\n",
       "      <td>4.0</td>\n",
       "    </tr>\n",
       "    <tr>\n",
       "      <th>12</th>\n",
       "      <td>341.00</td>\n",
       "      <td>3067.0</td>\n",
       "      <td>11118.0</td>\n",
       "      <td>Bangalore</td>\n",
       "      <td>4.0</td>\n",
       "    </tr>\n",
       "  </tbody>\n",
       "</table>\n",
       "</div>"
      ],
      "text/plain": [
       "     price  size_sqft  price_per_sqft       city  BHK\n",
       "0   118.00     2037.0          5793.0  Bangalore  3.0\n",
       "1    57.56     1240.0          4642.0  Bangalore  2.0\n",
       "3   133.00     1641.0          8133.0  Bangalore  3.0\n",
       "4    55.32      957.0          5787.0  Bangalore  2.0\n",
       "5    83.47     1575.0          5300.0  Bangalore  3.0\n",
       "6   150.00     1770.0          8509.0  Bangalore  3.0\n",
       "8    89.36     2079.0          4298.0  Bangalore  3.0\n",
       "9   209.00     2945.0          7123.0  Bangalore  3.0\n",
       "10  175.00     1950.0          8974.0  Bangalore  4.0\n",
       "12  341.00     3067.0         11118.0  Bangalore  4.0"
      ]
     },
     "execution_count": 159,
     "metadata": {},
     "output_type": "execute_result"
    }
   ],
   "source": [
    "# bringing the price to lakh\n",
    "df2['price'] = df2['price']/100000\n",
    "df2.head(10)"
   ]
  },
  {
   "cell_type": "code",
   "execution_count": 160,
   "id": "e41d6f77",
   "metadata": {},
   "outputs": [],
   "source": [
    "df3 = df2[~(df2['price_per_sqft']>50000)]"
   ]
  },
  {
   "cell_type": "code",
   "execution_count": 161,
   "id": "9e78e166",
   "metadata": {},
   "outputs": [
    {
     "data": {
      "text/plain": [
       "(46175, 5)"
      ]
     },
     "execution_count": 161,
     "metadata": {},
     "output_type": "execute_result"
    }
   ],
   "source": [
    "# def remove_pps_outliers(dataFrame1):\n",
    "#     df_out = pd.DataFrame()\n",
    "#     for key, subdf in dataFrame1.groupby('city'):\n",
    "#         m = np.mean(subdf.price_per_sqft)\n",
    "#         st = np.std(subdf.price_per_sqft)\n",
    "#         reduced_df = subdf[(subdf.price_per_sqft>(m-st))& (subdf.price_per_sqft<(m+st))]\n",
    "#         df_out = pd.concat([df_out, reduced_df], ignore_index = True)\n",
    "#     return df_out\n",
    "# df3 = remove_pps_outliers(df2)\n",
    "df3.shape"
   ]
  },
  {
   "cell_type": "code",
   "execution_count": 162,
   "id": "f3b7cb26",
   "metadata": {},
   "outputs": [
    {
     "data": {
      "image/png": "[encoded data removed]",
      "text/plain": [
       "<Figure size 1080x432 with 1 Axes>"
      ]
     },
     "metadata": {
      "needs_background": "light"
     },
     "output_type": "display_data"
    }
   ],
   "source": [
    "plt.figure(figsize=(15,6))\n",
    "sns.boxplot('price_per_sqft', data = df3, palette='hls')\n",
    "plt.xticks(rotation = 90)\n",
    "plt.show()"
   ]
  },
  {
   "cell_type": "code",
   "execution_count": 164,
   "id": "820d3507",
   "metadata": {},
   "outputs": [
    {
     "data": {
      "image/png": "[encoded data removed]",
      "text/plain": [
       "<Figure size 1080x432 with 1 Axes>"
      ]
     },
     "metadata": {
      "needs_background": "light"
     },
     "output_type": "display_data"
    }
   ],
   "source": [
    "plt.figure(figsize=(15,6))\n",
    "sns.boxplot('BHK', data = df3, palette = 'hls')\n",
    "plt.xticks(rotation = 90)\n",
    "plt.show()"
   ]
  },
  {
   "cell_type": "code",
   "execution_count": 168,
   "id": "071d88c2",
   "metadata": {},
   "outputs": [],
   "source": [
    "df3.to_excel('data_ready_for_model_building.xlsx')"
   ]
  },
  {
   "cell_type": "code",
   "execution_count": null,
   "id": "21fa11bd",
   "metadata": {},
   "outputs": [],
   "source": []
  }
 ],
 "metadata": {
  "kernelspec": {
   "display_name": "Python 3 (ipykernel)",
   "language": "python",
   "name": "python3"
  },
  "language_info": {
   "codemirror_mode": {
    "name": "ipython",
    "version": 3
   },
   "file_extension": ".py",
   "mimetype": "text/x-python",
   "name": "python",
   "nbconvert_exporter": "python",
   "pygments_lexer": "ipython3",
   "version": "3.9.7"
  }
 },
 "nbformat": 4,
 "nbformat_minor": 5
}
